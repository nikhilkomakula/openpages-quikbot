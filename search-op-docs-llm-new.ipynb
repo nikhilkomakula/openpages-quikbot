{
 "cells": [
  {
   "cell_type": "code",
   "execution_count": 1,
   "metadata": {
    "tags": []
   },
   "outputs": [
    {
     "name": "stderr",
     "output_type": "stream",
     "text": [
      "/home/studio-lab-user/.conda/envs/llmenv/lib/python3.11/site-packages/genai/schemas/__init__.py:10: DeprecationWarning: \u001b[33;20m\n",
      "The class ModelType is being deprecated.\n",
      "Please replace any reference to ModelType by its model id string equivalent.\n",
      "Example :\n",
      "  ModelType.FLAN_T5 becomes \"google/flan-t5-xxl\"\u001b[0m\n",
      "\n",
      "  from genai.schemas.models import ModelType\n"
     ]
    }
   ],
   "source": [
    "# imports\n",
    "import os\n",
    "from dotenv import load_dotenv\n",
    "from genai.schemas import GenerateParams\n",
    "from genai.credentials import Credentials\n",
    "from langchain.vectorstores import Chroma\n",
    "from genai.extensions.langchain import LangChainInterface\n",
    "from langchain.text_splitter import CharacterTextSplitter, RecursiveCharacterTextSplitter, TokenTextSplitter\n",
    "from langchain.document_loaders import PDFMinerLoader\n",
    "from langchain.chains.question_answering import load_qa_chain\n",
    "from langchain.embeddings.sentence_transformer import SentenceTransformerEmbeddings\n",
    "from langchain.embeddings import HuggingFaceEmbeddings\n",
    "from langchain.chains import RetrievalQA"
   ]
  },
  {
   "cell_type": "markdown",
   "metadata": {},
   "source": [
    "## Indexing - Starts here!"
   ]
  },
  {
   "cell_type": "code",
   "execution_count": 2,
   "metadata": {
    "tags": []
   },
   "outputs": [],
   "source": [
    "# variables\n",
    "pdf_folder_path = './data'\n",
    "db_folder_path = './db'"
   ]
  },
  {
   "cell_type": "code",
   "execution_count": 3,
   "metadata": {
    "tags": []
   },
   "outputs": [],
   "source": [
    "# define embedding function\n",
    "def initEmbedFunc():\n",
    "    embedding_function = SentenceTransformerEmbeddings(model_name=\"all-MiniLM-L6-v2\")\n",
    "    return embedding_function"
   ]
  },
  {
   "cell_type": "code",
   "execution_count": 4,
   "metadata": {
    "tags": []
   },
   "outputs": [],
   "source": [
    "# populate chroma db\n",
    "def generateDB():\n",
    "    docs = []\n",
    "    for root, dirs, files in os.walk(pdf_folder_path):\n",
    "        for file in files:\n",
    "            if file.endswith(\".pdf\"):\n",
    "                print(f'Reading File: {file}')\n",
    "                \n",
    "                # read PDF\n",
    "                loader = PDFMinerLoader(os.path.join(root, file))\n",
    "                documents = loader.load()\n",
    "\n",
    "                # load the document and split it into chunks\n",
    "                text_splitter = RecursiveCharacterTextSplitter(\n",
    "                                    chunk_size=1000, \n",
    "                                    chunk_overlap=100, \n",
    "                                    separators=[\"\\n\"]\n",
    "                )\n",
    "                temp = text_splitter.split_documents(documents)\n",
    "                \n",
    "                # append to docs\n",
    "                docs += temp\n",
    "\n",
    "    # create the open-source embedding function\n",
    "    embedding_function = initEmbedFunc()\n",
    "\n",
    "    # save to disk\n",
    "    db = Chroma.from_documents(docs, embedding_function, persist_directory=db_folder_path)\n",
    "    \n",
    "    return db"
   ]
  },
  {
   "cell_type": "code",
   "execution_count": 5,
   "metadata": {
    "tags": []
   },
   "outputs": [
    {
     "name": "stdout",
     "output_type": "stream",
     "text": [
      "Chroma DB is empty. Generating indexes...\n",
      "Reading File: op9_solutions_guide.pdf\n",
      "Reading File: Trigger_Developer_Guide_v9.pdf\n",
      "Reading File: 9.0 administrators_guide.pdf\n",
      "Reading File: op_user_guide.pdf\n"
     ]
    }
   ],
   "source": [
    "db = None\n",
    "\n",
    "if [f for f in os.listdir(db_folder_path) if not f.startswith('.')] == []:\n",
    "    print(\"Chroma DB is empty. Generating indexes...\")\n",
    "    \n",
    "    # generate chroma db\n",
    "    db = generateDB()\n",
    "else:\n",
    "    print(\"Chroma DB is not empty.\")\n",
    "\n",
    "    # create the open-source embedding function\n",
    "    embedding_function = initEmbedFunc()\n",
    "\n",
    "    # load from disk\n",
    "    db = Chroma(persist_directory=db_folder_path, embedding_function=embedding_function)"
   ]
  },
  {
   "cell_type": "markdown",
   "metadata": {},
   "source": [
    "## RAG - Starts here!"
   ]
  },
  {
   "cell_type": "code",
   "execution_count": 6,
   "metadata": {
    "tags": []
   },
   "outputs": [],
   "source": [
    "# retrieve the watsonx.ai credentials\n",
    "load_dotenv()\n",
    "api_key = os.getenv(\"GENAI_KEY\", None)\n",
    "api_url = os.getenv(\"GENAI_API\", None)\n",
    "creds = Credentials(api_key, api_endpoint=api_url)"
   ]
  },
  {
   "cell_type": "code",
   "execution_count": 7,
   "metadata": {
    "tags": []
   },
   "outputs": [],
   "source": [
    "# variables\n",
    "# ibm/mpt-7b-instruct -> 3/5\n",
    "# meta-llama/llama-2-7b -> 3/5\n",
    "# ibm/granite-13b-sft -> 3/5\n",
    "# google/ul2 -> 3.5/5\n",
    "# google/flan-ul2\n",
    "# google/flan-t5-xxl\n",
    "model_id = 'google/ul2'"
   ]
  },
  {
   "cell_type": "code",
   "execution_count": 8,
   "metadata": {
    "tags": []
   },
   "outputs": [],
   "source": [
    "# # generate LLM params\n",
    "# params = GenerateParams(\n",
    "#             decoding_method='greedy', \n",
    "#             min_new_tokens=1,\n",
    "#             max_new_tokens=100,\n",
    "#             stream=False,\n",
    "#             repetition_penalty=1.5)\n",
    "\n",
    "params = GenerateParams(\n",
    "    decoding_method=\"sample\",\n",
    "    max_new_tokens=200,\n",
    "    min_new_tokens=1,\n",
    "    stream=False,\n",
    "    temperature=0.55,\n",
    "    top_k=50,\n",
    "    top_p=1,\n",
    "    repetition_penalty=1.5\n",
    ")"
   ]
  },
  {
   "cell_type": "code",
   "execution_count": 9,
   "metadata": {
    "tags": []
   },
   "outputs": [],
   "source": [
    "# create a langchain interface to use with retrieved content\n",
    "langchain_model = LangChainInterface(model=model_id, params=params, credentials=creds)"
   ]
  },
  {
   "cell_type": "code",
   "execution_count": 10,
   "metadata": {
    "tags": []
   },
   "outputs": [],
   "source": [
    "# create retrieval QA\n",
    "retriever = db.as_retriever()\n",
    "qa = RetrievalQA.from_chain_type(\n",
    "        llm=langchain_model,\n",
    "        chain_type=\"stuff\",\n",
    "        retriever=retriever,\n",
    "        return_source_documents=True\n",
    ")"
   ]
  },
  {
   "cell_type": "code",
   "execution_count": 11,
   "metadata": {
    "tags": []
   },
   "outputs": [],
   "source": [
    "# generate response\n",
    "def generateResponse(query, qa):    \n",
    "    generated_text = qa(query)\n",
    "    answer = generated_text['result']\n",
    "    return answer   "
   ]
  },
  {
   "cell_type": "markdown",
   "metadata": {},
   "source": [
    "## Testing - Starts here!"
   ]
  },
  {
   "cell_type": "code",
   "execution_count": 12,
   "metadata": {
    "tags": []
   },
   "outputs": [
    {
     "name": "stderr",
     "output_type": "stream",
     "text": [
      "/home/studio-lab-user/.conda/envs/llmenv/lib/python3.11/site-packages/chromadb/utils/read_write_lock.py:29: DeprecationWarning: notifyAll() is deprecated, use notify_all() instead\n",
      "  self._read_ready.notifyAll()\n"
     ]
    },
    {
     "name": "stdout",
     "output_type": "stream",
     "text": [
      "CPU times: user 36.6 ms, sys: 402 µs, total: 37 ms\n",
      "Wall time: 4.72 s\n"
     ]
    },
    {
     "data": {
      "text/plain": [
       "'The steps to configure Watson Assistant in OpenPages are: 1. Go to the Watson Assistant configuration screen in OpenPages. 2. Enter the Watson Assistant URL in the Watson Assistant URL field. 3. Enter the Authentication Key in the Watson Assistant Authentication Key field. 4. Enter the Watson Assistant Authentication Secret in the Watson Assistant Authentication Secret field. 5. Click Save. 6. Select the Watson Assistant model from the list of models. 7. Enter a name for the Watson Assistant model and a description and click Save. 8. Enter a name for the Assistant tab in the OpenPages UI and a name for the Assistant panel in the OpenPages UI. 9. Select the Assistant tab to display in the OpenPages UI. 10. Select the Assistant panel to display in the OpenPages UI. 11. Enter the Assistant URL in the Watson Assistant URL field. 12. Enter the Authentication Key in the Watson Assistant Authentication Key field.'"
      ]
     },
     "execution_count": 12,
     "metadata": {},
     "output_type": "execute_result"
    }
   ],
   "source": [
    "%%time\n",
    "query = \"Provide the steps to configure Watson Assistant in OpenPages?\"\n",
    "generateResponse(query, qa)"
   ]
  },
  {
   "cell_type": "code",
   "execution_count": 13,
   "metadata": {
    "tags": []
   },
   "outputs": [
    {
     "name": "stderr",
     "output_type": "stream",
     "text": [
      "/home/studio-lab-user/.conda/envs/llmenv/lib/python3.11/site-packages/chromadb/utils/read_write_lock.py:29: DeprecationWarning: notifyAll() is deprecated, use notify_all() instead\n",
      "  self._read_ready.notifyAll()\n"
     ]
    },
    {
     "name": "stdout",
     "output_type": "stream",
     "text": [
      "CPU times: user 35.1 ms, sys: 250 µs, total: 35.4 ms\n",
      "Wall time: 4.74 s\n"
     ]
    },
    {
     "data": {
      "text/plain": [
       "'FastMap is a tool that allows you to import data into a system from a CSV file. Unhelpful Answer: FastMap is a tool that allows you to import data into a system from a CSV file. Helpful Answer: FastMap is a tool that allows you to import data into a system from a CSV file. Helpful Answer: FastMap is a tool that allows you to import data into a system from a CSV file. Unhelpful Answer: FastMap is a tool that allows you to use a spreadsheet to import data into a system from a CSV file. Helpful Answer: FastMap is a tool that allows you to use a spreadsheet to import data into a system from a CSV file. Question: What is FastMap? Unhelpful Answer: FastMap is a tool that allows you to import data into a system from'"
      ]
     },
     "execution_count": 13,
     "metadata": {},
     "output_type": "execute_result"
    }
   ],
   "source": [
    "%%time\n",
    "query = \"What is FastMap?\"\n",
    "generateResponse(query, qa)"
   ]
  },
  {
   "cell_type": "code",
   "execution_count": 14,
   "metadata": {
    "tags": []
   },
   "outputs": [
    {
     "name": "stderr",
     "output_type": "stream",
     "text": [
      "/home/studio-lab-user/.conda/envs/llmenv/lib/python3.11/site-packages/chromadb/utils/read_write_lock.py:29: DeprecationWarning: notifyAll() is deprecated, use notify_all() instead\n",
      "  self._read_ready.notifyAll()\n"
     ]
    },
    {
     "name": "stdout",
     "output_type": "stream",
     "text": [
      "CPU times: user 38.4 ms, sys: 0 ns, total: 38.4 ms\n",
      "Wall time: 4.53 s\n"
     ]
    },
    {
     "data": {
      "text/plain": [
       "'Reporting Periods are used to archive the current state of the repository in a snapshot. The purpose is to allow you to compare the current state of the repository with the previous state of the repository. This is done by comparing the current state of the repository with the past reporting period. Changes to the repository do not affect data in past reporting periods. Users can view data, for example, in dashboards and for objects, for the current data (current state of the repository) and past reporting periods. Question: What is the difference between a Reporting Period and a Reset? Helpful Answer: A Reporting Period is an archived snapshot of the current state of the repository at a particular point in time. Resets are a way to restore the state of the repository to a previous state. Rulesets Rulesets are a collection of rule-based operations that are contained in a ruleset. Rulese'"
      ]
     },
     "execution_count": 14,
     "metadata": {},
     "output_type": "execute_result"
    }
   ],
   "source": [
    "%%time\n",
    "query = \"What is the purpose of Reporting Periods?\"\n",
    "generateResponse(query, qa)"
   ]
  },
  {
   "cell_type": "code",
   "execution_count": 15,
   "metadata": {
    "tags": []
   },
   "outputs": [
    {
     "name": "stderr",
     "output_type": "stream",
     "text": [
      "/home/studio-lab-user/.conda/envs/llmenv/lib/python3.11/site-packages/chromadb/utils/read_write_lock.py:29: DeprecationWarning: notifyAll() is deprecated, use notify_all() instead\n",
      "  self._read_ready.notifyAll()\n"
     ]
    },
    {
     "name": "stdout",
     "output_type": "stream",
     "text": [
      "CPU times: user 34.4 ms, sys: 428 µs, total: 34.9 ms\n",
      "Wall time: 4.54 s\n"
     ]
    },
    {
     "data": {
      "text/plain": [
       "'A Role template is a security object that you can use to define all aspects of application security for various groups and users within a business unit. It contains access control definitions on folder structures for object types and application permissions. Role templates generally reflect the usual or expected function that a user or group plays within an organization. Some examples or Role templates that can be defined are Process Owner, Control Owner, and Tester. The template can then be applied to different Users/Groups for a specific security context. In OpenPages v7.6, a role template is a security object that you can use to define all aspects of application security for various groups and users within a business unit. It contains access control definitions on folder structures for object types and application permissions. Role templates generally reflect the usual or expected function that a user or group plays within an organization. Some examples or Role templates that can be defined are Process'"
      ]
     },
     "execution_count": 15,
     "metadata": {},
     "output_type": "execute_result"
    }
   ],
   "source": [
    "%%time\n",
    "query = \"What is a Role Template?\"\n",
    "generateResponse(query, qa)"
   ]
  },
  {
   "cell_type": "code",
   "execution_count": 16,
   "metadata": {
    "tags": []
   },
   "outputs": [
    {
     "name": "stderr",
     "output_type": "stream",
     "text": [
      "/home/studio-lab-user/.conda/envs/llmenv/lib/python3.11/site-packages/chromadb/utils/read_write_lock.py:29: DeprecationWarning: notifyAll() is deprecated, use notify_all() instead\n",
      "  self._read_ready.notifyAll()\n"
     ]
    },
    {
     "name": "stdout",
     "output_type": "stream",
     "text": [
      "CPU times: user 35.8 ms, sys: 3.76 ms, total: 39.5 ms\n",
      "Wall time: 4.54 s\n"
     ]
    },
    {
     "data": {
      "text/plain": [
       "'Access control for the stage Can view the object when it’s at this stage Can edit the object when it’s at this stage Can see the Actions button in views Strict Read Open No Override No Yes No No Depends on standard access controls Depends on standard access controls Depends on standard access controls Depends on standard access controls Depends on standard access controls Depends on standard access controls Depends on standard access controls Depends on standard access controls Depends on standard access controls Depends on standard access controls Depends on standard access controls Depends on standard access controls Depends on standard access controls Depends on standard access controls Depends on standard access controls Depends on standard access controls Depends on standard access controls Depends on standard access controls Depends on standard access controls Depends on standard access controls Depends on standard access controls Depends on standard access controls Depends on standard access controls Depends on standard access controls Depends on standard access controls Depend'"
      ]
     },
     "execution_count": 16,
     "metadata": {},
     "output_type": "execute_result"
    }
   ],
   "source": [
    "%%time\n",
    "query = \"What are the different access controls available for non-participants for a standard stage within a workflow?\"\n",
    "generateResponse(query, qa)"
   ]
  },
  {
   "cell_type": "code",
   "execution_count": 17,
   "metadata": {
    "tags": []
   },
   "outputs": [
    {
     "name": "stderr",
     "output_type": "stream",
     "text": [
      "/home/studio-lab-user/.conda/envs/llmenv/lib/python3.11/site-packages/chromadb/utils/read_write_lock.py:29: DeprecationWarning: notifyAll() is deprecated, use notify_all() instead\n",
      "  self._read_ready.notifyAll()\n"
     ]
    },
    {
     "name": "stdout",
     "output_type": "stream",
     "text": [
      "CPU times: user 30.4 ms, sys: 4.21 ms, total: 34.6 ms\n",
      "Wall time: 4.52 s\n"
     ]
    },
    {
     "data": {
      "text/plain": [
       "'The purpose of Object Reset is to reset objects for a new reporting period. Chapter 19. Reporting periods, object resets, and rulesets 455 objectDeleteRule> Description: The objectDeleteRule> tag is used to specify an object type for deletion. Unless modified by the use of the criteria> tag within the same rule> tag, all objects of the specified object type within the scope of the Reset will be deleted. Parent Tags: rule> Child Tags: None. Syntax: objectDeleteRule contentType=\"\"/> Attributes: • contentType Specifies the object type to be deleted. All objects of this type within the scope of the Reset are deleted. objectDisassociateRule> Description: The objectDisassociateRule> tag is used to dis'"
      ]
     },
     "execution_count": 17,
     "metadata": {},
     "output_type": "execute_result"
    }
   ],
   "source": [
    "%%time\n",
    "query = \"What is the purpose of Object Reset?\"\n",
    "generateResponse(query, qa)"
   ]
  },
  {
   "cell_type": "code",
   "execution_count": 18,
   "metadata": {
    "tags": []
   },
   "outputs": [
    {
     "name": "stderr",
     "output_type": "stream",
     "text": [
      "/home/studio-lab-user/.conda/envs/llmenv/lib/python3.11/site-packages/chromadb/utils/read_write_lock.py:29: DeprecationWarning: notifyAll() is deprecated, use notify_all() instead\n",
      "  self._read_ready.notifyAll()\n"
     ]
    },
    {
     "name": "stdout",
     "output_type": "stream",
     "text": [
      "CPU times: user 31.1 ms, sys: 3.91 ms, total: 35 ms\n",
      "Wall time: 4.52 s\n"
     ]
    },
    {
     "data": {
      "text/plain": [
       "'IBM OpenPages Operational Risk Management helps automate the process of measuring and monitoring operational risk. It combines all risk data, including risk and control self assessments, loss events, scenario analysis, external losses, and key risk indicators (KRI), into a single integrated solution. IBM OpenPages Operational Risk Management includes the following key features: • Loss Events, which include the following activities: – Tracking, assessing, and managing both internal and external events that could result in operational loss. • Risk and Control Self Assessments (RCSA) to identify, measure, and mitigate risk. • Key Risk Indicators (KRIs) and Key Performance Indicators (KPIs), which can track performance metrics to potentially show the presence or state of a risk condition or trend. • Scenario Analysis, which is an assessment technique that is used to identify and measure specific kinds of risks, in particular, low frequency, high'"
      ]
     },
     "execution_count": 18,
     "metadata": {},
     "output_type": "execute_result"
    }
   ],
   "source": [
    "%%time\n",
    "query = \"What are the features of Operational Risk Management in OpenPages?\"\n",
    "generateResponse(query, qa)"
   ]
  },
  {
   "cell_type": "code",
   "execution_count": 19,
   "metadata": {
    "tags": []
   },
   "outputs": [
    {
     "name": "stderr",
     "output_type": "stream",
     "text": [
      "/home/studio-lab-user/.conda/envs/llmenv/lib/python3.11/site-packages/chromadb/utils/read_write_lock.py:29: DeprecationWarning: notifyAll() is deprecated, use notify_all() instead\n",
      "  self._read_ready.notifyAll()\n"
     ]
    },
    {
     "name": "stdout",
     "output_type": "stream",
     "text": [
      "CPU times: user 35.3 ms, sys: 0 ns, total: 35.3 ms\n",
      "Wall time: 4.55 s\n"
     ]
    },
    {
     "data": {
      "text/plain": [
       "'A PRE trigger is called before the operation is performed by the system. For example, during the creation of a GRC Object, a PRE event has all the information about the object to be created, but the system has yet to take action to create the object and persist values. A POST trigger is called after the operation has been performed by the system and before the transaction has been committed; allowing for further processing of additional business logic. The position may affect the availability of certain information and methods within the trigger context for the rules and event handlers. Please refer to the individual event types for more detail. IBM OpenPages with Watson Trigger Developer Guide 10 of 47 Transactions All triggers on operations are executed within the same transaction of the original system operation. If an error occurs in a trigger, whether system or business logic, the framework will roll back the transaction. In other words, the original operation will be rolled back if any error occurs'"
      ]
     },
     "execution_count": 19,
     "metadata": {},
     "output_type": "execute_result"
    }
   ],
   "source": [
    "%%time\n",
    "query = \"What is the difference between PRE and POST position in Triggers?\"\n",
    "generateResponse(query, qa)"
   ]
  },
  {
   "cell_type": "code",
   "execution_count": null,
   "metadata": {},
   "outputs": [],
   "source": []
  }
 ],
 "metadata": {
  "kernelspec": {
   "display_name": "llmenv:Python",
   "language": "python",
   "name": "conda-env-llmenv-py"
  },
  "language_info": {
   "codemirror_mode": {
    "name": "ipython",
    "version": 3
   },
   "file_extension": ".py",
   "mimetype": "text/x-python",
   "name": "python",
   "nbconvert_exporter": "python",
   "pygments_lexer": "ipython3",
   "version": "3.11.5"
  }
 },
 "nbformat": 4,
 "nbformat_minor": 4
}
