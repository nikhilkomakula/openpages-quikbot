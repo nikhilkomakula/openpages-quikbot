{
 "cells": [
  {
   "cell_type": "code",
   "execution_count": 1,
   "metadata": {
    "tags": []
   },
   "outputs": [
    {
     "name": "stderr",
     "output_type": "stream",
     "text": [
      "/Volumes/My Data/My Workspace/.venv/lib/python3.11/site-packages/genai/schemas/__init__.py:10: DeprecationWarning: \u001b[33;20m\n",
      "The class ModelType is being deprecated.\n",
      "Please replace any reference to ModelType by its model id string equivalent.\n",
      "Example :\n",
      "  ModelType.FLAN_T5 becomes \"google/flan-t5-xxl\"\u001b[0m\n",
      "\n",
      "  from genai.schemas.models import ModelType\n"
     ]
    }
   ],
   "source": [
    "# imports\n",
    "import os\n",
    "from dotenv import load_dotenv\n",
    "from genai.schemas import GenerateParams\n",
    "from genai.credentials import Credentials\n",
    "from langchain.vectorstores import Chroma\n",
    "from genai.extensions.langchain import LangChainInterface\n",
    "from langchain.text_splitter import CharacterTextSplitter, RecursiveCharacterTextSplitter, TokenTextSplitter\n",
    "from langchain.document_loaders import PDFMinerLoader\n",
    "from langchain.chains.question_answering import load_qa_chain\n",
    "from langchain.embeddings.sentence_transformer import SentenceTransformerEmbeddings\n",
    "from langchain.embeddings import HuggingFaceEmbeddings\n",
    "from langchain.chains import RetrievalQA"
   ]
  },
  {
   "cell_type": "markdown",
   "metadata": {},
   "source": [
    "## Indexing - Starts here!"
   ]
  },
  {
   "cell_type": "code",
   "execution_count": 2,
   "metadata": {
    "tags": []
   },
   "outputs": [],
   "source": [
    "# variables\n",
    "pdf_folder_path = './data'\n",
    "db_folder_path = './db'"
   ]
  },
  {
   "cell_type": "code",
   "execution_count": 3,
   "metadata": {
    "tags": []
   },
   "outputs": [],
   "source": [
    "# define embedding function\n",
    "def initEmbedFunc():\n",
    "    embedding_function = SentenceTransformerEmbeddings(model_name=\"all-MiniLM-L6-v2\")\n",
    "    return embedding_function"
   ]
  },
  {
   "cell_type": "code",
   "execution_count": 4,
   "metadata": {
    "tags": []
   },
   "outputs": [],
   "source": [
    "# populate chroma db\n",
    "def generateDB():\n",
    "    docs = []\n",
    "    for root, dirs, files in os.walk(pdf_folder_path):\n",
    "        for file in files:\n",
    "            if file.endswith(\".pdf\"):\n",
    "                print(f'Reading File: {file}')\n",
    "                \n",
    "                # read PDF\n",
    "                loader = PDFMinerLoader(os.path.join(root, file))\n",
    "                documents = loader.load()\n",
    "\n",
    "                # load the document and split it into chunks\n",
    "                text_splitter = RecursiveCharacterTextSplitter(\n",
    "                                    chunk_size=1000, \n",
    "                                    chunk_overlap=100, \n",
    "                                    separators=[\"\\n\"]\n",
    "                )\n",
    "                temp = text_splitter.split_documents(documents)\n",
    "                \n",
    "                # append to docs\n",
    "                docs += temp\n",
    "\n",
    "    # create the open-source embedding function\n",
    "    embedding_function = initEmbedFunc()\n",
    "\n",
    "    # save to disk\n",
    "    db = Chroma.from_documents(docs, embedding_function, persist_directory=db_folder_path)\n",
    "    \n",
    "    return db"
   ]
  },
  {
   "cell_type": "code",
   "execution_count": 5,
   "metadata": {
    "tags": []
   },
   "outputs": [
    {
     "name": "stdout",
     "output_type": "stream",
     "text": [
      "Chroma DB is not empty.\n"
     ]
    }
   ],
   "source": [
    "db = None\n",
    "\n",
    "if [f for f in os.listdir(db_folder_path) if not f.startswith('.')] == []:\n",
    "    print(\"Chroma DB is empty. Generating indexes...\")\n",
    "    \n",
    "    # generate chroma db\n",
    "    db = generateDB()\n",
    "else:\n",
    "    print(\"Chroma DB is not empty.\")\n",
    "\n",
    "    # create the open-source embedding function\n",
    "    embedding_function = initEmbedFunc()\n",
    "\n",
    "    # load from disk\n",
    "    db = Chroma(persist_directory=db_folder_path, embedding_function=embedding_function)"
   ]
  },
  {
   "cell_type": "markdown",
   "metadata": {},
   "source": [
    "## RAG - Starts here!"
   ]
  },
  {
   "cell_type": "code",
   "execution_count": 6,
   "metadata": {
    "tags": []
   },
   "outputs": [],
   "source": [
    "# retrieve the watsonx.ai credentials\n",
    "load_dotenv()\n",
    "api_key = os.getenv(\"GENAI_KEY\", None)\n",
    "api_url = os.getenv(\"GENAI_API\", None)\n",
    "creds = Credentials(api_key, api_endpoint=api_url)"
   ]
  },
  {
   "cell_type": "code",
   "execution_count": 7,
   "metadata": {
    "tags": []
   },
   "outputs": [],
   "source": [
    "# variables\n",
    "# ibm/mpt-7b-instruct -> 3/5\n",
    "# meta-llama/llama-2-7b -> 3/5\n",
    "# ibm/granite-13b-sft -> 3/5\n",
    "# google/ul2 -> 3.5/5\n",
    "# google/flan-ul2\n",
    "# google/flan-t5-xxl\n",
    "model_id = 'google/ul2'"
   ]
  },
  {
   "cell_type": "code",
   "execution_count": 8,
   "metadata": {
    "tags": []
   },
   "outputs": [],
   "source": [
    "# # generate LLM params\n",
    "# params = GenerateParams(\n",
    "#             decoding_method='greedy', \n",
    "#             min_new_tokens=1,\n",
    "#             max_new_tokens=100,\n",
    "#             stream=False,\n",
    "#             repetition_penalty=1.5)\n",
    "\n",
    "params = GenerateParams(\n",
    "    decoding_method=\"sample\",\n",
    "    max_new_tokens=200,\n",
    "    min_new_tokens=1,\n",
    "    stream=False,\n",
    "    temperature=0.55,\n",
    "    top_k=50,\n",
    "    top_p=1,\n",
    "    repetition_penalty=1.5\n",
    ")"
   ]
  },
  {
   "cell_type": "code",
   "execution_count": 9,
   "metadata": {
    "tags": []
   },
   "outputs": [],
   "source": [
    "# create a langchain interface to use with retrieved content\n",
    "langchain_model = LangChainInterface(model=model_id, params=params, credentials=creds)"
   ]
  },
  {
   "cell_type": "code",
   "execution_count": 10,
   "metadata": {
    "tags": []
   },
   "outputs": [],
   "source": [
    "# create retrieval QA\n",
    "retriever = db.as_retriever()\n",
    "qa = RetrievalQA.from_chain_type(\n",
    "        llm=langchain_model,\n",
    "        chain_type=\"stuff\",\n",
    "        retriever=retriever,\n",
    "        return_source_documents=True\n",
    ")"
   ]
  },
  {
   "cell_type": "code",
   "execution_count": 11,
   "metadata": {
    "tags": []
   },
   "outputs": [],
   "source": [
    "# generate response\n",
    "def generateResponse(query, qa):    \n",
    "    generated_text = qa(query)\n",
    "    answer = generated_text['result']\n",
    "    return answer   "
   ]
  },
  {
   "cell_type": "markdown",
   "metadata": {},
   "source": [
    "## Testing - Starts here!"
   ]
  },
  {
   "cell_type": "code",
   "execution_count": 12,
   "metadata": {
    "tags": []
   },
   "outputs": [
    {
     "name": "stderr",
     "output_type": "stream",
     "text": [
      "/Volumes/My Data/My Workspace/.venv/lib/python3.11/site-packages/chromadb/utils/read_write_lock.py:29: DeprecationWarning: notifyAll() is deprecated, use notify_all() instead\n",
      "  self._read_ready.notifyAll()\n"
     ]
    },
    {
     "name": "stdout",
     "output_type": "stream",
     "text": [
      "CPU times: user 299 ms, sys: 85.3 ms, total: 384 ms\n",
      "Wall time: 13.2 s\n"
     ]
    },
    {
     "data": {
      "text/plain": [
       "'The steps are: You can configure Watson Assistant in OpenPages by following these steps: 1. On the OpenPages home page, click Watson Assistant. 2. Click Configure. 3. Select the Watson Assistant profile. 4. Enter the Watson Assistant URL. 5. Enter the Watson Assistant key. 6. Enter the Watson Assistant secret. 7. Click Create. 8. Select the Watson Assistant role that you want to configure in OpenPages. 9. Click OK. Question: Provide the steps to configure Watson Assistant in OpenPages? Helpful Answer: The steps are: You can configure Watson Assistant in OpenPages by following these steps: 1. On the OpenPages home page, click Watson Assistant. 2. Click Configure. 3. Select the Watson Assistant profile. 4. Enter the Watson Assistant URL. 5. Enter the Watson Assistant key. 6. Enter the Watson Assistant secret. 7. Click Create. 8. Select the Watson Assistant role that you want to configure in OpenPages. 9. Click OK. Getting model information from'"
      ]
     },
     "execution_count": 12,
     "metadata": {},
     "output_type": "execute_result"
    }
   ],
   "source": [
    "%%time\n",
    "query = \"Provide the steps to configure Watson Assistant in OpenPages?\"\n",
    "generateResponse(query, qa)"
   ]
  },
  {
   "cell_type": "code",
   "execution_count": 13,
   "metadata": {
    "tags": []
   },
   "outputs": [
    {
     "name": "stderr",
     "output_type": "stream",
     "text": [
      "/Volumes/My Data/My Workspace/.venv/lib/python3.11/site-packages/chromadb/utils/read_write_lock.py:29: DeprecationWarning: notifyAll() is deprecated, use notify_all() instead\n",
      "  self._read_ready.notifyAll()\n"
     ]
    },
    {
     "name": "stdout",
     "output_type": "stream",
     "text": [
      "CPU times: user 65.6 ms, sys: 7.08 ms, total: 72.7 ms\n",
      "Wall time: 16.6 s\n"
     ]
    },
    {
     "data": {
      "text/plain": [
       "'FastMap is a data import tool that allows you to import data into the application from an Excel or CSV file. FastMap is a data import tool that allows you to import data into the application from an Excel or CSV file. Unhelpful Answer: FastMap is a data import tool that allows you to import data into the application from an Excel or CSV file. FastMap is a data import tool that allows you to import data into the application from an Excel or CSV file. The FastMap import process The FastMap import process is a two-step process. The first step is to import the FastMap template and then import the data from the template. The FastMap template is a spreadsheet formatted according to a specific set of requirements. For example, if you need to import data into an existing FastMap template for a specific entity, you must create the FastMap template in the correct format. Once the template has'"
      ]
     },
     "execution_count": 13,
     "metadata": {},
     "output_type": "execute_result"
    }
   ],
   "source": [
    "%%time\n",
    "query = \"What is FastMap?\"\n",
    "generateResponse(query, qa)"
   ]
  },
  {
   "cell_type": "code",
   "execution_count": 14,
   "metadata": {
    "tags": []
   },
   "outputs": [
    {
     "name": "stderr",
     "output_type": "stream",
     "text": [
      "/Volumes/My Data/My Workspace/.venv/lib/python3.11/site-packages/chromadb/utils/read_write_lock.py:29: DeprecationWarning: notifyAll() is deprecated, use notify_all() instead\n",
      "  self._read_ready.notifyAll()\n"
     ]
    },
    {
     "name": "stdout",
     "output_type": "stream",
     "text": [
      "CPU times: user 64.3 ms, sys: 5.16 ms, total: 69.5 ms\n",
      "Wall time: 7.86 s\n"
     ]
    },
    {
     "data": {
      "text/plain": [
       "'Reporting periods are a snapshot of the repository. A reporting period is a snapshot of the repository at a specific point in time. The current reporting period is the active reporting period. When you create a new reporting period, you are creating a snapshot of the repository at that point in time. Changes to the repository after the reporting period has been created will not affect the data in the reporting period. Reporting periods are useful for storing data that will not be updated but that you want to report on later. For example, you can store past controls and tests in reporting periods. Then you can view and report on the results of those controls and tests at any time. You can compare the results for the same object across reporting periods. You can also use reporting periods to store data that is subject to change, such as the results of a financial close. The data in the reporting period is a snapshot, and changes to the repository will not affect the'"
      ]
     },
     "execution_count": 14,
     "metadata": {},
     "output_type": "execute_result"
    }
   ],
   "source": [
    "%%time\n",
    "query = \"What is the purpose of Reporting Periods?\"\n",
    "generateResponse(query, qa)"
   ]
  },
  {
   "cell_type": "code",
   "execution_count": 15,
   "metadata": {
    "tags": []
   },
   "outputs": [
    {
     "name": "stderr",
     "output_type": "stream",
     "text": [
      "/Volumes/My Data/My Workspace/.venv/lib/python3.11/site-packages/chromadb/utils/read_write_lock.py:29: DeprecationWarning: notifyAll() is deprecated, use notify_all() instead\n",
      "  self._read_ready.notifyAll()\n"
     ]
    },
    {
     "name": "stdout",
     "output_type": "stream",
     "text": [
      "CPU times: user 73.9 ms, sys: 5.69 ms, total: 79.6 ms\n",
      "Wall time: 5.41 s\n"
     ]
    },
    {
     "data": {
      "text/plain": [
       "'A Role Template is a security object that you can use to define all aspects of application security for various groups and users within a business unit. It contains access control definitions on folder structures for object types and application permissions. Role templates generally reflect the usual or expected function that a user or group plays within an organization. Some examples or Role templates that can be defined are Process Owner, Control Owner, and Tester. The template can then be applied to different Users/Groups for a specific security context. A role template is a security object that you can use to define all aspects of application security for various groups and users within a business unit. It contains access control definitions on folder structures for object types and application permissions. Role templates generally reflect the usual or expected function that a user or group plays within an organization. Some examples or Role templates that can be defined are Process Owner, Control Owner, and Tester. The'"
      ]
     },
     "execution_count": 15,
     "metadata": {},
     "output_type": "execute_result"
    }
   ],
   "source": [
    "%%time\n",
    "query = \"What is a Role Template?\"\n",
    "generateResponse(query, qa)"
   ]
  },
  {
   "cell_type": "code",
   "execution_count": 16,
   "metadata": {
    "tags": []
   },
   "outputs": [
    {
     "name": "stderr",
     "output_type": "stream",
     "text": [
      "/Volumes/My Data/My Workspace/.venv/lib/python3.11/site-packages/chromadb/utils/read_write_lock.py:29: DeprecationWarning: notifyAll() is deprecated, use notify_all() instead\n",
      "  self._read_ready.notifyAll()\n"
     ]
    },
    {
     "name": "stdout",
     "output_type": "stream",
     "text": [
      "CPU times: user 67.2 ms, sys: 6.06 ms, total: 73.2 ms\n",
      "Wall time: 15.2 s\n"
     ]
    },
    {
     "data": {
      "text/plain": [
       "'The different access controls available for non-participants (for a standard stage within a workflow) are as follows: • Strict Read: The user can view the object, but cannot edit it. • Open: The user can view and edit the object. • No Override: The user cannot view the object, and cannot edit it. • No Access: The user has no access to the object, not even to view it. • Override: The user can view and edit the object. • Depends on standard access controls: The user depends on the standard access controls defined for the workflow stage. • Open: The user can view and edit the object. • No Override: The user cannot view or edit the object. • Strict Read: The user can view and edit the object. • Open: The user can view and edit the object. • No Override: The user cannot view or edit the object.'"
      ]
     },
     "execution_count": 16,
     "metadata": {},
     "output_type": "execute_result"
    }
   ],
   "source": [
    "%%time\n",
    "query = \"What are the different access controls available for non-participants for a standard stage within a workflow?\"\n",
    "generateResponse(query, qa)"
   ]
  },
  {
   "cell_type": "code",
   "execution_count": 17,
   "metadata": {
    "tags": []
   },
   "outputs": [
    {
     "name": "stderr",
     "output_type": "stream",
     "text": [
      "/Volumes/My Data/My Workspace/.venv/lib/python3.11/site-packages/chromadb/utils/read_write_lock.py:29: DeprecationWarning: notifyAll() is deprecated, use notify_all() instead\n",
      "  self._read_ready.notifyAll()\n"
     ]
    },
    {
     "name": "stdout",
     "output_type": "stream",
     "text": [
      "CPU times: user 64.5 ms, sys: 5.51 ms, total: 70 ms\n",
      "Wall time: 11.3 s\n"
     ]
    },
    {
     "data": {
      "text/plain": [
       "'The purpose of Object Reset is to reset objects for a new reporting period. This is often used when a new fiscal year is about to start and you want to reset all objects to a clean state. Question: What types of objects can be reset? Helpful Answer: Any objects that are part of a Reporting Period can be reset. Question: What is the difference between Object Reset and Object Text? Helpful Answer: Object Text is a feature that allows you to reset object text values, while Object Reset is a feature that allows you to reset object properties. Question: What is the purpose of Object Reset? Helpful Answer: The purpose of Object Reset is to reset objects for a new reporting period. This is often used when a new fiscal year is about to start and you want to reset all objects to a clean state. Question: What are the three different types of Object'"
      ]
     },
     "execution_count": 17,
     "metadata": {},
     "output_type": "execute_result"
    }
   ],
   "source": [
    "%%time\n",
    "query = \"What is the purpose of Object Reset?\"\n",
    "generateResponse(query, qa)"
   ]
  },
  {
   "cell_type": "code",
   "execution_count": 18,
   "metadata": {
    "tags": []
   },
   "outputs": [
    {
     "name": "stderr",
     "output_type": "stream",
     "text": [
      "/Volumes/My Data/My Workspace/.venv/lib/python3.11/site-packages/chromadb/utils/read_write_lock.py:29: DeprecationWarning: notifyAll() is deprecated, use notify_all() instead\n",
      "  self._read_ready.notifyAll()\n"
     ]
    },
    {
     "name": "stdout",
     "output_type": "stream",
     "text": [
      "CPU times: user 68.1 ms, sys: 6.16 ms, total: 74.2 ms\n",
      "Wall time: 5.85 s\n"
     ]
    },
    {
     "data": {
      "text/plain": [
       "'Operational Risk Management is the process of identifying, measuring, and managing operational risk. It combines document and process management with a monitoring and decision support system that enables organizations to analyze, manage, and mitigate risk in a simple and efficient manner. IBM OpenPages Operational Risk Management helps automate the process of measuring and monitoring operational risk. It combines all risk data, including risk and control self assessments, loss events, scenario analysis, external losses, and key risk indicators (KRI), into a single integrated solution. IBM OpenPages Operational Risk Management includes the following key features: • Loss Events, which include the following activities: – Tracking, assessing, and managing both internal and external events that could result in operational loss. • Risk and Control Self Assessments (RCSA) to identify, measure, and mitigate risk. • Key Risk Indicators (KRIs) and Key Performance Indicators ('"
      ]
     },
     "execution_count": 18,
     "metadata": {},
     "output_type": "execute_result"
    }
   ],
   "source": [
    "%%time\n",
    "query = \"What are the features of Operational Risk Management in OpenPages?\"\n",
    "generateResponse(query, qa)"
   ]
  },
  {
   "cell_type": "code",
   "execution_count": 19,
   "metadata": {
    "tags": []
   },
   "outputs": [
    {
     "name": "stderr",
     "output_type": "stream",
     "text": [
      "/Volumes/My Data/My Workspace/.venv/lib/python3.11/site-packages/chromadb/utils/read_write_lock.py:29: DeprecationWarning: notifyAll() is deprecated, use notify_all() instead\n",
      "  self._read_ready.notifyAll()\n"
     ]
    },
    {
     "name": "stdout",
     "output_type": "stream",
     "text": [
      "CPU times: user 66.7 ms, sys: 6.28 ms, total: 73 ms\n",
      "Wall time: 12.6 s\n"
     ]
    },
    {
     "data": {
      "text/plain": [
       "'PRE – are events that happen prior to the operation actually being performed by the system. For example, during the creation of a GRC Object, a PRE event has all the information about the object to be created, but the system has yet to take action to create the object and persist values. • POST – are events that happen after the operation has been performed by the system and before the transaction has been committed; allowing for further processing of additional business logic. The position may affect the availability of certain information and methods within the trigger context for the rules and event handlers. Please refer to the individual event types for more detail. IBM OpenPages with Watson Trigger Developer Guide 11 of 47 Transactions All triggers on operations are executed within the same transaction of the original system operation. If an error occurs in a trigger, whether system or business logic, the framework will roll back the transaction. In other words, the original operation will be '"
      ]
     },
     "execution_count": 19,
     "metadata": {},
     "output_type": "execute_result"
    }
   ],
   "source": [
    "%%time\n",
    "query = \"What is the difference between PRE and POST position in Triggers?\"\n",
    "generateResponse(query, qa)"
   ]
  },
  {
   "cell_type": "code",
   "execution_count": null,
   "metadata": {},
   "outputs": [],
   "source": []
  }
 ],
 "metadata": {
  "kernelspec": {
   "display_name": ".venv",
   "language": "python",
   "name": "python3"
  },
  "language_info": {
   "codemirror_mode": {
    "name": "ipython",
    "version": 3
   },
   "file_extension": ".py",
   "mimetype": "text/x-python",
   "name": "python",
   "nbconvert_exporter": "python",
   "pygments_lexer": "ipython3",
   "version": "3.11.5"
  }
 },
 "nbformat": 4,
 "nbformat_minor": 4
}
