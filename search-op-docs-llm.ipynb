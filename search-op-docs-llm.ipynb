{
 "cells": [
  {
   "cell_type": "code",
   "execution_count": 16,
   "metadata": {},
   "outputs": [],
   "source": [
    "# imports\n",
    "import os\n",
    "from dotenv import load_dotenv\n",
    "from genai.schemas import GenerateParams\n",
    "from genai.credentials import Credentials\n",
    "from langchain.vectorstores import Chroma\n",
    "from genai.extensions.langchain import LangChainInterface\n",
    "from langchain.text_splitter import CharacterTextSplitter\n",
    "from langchain.document_loaders import PyPDFDirectoryLoader\n",
    "from langchain.chains.question_answering import load_qa_chain\n",
    "from langchain.embeddings.sentence_transformer import SentenceTransformerEmbeddings"
   ]
  },
  {
   "cell_type": "code",
   "execution_count": 17,
   "metadata": {},
   "outputs": [],
   "source": [
    "# retrieve the watsonx.ai credentials\n",
    "load_dotenv()\n",
    "api_key = os.getenv(\"GENAI_KEY\", None)\n",
    "api_url = os.getenv(\"GENAI_API\", None)\n",
    "credentials = Credentials(api_key, api_endpoint=api_url)"
   ]
  },
  {
   "cell_type": "code",
   "execution_count": 18,
   "metadata": {},
   "outputs": [],
   "source": [
    "# generate LLM params\n",
    "params = GenerateParams(\n",
    "            decoding_method='greedy', \n",
    "            min_new_tokens=1,\n",
    "            max_new_tokens=150,\n",
    "            stream=False,\n",
    "            temperature=0.7,\n",
    "            repetition_penalty=2)"
   ]
  },
  {
   "cell_type": "code",
   "execution_count": 19,
   "metadata": {},
   "outputs": [],
   "source": [
    "# variables\n",
    "# ibm/mpt-7b-instruct -> 3/5\n",
    "# meta-llama/llama-2-7b -> 3/5\n",
    "# ibm/granite-13b-sft -> 3/5\n",
    "# google/ul2 -> 3.5/5\n",
    "model_id = 'google/ul2'\n",
    "pdf_folder_path = './data'\n",
    "db_folder_path = './db'"
   ]
  },
  {
   "cell_type": "code",
   "execution_count": 20,
   "metadata": {},
   "outputs": [],
   "source": [
    "# create a langchain interface to use with retrieved content\n",
    "langchain_model = LangChainInterface(model=model_id, params=params, credentials=credentials)"
   ]
  },
  {
   "cell_type": "code",
   "execution_count": 21,
   "metadata": {},
   "outputs": [],
   "source": [
    "# populate chroma db\n",
    "def generateDB():\n",
    "    # load PDFs from folder\n",
    "    loader = PyPDFDirectoryLoader(pdf_folder_path)\n",
    "    documents = loader.load()    \n",
    "\n",
    "    # load the document and split it into chunks\n",
    "    text_splitter = CharacterTextSplitter(chunk_size=1000, chunk_overlap=0, separator='\\n')\n",
    "    docs = text_splitter.split_documents(documents)\n",
    "\n",
    "    # create the open-source embedding function\n",
    "    embedding_function = SentenceTransformerEmbeddings(model_name=\"all-MiniLM-L6-v2\")\n",
    "\n",
    "    # save to disk\n",
    "    db = Chroma.from_documents(docs, embedding_function, persist_directory=\"./db\")\n",
    "    \n",
    "    return db"
   ]
  },
  {
   "cell_type": "code",
   "execution_count": 22,
   "metadata": {},
   "outputs": [
    {
     "name": "stdout",
     "output_type": "stream",
     "text": [
      "Chroma DB is not empty.\n"
     ]
    }
   ],
   "source": [
    "db = None\n",
    "\n",
    "if [f for f in os.listdir(db_folder_path) if not f.startswith('.')] == []:\n",
    "    print(\"Chroma DB is empty. Populating it.\")\n",
    "    \n",
    "    # generate chroma db\n",
    "    db = generateDB()\n",
    "else:\n",
    "    print(\"Chroma DB is not empty.\")\n",
    "\n",
    "    # create the open-source embedding function\n",
    "    embedding_function = SentenceTransformerEmbeddings(model_name=\"all-MiniLM-L6-v2\")\n",
    "\n",
    "    # load from disk\n",
    "    db = Chroma(persist_directory=\"./db\", embedding_function=embedding_function)"
   ]
  },
  {
   "cell_type": "code",
   "execution_count": 23,
   "metadata": {},
   "outputs": [],
   "source": [
    "# create the chain\n",
    "chain = load_qa_chain(langchain_model, chain_type=\"stuff\")"
   ]
  },
  {
   "cell_type": "code",
   "execution_count": 24,
   "metadata": {},
   "outputs": [],
   "source": [
    "# generate response\n",
    "def generateResponse(query, db):\n",
    "    \n",
    "    # retrieve results from chroma db\n",
    "    results = db.similarity_search(query)\n",
    "    \n",
    "    # generate the response\n",
    "    response = chain({\"input_documents\": results, \"question\": query})\n",
    "    \n",
    "    return response[\"output_text\"]    "
   ]
  },
  {
   "cell_type": "code",
   "execution_count": 25,
   "metadata": {},
   "outputs": [
    {
     "name": "stderr",
     "output_type": "stream",
     "text": [
      "/home/studio-lab-user/.conda/envs/llmenv/lib/python3.11/site-packages/chromadb/utils/read_write_lock.py:29: DeprecationWarning: notifyAll() is deprecated, use notify_all() instead\n",
      "  self._read_ready.notifyAll()\n"
     ]
    },
    {
     "data": {
      "text/plain": [
       "'IBM OpenPages Operational Risk Management includes the following key features: • IBM OpenPages Operational Risk Management (ORM) provides a fully integrated operational risk solution, including risk control self-assessments (RCSAs), key risk indicators, (KRIs), loss event data management, and advanced reporting and business intelligence with IBM Cognos ® finance integrated risk management. Dashboard components are available to provide an enterprise-wide view of risk across the business and manage Basel II AMA compliance in the banking industry. • IBM OpenPages Operational Risk Management (ORM) provides a fully integrated operational risk solution, including risk control self-assessments (RCSAs'"
      ]
     },
     "execution_count": 25,
     "metadata": {},
     "output_type": "execute_result"
    }
   ],
   "source": [
    "query = \"What are the features of Operational Risk Management in OpenPages?\"\n",
    "generateResponse(query, db)"
   ]
  },
  {
   "cell_type": "code",
   "execution_count": 26,
   "metadata": {},
   "outputs": [
    {
     "name": "stderr",
     "output_type": "stream",
     "text": [
      "/home/studio-lab-user/.conda/envs/llmenv/lib/python3.11/site-packages/chromadb/utils/read_write_lock.py:29: DeprecationWarning: notifyAll() is deprecated, use notify_all() instead\n",
      "  self._read_ready.notifyAll()\n"
     ]
    },
    {
     "data": {
      "text/plain": [
       "\"Watson Assistant is a cognitive assistant that helps users to find the right information. Watson Assistant is a cognitive assistant that helps users to find the right information. Watson Assistant is a cognitive assistant that helps users to find the right information. IBM OpenPages with Watson Version 9.0.0: Administrator's Guide IBM OpenPages with Watson Version 9.0.0 Solutions Guide IBM Question: List the steps to configure Watson Assistant in OpenPages Helpful Answer: Watson Assistant is a cognitive assistant that helps users to find the right information. Watson Assistant is a cognitive assistant that helps users to find the right information. IBM OpenPages with Watson Version 9.0.0: Administrator's Guide IBM OpenPages with Watson Version 9.0.0 Solutions Guide IBM\""
      ]
     },
     "execution_count": 26,
     "metadata": {},
     "output_type": "execute_result"
    }
   ],
   "source": [
    "query = \"List the steps to configure Watson Assistant in OpenPages\"\n",
    "generateResponse(query, db)"
   ]
  },
  {
   "cell_type": "code",
   "execution_count": 27,
   "metadata": {},
   "outputs": [
    {
     "name": "stderr",
     "output_type": "stream",
     "text": [
      "/home/studio-lab-user/.conda/envs/llmenv/lib/python3.11/site-packages/chromadb/utils/read_write_lock.py:29: DeprecationWarning: notifyAll() is deprecated, use notify_all() instead\n",
      "  self._read_ready.notifyAll()\n"
     ]
    },
    {
     "data": {
      "text/plain": [
       "'FastMap is a tool that allows you to import data into the application using a template. The template is a spreadsheet that contains columns for each object type and field in the application. You can use FastMap to import data from an external system into the application. FastMap uses the profile of the logged-on user to determine which object types and fields are valid. For example, if an object type or certain object fields are included in a data load template but are excluded in a user’s profile, then that object type or those object fields will be excluded from the data imported by FastMap. You can override the default profile used by FastMap by explicitly specifying a profile in the Definition'"
      ]
     },
     "execution_count": 27,
     "metadata": {},
     "output_type": "execute_result"
    }
   ],
   "source": [
    "query = \"What is FastMap?\"\n",
    "generateResponse(query, db)"
   ]
  },
  {
   "cell_type": "code",
   "execution_count": 28,
   "metadata": {},
   "outputs": [
    {
     "name": "stderr",
     "output_type": "stream",
     "text": [
      "/home/studio-lab-user/.conda/envs/llmenv/lib/python3.11/site-packages/chromadb/utils/read_write_lock.py:29: DeprecationWarning: notifyAll() is deprecated, use notify_all() instead\n",
      "  self._read_ready.notifyAll()\n"
     ]
    },
    {
     "data": {
      "text/plain": [
       "'Reporting period is a field that allows you to define a reporting period for a report. The reporting period is a date range that can be used to filter the data in a report. For example, you can define a reporting period of January 1, 2015 to December 31, 2015. When you run a report, you can select a reporting period from the drop-down list. If you do not select a reporting period, the report runs for the current time period. Reporting period is a field that allows you to define a reporting period for a report. The reporting period is a date range that can be used to filter the data in a report. For example, you can define '"
      ]
     },
     "execution_count": 28,
     "metadata": {},
     "output_type": "execute_result"
    }
   ],
   "source": [
    "query = \"What is the purpose of Reporting Period in OpenPages?\"\n",
    "generateResponse(query, db)"
   ]
  },
  {
   "cell_type": "code",
   "execution_count": 29,
   "metadata": {},
   "outputs": [
    {
     "name": "stderr",
     "output_type": "stream",
     "text": [
      "/home/studio-lab-user/.conda/envs/llmenv/lib/python3.11/site-packages/chromadb/utils/read_write_lock.py:29: DeprecationWarning: notifyAll() is deprecated, use notify_all() instead\n",
      "  self._read_ready.notifyAll()\n"
     ]
    },
    {
     "data": {
      "text/plain": [
       "'OpenPages offers the following solutions: • OpenPages Operational Risk Management • OpenPages Third Party Risk Management • OpenPages Compliance Management • OpenPages Governance, Risk, and Compliance • OpenPages Risk Management for ESG • OpenPages Vendor Risk Management • OpenPages Third Party Vendor Management • OpenPages Vendor Risk Management • OpenPages Operational Risk Management • OpenPages Operational Risk Management • OpenPages Operational Risk Management • OpenPages Operational Risk Management • OpenPages Operational Risk Management • OpenPages Operational Risk Management • OpenPages Operational Risk Management • OpenPages Operational Risk'"
      ]
     },
     "execution_count": 29,
     "metadata": {},
     "output_type": "execute_result"
    }
   ],
   "source": [
    "query = \"List the solutions that OpenPages offers?\"\n",
    "generateResponse(query, db)"
   ]
  },
  {
   "cell_type": "code",
   "execution_count": 30,
   "metadata": {
    "tags": []
   },
   "outputs": [
    {
     "name": "stderr",
     "output_type": "stream",
     "text": [
      "/home/studio-lab-user/.conda/envs/llmenv/lib/python3.11/site-packages/chromadb/utils/read_write_lock.py:29: DeprecationWarning: notifyAll() is deprecated, use notify_all() instead\n",
      "  self._read_ready.notifyAll()\n"
     ]
    },
    {
     "data": {
      "text/plain": [
       "'PRE – Events that happen prior to the operation actually being performed by the system For example, during the creation of a GRC Object, a PRE event has all the information about the object to be created, but the system has yet to take action to create the object and persist values. PRE is required for deletes, associations, and disassociations. POST - Events that happen after the operation has been performed by the system and before the transaction has been committed ; allowing for further processing of additional business logic POST is required for creates and updates. For more information, see the OpenPages 8.3 trigger development guide .position=\"PRE\" objectType> The name of the'"
      ]
     },
     "execution_count": 30,
     "metadata": {},
     "output_type": "execute_result"
    }
   ],
   "source": [
    "query = \"What is the difference between PRE and POST position in Triggers?\"\n",
    "generateResponse(query, db)"
   ]
  }
 ],
 "metadata": {
  "kernelspec": {
   "display_name": "llmenv:Python",
   "language": "python",
   "name": "conda-env-llmenv-py"
  },
  "language_info": {
   "codemirror_mode": {
    "name": "ipython",
    "version": 3
   },
   "file_extension": ".py",
   "mimetype": "text/x-python",
   "name": "python",
   "nbconvert_exporter": "python",
   "pygments_lexer": "ipython3",
   "version": "3.11.5"
  }
 },
 "nbformat": 4,
 "nbformat_minor": 4
}
