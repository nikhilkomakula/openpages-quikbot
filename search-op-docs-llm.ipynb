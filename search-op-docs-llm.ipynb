{
 "cells": [
  {
   "cell_type": "code",
   "execution_count": 31,
   "metadata": {},
   "outputs": [],
   "source": [
    "# imports\n",
    "import os\n",
    "from dotenv import load_dotenv\n",
    "from genai.schemas import GenerateParams\n",
    "from genai.credentials import Credentials\n",
    "from langchain.vectorstores import Chroma\n",
    "from genai.extensions.langchain import LangChainInterface\n",
    "from langchain.text_splitter import CharacterTextSplitter\n",
    "from langchain.document_loaders import PyPDFDirectoryLoader\n",
    "from langchain.chains.question_answering import load_qa_chain\n",
    "from langchain.embeddings.sentence_transformer import SentenceTransformerEmbeddings"
   ]
  },
  {
   "cell_type": "code",
   "execution_count": 32,
   "metadata": {},
   "outputs": [],
   "source": [
    "# retrieve the watsonx.ai credentials\n",
    "load_dotenv()\n",
    "api_key = os.getenv(\"GENAI_KEY\", None)\n",
    "api_url = os.getenv(\"GENAI_API\", None)\n",
    "credentials = Credentials(api_key, api_endpoint=api_url)"
   ]
  },
  {
   "cell_type": "code",
   "execution_count": 33,
   "metadata": {},
   "outputs": [],
   "source": [
    "# generate LLM params\n",
    "params = GenerateParams(\n",
    "            decoding_method='greedy', \n",
    "            min_new_tokens=1,\n",
    "            max_new_tokens=200,\n",
    "            stream=False,\n",
    "            temperature=0.7,\n",
    "            repetition_penalty=2)"
   ]
  },
  {
   "cell_type": "code",
   "execution_count": 34,
   "metadata": {},
   "outputs": [],
   "source": [
    "# variables\n",
    "# ibm/mpt-7b-instruct -> 3/5\n",
    "# meta-llama/llama-2-7b -> 3/5\n",
    "# ibm/granite-13b-sft -> 3/5\n",
    "# google/ul2 -> 3.5/5\n",
    "model_id = 'google/ul2'\n",
    "pdf_folder_path = './data'\n",
    "db_folder_path = './db'"
   ]
  },
  {
   "cell_type": "code",
   "execution_count": 35,
   "metadata": {},
   "outputs": [],
   "source": [
    "# create a langchain interface to use with retrieved content\n",
    "langchain_model = LangChainInterface(model=model_id, params=params, credentials=credentials)"
   ]
  },
  {
   "cell_type": "code",
   "execution_count": 36,
   "metadata": {},
   "outputs": [],
   "source": [
    "# populate chroma db\n",
    "def generateDB():\n",
    "    # load PDFs from folder\n",
    "    loader = PyPDFDirectoryLoader(pdf_folder_path)\n",
    "    documents = loader.load()    \n",
    "\n",
    "    # load the document and split it into chunks\n",
    "    text_splitter = CharacterTextSplitter(chunk_size=1000, chunk_overlap=0, separator='\\n')\n",
    "    docs = text_splitter.split_documents(documents)\n",
    "\n",
    "    # create the open-source embedding function\n",
    "    embedding_function = SentenceTransformerEmbeddings(model_name=\"all-MiniLM-L6-v2\")\n",
    "\n",
    "    # save to disk\n",
    "    db = Chroma.from_documents(docs, embedding_function, persist_directory=\"./db\")\n",
    "    \n",
    "    return db"
   ]
  },
  {
   "cell_type": "code",
   "execution_count": 37,
   "metadata": {},
   "outputs": [
    {
     "name": "stdout",
     "output_type": "stream",
     "text": [
      "Chroma DB is not empty.\n"
     ]
    }
   ],
   "source": [
    "db = None\n",
    "\n",
    "if [f for f in os.listdir(db_folder_path) if not f.startswith('.')] == []:\n",
    "    print(\"Chroma DB is empty. Populating it.\")\n",
    "    \n",
    "    # generate chroma db\n",
    "    db = generateDB()\n",
    "else:\n",
    "    print(\"Chroma DB is not empty.\")\n",
    "\n",
    "    # create the open-source embedding function\n",
    "    embedding_function = SentenceTransformerEmbeddings(model_name=\"all-MiniLM-L6-v2\")\n",
    "\n",
    "    # load from disk\n",
    "    db = Chroma(persist_directory=\"./db\", embedding_function=embedding_function)"
   ]
  },
  {
   "cell_type": "code",
   "execution_count": 38,
   "metadata": {},
   "outputs": [],
   "source": [
    "# create the chain\n",
    "chain = load_qa_chain(langchain_model, chain_type=\"stuff\")"
   ]
  },
  {
   "cell_type": "code",
   "execution_count": 39,
   "metadata": {},
   "outputs": [],
   "source": [
    "# generate response\n",
    "def generateResponse(query, db):\n",
    "    \n",
    "    # retrieve results from chroma db\n",
    "    results = db.similarity_search(query)\n",
    "    \n",
    "    # generate the response\n",
    "    response = chain({\"input_documents\": results, \"question\": query})\n",
    "    \n",
    "    return response[\"output_text\"]    "
   ]
  },
  {
   "cell_type": "code",
   "execution_count": 40,
   "metadata": {},
   "outputs": [
    {
     "name": "stderr",
     "output_type": "stream",
     "text": [
      "/home/studio-lab-user/.conda/envs/llmenv/lib/python3.11/site-packages/chromadb/utils/read_write_lock.py:29: DeprecationWarning: notifyAll() is deprecated, use notify_all() instead\n",
      "  self._read_ready.notifyAll()\n"
     ]
    },
    {
     "data": {
      "text/plain": [
       "'IBM OpenPages Operational Risk Management includes the following key features: • IBM OpenPages Operational Risk Management (ORM) provides a fully integrated operational risk solution, including risk control self-assessments (RCSAs), key risk indicators, (KRIs), loss event data management, and advanced reporting and business intelligence with IBM Cognos ® finance integrated risk management. Dashboard components are available to provide an enterprise-wide view of risk across the business and manage Basel II AMA compliance in the banking industry. • IBM OpenPages Operational Risk Management (ORM) provides a fully integrated operational risk solution, including risk control self-assessments (RCSAs), key risk indicators, (KRIs), loss event data management, and advanced reporting and business intelligence with IBM Cognos ® finance integrated risk management. Dashboard components are available to provide an enterprise-wide view of risk across the business and'"
      ]
     },
     "execution_count": 40,
     "metadata": {},
     "output_type": "execute_result"
    }
   ],
   "source": [
    "query = \"What are the features of Operational Risk Management in OpenPages?\"\n",
    "generateResponse(query, db)"
   ]
  },
  {
   "cell_type": "code",
   "execution_count": 41,
   "metadata": {},
   "outputs": [
    {
     "name": "stderr",
     "output_type": "stream",
     "text": [
      "/home/studio-lab-user/.conda/envs/llmenv/lib/python3.11/site-packages/chromadb/utils/read_write_lock.py:29: DeprecationWarning: notifyAll() is deprecated, use notify_all() instead\n",
      "  self._read_ready.notifyAll()\n"
     ]
    },
    {
     "data": {
      "text/plain": [
       "'Watson Assistant is a cognitive assistant that helps OpenPages users to find the right information quickly and easily. Watson Assistant is available in OpenPages Helpful Answer: Watson Assistant is a cognitive assistant that helps OpenPages users to find the right information quickly and easily. Watson Assistant is available in OpenPages Helpful Answer: Watson Assistant is a cognitive assistant that helps OpenPages users to find the right information quickly and easily. Watson Assistant is available in OpenPages Helpful Answer: Watson Assistant is a cognitive assistant that helps OpenPages users to find the right information quickly and easily. Watson Assistant is available in OpenPages Helpful Answer: Watson Assistant is a cognitive assistant that helps OpenPages users to find the right information quickly and easily. Watson Assistant is available in OpenPages Helpful Answer: Watson Assistant is a cognitive assistant that helps OpenPages users to find the right information quickly and easily. Watson Assistant is available in OpenP'"
      ]
     },
     "execution_count": 41,
     "metadata": {},
     "output_type": "execute_result"
    }
   ],
   "source": [
    "query = \"How do I configure Watson Assistant in OpenPages\"\n",
    "generateResponse(query, db)"
   ]
  },
  {
   "cell_type": "code",
   "execution_count": 42,
   "metadata": {},
   "outputs": [
    {
     "name": "stderr",
     "output_type": "stream",
     "text": [
      "/home/studio-lab-user/.conda/envs/llmenv/lib/python3.11/site-packages/chromadb/utils/read_write_lock.py:29: DeprecationWarning: notifyAll() is deprecated, use notify_all() instead\n",
      "  self._read_ready.notifyAll()\n"
     ]
    },
    {
     "data": {
      "text/plain": [
       "'FastMap is a tool that allows you to import data into the application using a template. The template is a spreadsheet that contains columns for each object type and field in the application. You can use FastMap to import data from an external system into the application. FastMap uses the profile of the logged-on user to determine which object types and fields are valid. For example, if an object type or certain object fields are included in a data load template but are excluded in a user’s profile, then that object type or those object fields will be excluded from the data imported by FastMap. You can override the default profile used by FastMap by explicitly specifying a profile in the Definition worksheet of a template. For example, if you specify the profileName parameter as OpenPages Platform 3 , Fast Map will use that profile when importing data. Chapter 28. Using FastMap 778 •Parent Object'"
      ]
     },
     "execution_count": 42,
     "metadata": {},
     "output_type": "execute_result"
    }
   ],
   "source": [
    "query = \"What is FastMap?\"\n",
    "generateResponse(query, db)"
   ]
  },
  {
   "cell_type": "code",
   "execution_count": 43,
   "metadata": {},
   "outputs": [
    {
     "name": "stderr",
     "output_type": "stream",
     "text": [
      "/home/studio-lab-user/.conda/envs/llmenv/lib/python3.11/site-packages/chromadb/utils/read_write_lock.py:29: DeprecationWarning: notifyAll() is deprecated, use notify_all() instead\n",
      "  self._read_ready.notifyAll()\n"
     ]
    },
    {
     "data": {
      "text/plain": [
       "'Reporting Period is a period of time that is used to report on the data. Reporting Periods are used to define the time frame for which the data is reported. Reporting Periods are used to define the time frame for which the data is reported. Reporting Periods are used to define the time frame for which the data is reported. Reporting Periods are used to define the time frame for which the data is reported. Reporting Periods are used to define the time frame for which the data is reported. Reporting Periods are used to define the time frame for which the data is reported. Reporting Periods are used to define the time frame for which the data is reported. Reporting Periods are used to define the time frame for which the data is reported. Reporting Periods are used to define the time frame for which the data is reported. Reporting Periods are used to define the time frame for which the data is reported. Report'"
      ]
     },
     "execution_count": 43,
     "metadata": {},
     "output_type": "execute_result"
    }
   ],
   "source": [
    "query = \"What is the purpose of Reporting Period in OpenPages?\"\n",
    "generateResponse(query, db)"
   ]
  },
  {
   "cell_type": "code",
   "execution_count": 44,
   "metadata": {},
   "outputs": [
    {
     "name": "stderr",
     "output_type": "stream",
     "text": [
      "/home/studio-lab-user/.conda/envs/llmenv/lib/python3.11/site-packages/chromadb/utils/read_write_lock.py:29: DeprecationWarning: notifyAll() is deprecated, use notify_all() instead\n",
      "  self._read_ready.notifyAll()\n"
     ]
    },
    {
     "data": {
      "text/plain": [
       "'OpenPages offers the following solutions: • OpenPages Operational Risk Management • OpenPages Third Party Risk Management • OpenPages Compliance Management • OpenPages Governance, Risk, and Compliance • OpenPages Risk Management for ESG • OpenPages Vendor Risk Management • OpenPages Third Party Vendor Management • OpenPages Vendor Risk Management • OpenPages Operational Risk Management • OpenPages Operational Risk Management • OpenPages Operational Risk Management • OpenPages Operational Risk Management • OpenPages Operational Risk Management • OpenPages Operational Risk Management • OpenPages Operational Risk Management • OpenPages Operational Risk Management • OpenPages Operational Risk Management • OpenPages Operational Risk Management • OpenPages Operational Risk Management • OpenPages Operational Risk Management • OpenPages Operational Risk Management • OpenPages'"
      ]
     },
     "execution_count": 44,
     "metadata": {},
     "output_type": "execute_result"
    }
   ],
   "source": [
    "query = \"List the solutions that OpenPages offers?\"\n",
    "generateResponse(query, db)"
   ]
  },
  {
   "cell_type": "code",
   "execution_count": 45,
   "metadata": {},
   "outputs": [
    {
     "name": "stderr",
     "output_type": "stream",
     "text": [
      "/home/studio-lab-user/.conda/envs/llmenv/lib/python3.11/site-packages/chromadb/utils/read_write_lock.py:29: DeprecationWarning: notifyAll() is deprecated, use notify_all() instead\n",
      "  self._read_ready.notifyAll()\n"
     ]
    },
    {
     "data": {
      "text/plain": [
       "'PRE – Events that happen prior to the operation actually being performed by the system For example, during the creation of a GRC Object, a PRE event has all the information about the object to be created, but the system has yet to take action to create the object and persist values. PRE is required for deletes, associations, and disassociations. POST - Events that happen after the operation has been performed by the system and before the transaction has been committed ; allowing for further processing of additional business logic POST is required for creates and updates. For more information, see the OpenPages 8.3 trigger development guide .position=\"PRE\" objectType> The name of the object type you want to create messages for (i.e. the transaction has been committed ; allowing for further processing of additional business logic. The position may affect the availability of certain information and methods within the trigger context for the rules and event'"
      ]
     },
     "execution_count": 45,
     "metadata": {},
     "output_type": "execute_result"
    }
   ],
   "source": [
    "query = \"What is the difference between PRE and POST position in Triggers?\"\n",
    "generateResponse(query, db)"
   ]
  }
 ],
 "metadata": {
  "kernelspec": {
   "display_name": "llmenv:Python",
   "language": "python",
   "name": "conda-env-llmenv-py"
  },
  "language_info": {
   "codemirror_mode": {
    "name": "ipython",
    "version": 3
   },
   "file_extension": ".py",
   "mimetype": "text/x-python",
   "name": "python",
   "nbconvert_exporter": "python",
   "pygments_lexer": "ipython3",
   "version": "3.11.5"
  }
 },
 "nbformat": 4,
 "nbformat_minor": 4
}
