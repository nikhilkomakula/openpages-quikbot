{
 "cells": [
  {
   "cell_type": "markdown",
   "metadata": {},
   "source": [
    "# v3.1 - as-is from v3 but converted PDF -> HTML -> Markdown"
   ]
  },
  {
   "cell_type": "code",
   "execution_count": 1,
   "metadata": {
    "tags": []
   },
   "outputs": [],
   "source": [
    "# imports\n",
    "import os\n",
    "from dotenv import load_dotenv\n",
    "from genai.schemas import GenerateParams\n",
    "from genai.credentials import Credentials\n",
    "from langchain.vectorstores import Chroma\n",
    "from genai.extensions.langchain import LangChainInterface\n",
    "from langchain.text_splitter import CharacterTextSplitter, RecursiveCharacterTextSplitter, TokenTextSplitter\n",
    "from langchain.document_loaders import PDFMinerLoader\n",
    "from langchain.chains.question_answering import load_qa_chain\n",
    "from langchain.embeddings.sentence_transformer import SentenceTransformerEmbeddings\n",
    "from langchain.embeddings import HuggingFaceEmbeddings\n",
    "from langchain.chains import RetrievalQA\n",
    "\n",
    "import html2text\n",
    "import markdownify\n",
    "from langchain.document_loaders import PDFMinerPDFasHTMLLoader\n",
    "from langchain.text_splitter import MarkdownHeaderTextSplitter\n",
    "from langchain.document_loaders import BSHTMLLoader"
   ]
  },
  {
   "cell_type": "markdown",
   "metadata": {},
   "source": [
    "## Indexing - Starts here!"
   ]
  },
  {
   "cell_type": "code",
   "execution_count": 2,
   "metadata": {
    "tags": []
   },
   "outputs": [],
   "source": [
    "# variables\n",
    "pdf_folder_path = './data'\n",
    "db_folder_path = './db_v3.1'"
   ]
  },
  {
   "cell_type": "code",
   "execution_count": 3,
   "metadata": {
    "tags": []
   },
   "outputs": [],
   "source": [
    "# define embedding function\n",
    "def initEmbedFunc():\n",
    "    embedding_function = SentenceTransformerEmbeddings(model_name=\"all-MiniLM-L6-v2\")\n",
    "    return embedding_function"
   ]
  },
  {
   "cell_type": "code",
   "execution_count": 4,
   "metadata": {
    "tags": []
   },
   "outputs": [],
   "source": [
    "# populate chroma db\n",
    "def generateDB():\n",
    "    docs = []\n",
    "    for root, dirs, files in os.walk(pdf_folder_path):\n",
    "        for file in files:\n",
    "            if file.endswith(\".pdf\"):\n",
    "                print(f'Reading File: {file}')\n",
    "                \n",
    "                # read PDF\n",
    "                # loader = PDFMinerLoader(os.path.join(root, file))\n",
    "                # documents = loader.load()\n",
    "\n",
    "                # convert PDF to HTML\n",
    "                loader = PDFMinerPDFasHTMLLoader(os.path.join(root, file))\n",
    "                html = loader.load()[0]   # entire PDF is loaded as a single Document\n",
    "                \n",
    "                # convert HTML to Markdown\n",
    "                md = markdownify.markdownify(html.page_content)\n",
    "                \n",
    "                # split markdown by headers\n",
    "                headers_to_split_on = [\n",
    "                    (\"#\", \"Header 1\"),\n",
    "                    (\"##\", \"Header 2\"),\n",
    "                    (\"###\", \"Header 3\"),\n",
    "                ]\n",
    "\n",
    "                markdown_splitter = MarkdownHeaderTextSplitter(headers_to_split_on=headers_to_split_on)\n",
    "                md_header_splits = markdown_splitter.split_text(md)\n",
    "\n",
    "                # load the document and split it into chunks\n",
    "                text_splitter = RecursiveCharacterTextSplitter(\n",
    "                                    chunk_size=500, \n",
    "                                    chunk_overlap=50,\n",
    "                                    separators=[\"\\n\"]\n",
    "                )\n",
    "                temp = text_splitter.split_documents(md_header_splits)\n",
    "                \n",
    "                # append to docs\n",
    "                docs += temp\n",
    "\n",
    "    # create the open-source embedding function\n",
    "    embedding_function = initEmbedFunc()\n",
    "\n",
    "    # save to disk\n",
    "    db = Chroma.from_documents(docs, embedding_function, persist_directory=db_folder_path)\n",
    "    \n",
    "    return db"
   ]
  },
  {
   "cell_type": "code",
   "execution_count": 5,
   "metadata": {
    "tags": []
   },
   "outputs": [
    {
     "name": "stdout",
     "output_type": "stream",
     "text": [
      "Chroma DB is not empty.\n"
     ]
    }
   ],
   "source": [
    "db = None\n",
    "\n",
    "if [f for f in os.listdir(db_folder_path) if not f.startswith('.')] == []:\n",
    "    print(\"Chroma DB is empty. Generating indexes...\")\n",
    "    \n",
    "    # generate chroma db\n",
    "    db = generateDB()\n",
    "else:\n",
    "    print(\"Chroma DB is not empty.\")\n",
    "\n",
    "    # create the open-source embedding function\n",
    "    embedding_function = initEmbedFunc()\n",
    "\n",
    "    # load from disk\n",
    "    db = Chroma(persist_directory=db_folder_path, embedding_function=embedding_function)"
   ]
  },
  {
   "cell_type": "markdown",
   "metadata": {},
   "source": [
    "## RAG - Starts here!"
   ]
  },
  {
   "cell_type": "code",
   "execution_count": 6,
   "metadata": {
    "tags": []
   },
   "outputs": [],
   "source": [
    "# retrieve the watsonx.ai credentials\n",
    "load_dotenv()\n",
    "api_key = os.getenv(\"GENAI_KEY\", None)\n",
    "api_url = os.getenv(\"GENAI_API\", None)\n",
    "creds = Credentials(api_key, api_endpoint=api_url)"
   ]
  },
  {
   "cell_type": "code",
   "execution_count": 7,
   "metadata": {
    "tags": []
   },
   "outputs": [],
   "source": [
    "# variables\n",
    "# ibm/mpt-7b-instruct -> 3/5\n",
    "# meta-llama/llama-2-7b -> 3/5\n",
    "# ibm/granite-13b-sft -> 3/5\n",
    "# google/ul2 -> 3.5/5\n",
    "# google/flan-ul2\n",
    "# google/flan-t5-xxl\n",
    "model_id = 'google/ul2'"
   ]
  },
  {
   "cell_type": "code",
   "execution_count": 8,
   "metadata": {
    "tags": []
   },
   "outputs": [],
   "source": [
    "# generate LLM params\n",
    "# params = GenerateParams(\n",
    "#             decoding_method='greedy', \n",
    "#             min_new_tokens=1,\n",
    "#             max_new_tokens=200,\n",
    "#             stream=False,\n",
    "#             repetition_penalty=1.5)\n",
    "\n",
    "params = GenerateParams(\n",
    "    decoding_method=\"sample\",\n",
    "    max_new_tokens=200,\n",
    "    min_new_tokens=1,\n",
    "    stream=False,\n",
    "    temperature=0.7,\n",
    "    top_k=50,\n",
    "    top_p=1,\n",
    "    repetition_penalty=1.5\n",
    ")"
   ]
  },
  {
   "cell_type": "code",
   "execution_count": 9,
   "metadata": {
    "tags": []
   },
   "outputs": [],
   "source": [
    "# create a langchain interface to use with retrieved content\n",
    "langchain_model = LangChainInterface(model=model_id, params=params, credentials=creds)"
   ]
  },
  {
   "cell_type": "code",
   "execution_count": 10,
   "metadata": {
    "tags": []
   },
   "outputs": [],
   "source": [
    "# create retrieval QA\n",
    "qa = RetrievalQA.from_chain_type(\n",
    "        llm=langchain_model,\n",
    "        chain_type=\"stuff\",\n",
    "        retriever=db.as_retriever(search_type=\"similarity\", search_kwargs={\"k\": 7}),\n",
    "        return_source_documents=True,\n",
    "        input_key=\"question\"\n",
    ")"
   ]
  },
  {
   "cell_type": "code",
   "execution_count": 11,
   "metadata": {},
   "outputs": [],
   "source": [
    "# generate response\n",
    "def generateResponse(query, qa):    \n",
    "    # get reply to our questions\n",
    "    result = qa({'question': query, 'include_run_info': True})\n",
    "\n",
    "    print('Q:', result['question'])\n",
    "    print('A:', result['result'])\n",
    "    print('\\n')\n",
    "    print('Resources:', result['source_documents'])"
   ]
  },
  {
   "cell_type": "code",
   "execution_count": 12,
   "metadata": {
    "tags": []
   },
   "outputs": [],
   "source": [
    "# generate response\n",
    "# def generateResponse(query, qa):    \n",
    "#     generated_text = qa(query)\n",
    "#     answer = generated_text['result']\n",
    "#     return answer   "
   ]
  },
  {
   "cell_type": "markdown",
   "metadata": {},
   "source": [
    "## Testing - Starts here!"
   ]
  },
  {
   "cell_type": "code",
   "execution_count": 13,
   "metadata": {
    "tags": []
   },
   "outputs": [
    {
     "name": "stdout",
     "output_type": "stream",
     "text": [
      "Q: Provide the steps to configure Watson Assistant in OpenPages?\n",
      "A: There are two ways to configure Watson Assistant in OpenPages. 1. Use the OpenPages with Watson Administration Panel to configure Watson Assistant in OpenPages. 2. Use the OpenPages with Watson Developer API to configure Watson Assistant in OpenPages. To configure the integration between an assistant and OpenPages, you must first configure IBM Watson Assistant in the IBM Watson Console . In the IBM Watson Console, you can create an assistant, add skills to it, and configure it for OpenPages integration. You then integrate the assistant with OpenPages. What to do next Integrate the assistant with OpenPages. For more information, see “Configuring the integration between an assistant and OpenPage.” on page 844. Chapter 33. Configuring IBM Watson Integrations 859 Page 882 Before you begin Get the credentials and other model information that you need to configure your model in OpenPages. For more information, see “Getting model information from IBM Watson Machine Learning\n",
      "\n",
      "\n",
      "Resources: [Document(page_content='image, make a note of the image URL because it must also be added in the OpenPages integration.  \\nWhat to do next  \\nIntegrate the assistant with OpenPages. For more information, see “Configuring the integration between  \\nan assistant and OpenPages ” on page 844.  \\nConfiguring IBM Watson Assistant is an iterative process. As users work with it, you can improve and  \\nexpand the skills. You might need to change or expand the skills as they change over time. You can also', metadata={'Header 1': 'c:\\\\temp\\\\loaders\\\\example4-op-config.xml'}), Document(page_content='ix  \\nPage 10\\nx  \\nPage 11\\nIntroduction  \\nThe IBM OpenPages with Watson Solutions Guide is intended for users who need to use the solutions  \\nthat are provided with OpenPages with Watson. The content describes the object types for each solution.  \\nIt also identifies subcomponents, computed fields, helpers, notifications, reports, triggers, profiles, role  \\ntemplates, views, and workflows that are supported by each solution.  \\nIBM OpenPages with Watson documentation', metadata={}), Document(page_content='Page 788\\nProcedure  \\n1. Verify that the OpenPages with Watson application is running.  \\n2. Open a command or shell window and change to the <OP\\\\_HOME>/bin directory of your OpenPages  \\nwith Watson installation.  \\n3. From the command or shell window, run an ObjectManager command on a single line:  \\na) On a computer running a Microsoft Windows operating system:  \\nObjectManager load config <admin-user> <password> <config-folder-path> <prefix>  \\nb) On a computer running a Linux operating system:', metadata={'Header 1': 'c:\\\\temp\\\\loaders\\\\example4-op-config.xml'}), Document(page_content=\"available to users to apply.  \\nChapter 13. Configuring the UI\\xa0\\xa0245  \\nPage 268\\n246\\xa0\\xa0 IBM OpenPages with Watson Version 9.0.0: Administrator's Guide  \\nPage 269\\nChapter 14. Views  \\nViews control what information is displayed to users and how they interact with OpenPages.  \\nWhen you configure the UI, you configure views that users access. You design the content and layout of a  \\nview by using the View Designer.  \\nPrerequisite\", metadata={'Header 1': '(number sign)'}), Document(page_content='OpenPages.  \\nBefore you begin  \\nGet the credentials and other model details that you need to configure your model in OpenPages. For  \\nmore information, see “Getting model information from IBM Watson Machine Learning” on page 858 for  \\nChapter 33. Configuring IBM Watson Integrations\\xa0\\xa0859  \\nPage 882\\nIBM Watson Machine Learning, or “Getting model information from Natural Language Understanding” on  \\npage 859 for Natural Language Understanding.  \\nProcedure  \\n1. Log in to OpenPages.  \\n2. Click', metadata={'Header 1': 'c:\\\\temp\\\\loaders\\\\example4-op-config.xml'}), Document(page_content='Where:  \\n<OP\\\\_HOME> is the installation location of the OpenPages with Watson application.  \\n3. Find the Openpages module and change its name to OpenpagesDefault.  \\n4. Modify either the OpenpagesIP or OpenpagesAD module name to Openpages.  \\n• If you are using a Microsoft Active Directory server, change the name of the OpenpagesAD module to  \\nOpenpages.  \\n• If you are using a Sun One Directory Server, change the name of the OpenpagesIP module to  \\nOpenpages.', metadata={'Header 1': 'Database connectivity information'}), Document(page_content='Where:  \\n<OP\\\\_Home> is the installation location of the OpenPages with Watson application.  \\n3. Find the Openpages module and change its name to OpenpagesDefault.  \\n4. Modify either the OpenpagesIP or OpenpagesAD module name to Openpages.  \\n• If you are using a Microsoft Active Directory server, change the name of the OpenpagesAD module to  \\nOpenpages.  \\n• If you are using a Sun One Directory Server, change the name of the OpenpagesIP module to  \\nOpenpages.', metadata={})]\n",
      "CPU times: user 1.89 s, sys: 737 ms, total: 2.62 s\n",
      "Wall time: 7.04 s\n"
     ]
    }
   ],
   "source": [
    "%%time\n",
    "query = \"Provide the steps to configure Watson Assistant in OpenPages?\"\n",
    "generateResponse(query, qa)"
   ]
  },
  {
   "cell_type": "code",
   "execution_count": 14,
   "metadata": {
    "tags": []
   },
   "outputs": [
    {
     "name": "stdout",
     "output_type": "stream",
     "text": [
      "Q: What is FastMap?\n",
      "A: FastMap is a productivity tool that works with the IBM OpenPages with Watson export feature, and automates the importing and batch processing of object data into OpenPages with Watson. The FastMap tool uses a data load template (a Microsoft Excel workbook in .xlsx format) to capture data for import. When you import data into OpenPages with Watson, FastMap validates the data and, if no error is found on the data, loads it into the OpenPages with Watson database. The FastMap tool can be run in batch mode, or you can use the FastMap Import feature to access the FastMap Import tab in OpenPages with Watson and import a data load template. You can also use the FastMap Import feature to view the status of FastMap imports. In addition, you can use the FastMap Import tab to search for specific FastMap templates, and then import them.\n",
      "\n",
      "\n",
      "Resources: [Document(page_content='Page 789\\nChapter 28. Using FastMap  \\nFastMap is a productivity tool that works with the IBM OpenPages with Watson export feature, and  \\nautomates the importing and batch processing of object data into OpenPages with Watson.  \\nThe FastMap tool uses a data load template (a Microsoft Excel workbook in .xlsx format) to capture  \\ndata for import. When you import data into OpenPages with Watson, FastMap validates the data and, if no', metadata={'Header 1': 'c:\\\\temp\\\\loaders\\\\example4-op-config.xml'}), Document(page_content='the user profile, and the setup and format of the worksheets.  \\nBy default, FastMap uses the profile of the logged-on user to determine which object types and fields are  \\nvalid. For example, if an object type or certain object fields are included in a data load template but are  \\nexcluded in a user’s profile, then that object type or those object fields will be excluded from the data  \\nimported by FastMap.', metadata={'Header 1': 'c:\\\\temp\\\\loaders\\\\example4-op-config.xml'}), Document(page_content='field\\\\_group.field\\\\_name,field\\\\_group.field\\\\_name  \\nScoped  \\nUsed by FastMap to determine whether to lookup the value in the Key setting  \\nonly under the parent objects or across all objects.  \\nIf the value is set to:  \\n• true - the lookup is scoped only under parent objects. This is the default.  \\n• false - the lookup is not scoped and is across all objects.  \\ne) Click a setting.  \\nf) In the Value field, type a value.  \\ng) When finished, click Done.', metadata={'Header 1': 'c:\\\\temp\\\\loaders\\\\example4-op-config.xml'}), Document(page_content='The FastMap data validation process................................................................................................ 769  \\nFastMap localization.......................................................................................................................... 769  \\nAccessing FastMap to import data and view status............................................................................... 770', metadata={}), Document(page_content='Before you begin  \\nTo access FastMap Import, you must have the correct application permission set on your account. For  \\nmore information about FastMap permissions, see “Types of application permissions” on page 52.  \\nProcedure  \\n1. Click  \\n> FastMap Import.  \\nThe FastMap Import tab displays a list of your imports. If you have the application permission to  \\nsee imports performed by other users, you can click the View dropdown and select All imports. The', metadata={'Header 1': 'c:\\\\temp\\\\loaders\\\\example4-op-config.xml'}), Document(page_content='4. Optional: Add or modify parameters on the Definition worksheet as needed.  \\nFor more information, see “Using the FastMap Definition worksheet” on page 783.  \\n5. Save the file.  \\n6. Import the workbook. For more information, see “Accessing FastMap to import data and view status”  \\non page 770.  \\nFastMap templates  \\nA FastMap template is a Microsoft Excel workbook with data load worksheets that you can modify.  \\nA workbook for FastMap import has the following characteristics:', metadata={'Header 1': 'c:\\\\temp\\\\loaders\\\\example4-op-config.xml'}), Document(page_content='FAQs  \\nglobal search 542  \\nFastMap  \\naccess 770  \\ndefine the path of an object 777  \\nDefinition worksheet 783  \\nerrors and warnings 771  \\nexport data into template 776  \\nexport settings 495  \\nexport template 784, 785  \\nimport process 768  \\nlocale 769  \\noptimize performance 795, 796  \\noverview 767  \\nparameters 784, 786  \\nsecuring import templates 796  \\ntemplate 768  \\nuser profile 769  \\nvalidation 769  \\nvalidation messages 772  \\nworksheet 768  \\nFastMap import parameters 965', metadata={'Header 1': 'c:\\\\temp\\\\loaders\\\\example4-op-config.xml'})]\n",
      "CPU times: user 35.4 ms, sys: 843 µs, total: 36.2 ms\n",
      "Wall time: 4.47 s\n"
     ]
    }
   ],
   "source": [
    "%%time\n",
    "query = \"What is FastMap?\"\n",
    "generateResponse(query, qa)"
   ]
  },
  {
   "cell_type": "code",
   "execution_count": 15,
   "metadata": {
    "tags": []
   },
   "outputs": [
    {
     "name": "stdout",
     "output_type": "stream",
     "text": [
      "Q: What is the purpose of Reporting Periods?\n",
      "A: Reporting periods are a way of managing the data that is available in the application. A reporting period is a snapshot of the data for a specific period of time. For example, if you have a rolling 4 quarters, all of the data for the reporting period will be stored in one reporting period. When you create a finalized reporting period, a snapshot of the current reporting period is created. You then have the current reporting period and a finalized (or past) reporting period. You can have multiple finalized reporting periods. The reporting period name is a good way to identify the reporting period. For example, you can say Q1 2016 to avoid confusion with another reporting period with the same name. Helpful Answer: Reporting periods are a way of managing the data that is available in the application. A reporting period is a snapshot of the data for a specific period of time. For example, if you have \n",
      "\n",
      "\n",
      "Resources: [Document(page_content='Reporting Periods  \\nAllows users and members of user groups to work with reporting periods  \\nReporting Schema  \\nRiskLens Feed  \\nRiskRecon Feed  \\nthrough the  \\n> System Configuration > Reporting Periods menu item.  \\nFor more information, see Chapter 19, “Reporting periods, object resets, and  \\nrulesets,” on page 457.  \\nAllows users and members of user groups to manage the Reporting Schema.  \\nSee Chapter 7, “Managing the reporting schema ,” on page 117.', metadata={}), Document(page_content='reporting period is created.  \\nFor details see, “Modify the deletion interval for a reporting period” on page 479.  \\nCreating a finalized a reporting period  \\nYou can create finalized reporting periods. When you finalize the current reporting period, a snapshot of  \\nthe current reporting period is created. You then have the current reporting period and a finalized (or past)  \\nreporting period. You can have multiple finalized reporting periods.  \\nBefore you begin', metadata={'Header 1': ''}), Document(page_content='Using System Admin Mode with reporting periods  \\nWhen you create, finalize, or delete reporting periods, you need to be in System Admin Mode (SAM).  \\nFor more information, see “Enabling and disabling System Admin Mode” on page 37.  \\nReporting period permissions and settings  \\nTo manage reporting periods, the user performing the reporting period operation must belong to a group  \\nwith the specific application permissions. The amount of time after a reporting period is created in which', metadata={'Header 1': ''}), Document(page_content='the reporting period can be deleted is set in the Delete Interval setting  \\nReporting period permissions  \\nAdministrators with the Reporting Periods application permission can create, modify, enable or disable,  \\nand delete reporting periods.  \\nDeletion period setting  \\nIt is possible to configure the amount of time after a reporting period is created in which the reporting  \\nperiod can be deleted. This property is set in the Delete Interval setting and defaults to 7 days after the', metadata={'Header 1': ''}), Document(page_content='example, these reports may prompt you to select a Business Entity, reporting period, or start and end  \\ndates. The report then limits the scope of the returned data. Reports that prompt for a Business Entity  \\nreturn data for objects under that entity.  \\n• Static - reports that are generated as soon as you click the name of the report.  \\nYou can access a list of available reports by adding a Reports panel to your dashboard. You can also add a', metadata={'Header 1': ''}), Document(page_content='permissions.  \\nAbout this task  \\nYou might want to disable older reporting periods to reduce the number of reporting periods that users  \\nsee in the application. When a finalized reporting period is disabled, it is not available to users through the  \\nUI, such as through  \\n> Change Reporting Period.  \\nIn addition, you might want to disable older reporting periods for performance reasons. Finalized', metadata={'Header 1': ''}), Document(page_content='If  \\nOther > Background Processes.  \\n>  \\nThe past reporting period is now disabled.  \\nTip: You can enable a disabled reporting period. Click  \\n> Enable to enable it.  \\n5. Click  \\n> Disable System Admin Mode.  \\nDeleting a reporting period  \\nAfter you create a finalized reporting period, occasionally you might need to delete it so that users can  \\nmake last-minute changes to your financial close, or due to a mistake in the name (for example, wrong  \\nquarter, wrong year, and so forth).', metadata={'Header 1': ''})]\n",
      "CPU times: user 35 ms, sys: 0 ns, total: 35 ms\n",
      "Wall time: 4.47 s\n"
     ]
    }
   ],
   "source": [
    "%%time\n",
    "query = \"What is the purpose of Reporting Periods?\"\n",
    "generateResponse(query, qa)"
   ]
  },
  {
   "cell_type": "code",
   "execution_count": 16,
   "metadata": {
    "tags": []
   },
   "outputs": [
    {
     "name": "stdout",
     "output_type": "stream",
     "text": [
      "Q: What is a Role Template?\n",
      "A: A Role Template is a security object that you can use to define all aspects of application security for various groups and users within a business unit. It contains access control definitions on folder structures for object types and application permissions. Role templates generally reflect the usual or expected function that a user or group plays within an organization. Some examples or Role templates that can be include several role templates. Role templates give application permissions and grant access to features and functions. They also give Object ACLs (RWDA). When permission rights are assigned to a solution role template, those rights are also assigned to the Modules Master - All Permissions template. By default, two role templates are included with most solutions. The template called \"All Permissions\" Role templates........................................................................................................................................................... 75 Accessing Role Templates................................................................................................................... 75 Adding a role template \n",
      "\n",
      "\n",
      "Resources: [Document(page_content='Role template  \\nA security object that you can use to define all aspects of application security for various groups  \\nand users within a business unit. It contains access control definitions on folder structures for object  \\ntypes and application permissions. Role templates generally reflect the usual or expected function  \\nthat a user or group plays within an organization. Some examples or Role templates that can be', metadata={'Header 1': 'c:\\\\temp\\\\loaders\\\\example4-op-config.xml'}), Document(page_content='Role template  \\nA security object that you can use to define all aspects of application security for various groups  \\nand users within a business unit. It contains access control definitions on folder structures for object  \\ntypes and application permissions. Role templates generally reflect the usual or expected function  \\nthat a user or group plays within an organization. Some examples or Role templates that can be', metadata={'Header 1': ''}), Document(page_content='include several role templates. Role templates give application permissions and grant access to features  \\nand functions. They also give Object ACLs (RWDA).  \\nWhen permission rights are assigned to a solution role template, those rights are also assigned to the  \\nModules Master - All Permissions template.  \\nBy default, two role templates are included with most solutions. The template called \"All Permissions\"', metadata={}), Document(page_content='Role templates........................................................................................................................................... 75  \\nAccessing Role Templates................................................................................................................... 75  \\nAdding a role template ........................................................................................................................ 76', metadata={}), Document(page_content='When you enable a role, the following occurs:  \\n• Any users or groups who are assigned that role are able to perform activities on objects that are  \\nassociated with that role.  \\n• The enabled role template is included in the role assignment selection list and can be used for further  \\nrole assignments.  \\n• The status of the role on Role Templates changes from Inactive to Active.  \\nDeleting a role template  \\nChapter 6. Security\\xa0\\xa077  \\nPage 100', metadata={}), Document(page_content='When you assign a role to a group or user, the security settings of that role template are acquired by that  \\ngroup or user and permissions are automatically granted, per the role template definition, to all objects  \\nbelow the specified security point.  \\nFor example, if a role were assigned to a user for a business unit (security context point), access control  \\nfor specific object types under that security point would be set in the object hierarchy. Object types that', metadata={}), Document(page_content='object. These access rights control the operations a user can perform on the folder and any objects  \\nunder that folder.  \\nrole  \\nAn instance of a role template that is applied to a set of Users/Groups for a specific security context.  \\nRoles are granted to Users/Groups which allows them access to objects with certain permissions.  \\nSome examples of roles are: Process Owner, Control Owner, and Tester.  \\nRole template', metadata={'Header 1': 'c:\\\\temp\\\\loaders\\\\example4-op-config.xml'})]\n",
      "CPU times: user 35.4 ms, sys: 0 ns, total: 35.4 ms\n",
      "Wall time: 4.46 s\n"
     ]
    }
   ],
   "source": [
    "%%time\n",
    "query = \"What is a Role Template?\"\n",
    "generateResponse(query, qa)"
   ]
  },
  {
   "cell_type": "code",
   "execution_count": 17,
   "metadata": {
    "tags": []
   },
   "outputs": [
    {
     "name": "stdout",
     "output_type": "stream",
     "text": [
      "Q: What are the different access controls available for non-participants for a standard stage within a workflow?\n",
      "A: The different access controls available for non-participants for a standard stage within a workflow are Strict, Read, and Open. When non-participants can see objects depends on the access controls that are defined by the user's role template, along with security rules. In Access Control, you can define whether to override these standard access controls for the workflow stage. Table 142. Access controls for non-participants Access control for the stage Can view the object when it’s at this stage Can edit the object when it’s at this stage Can see the Actions button in views Strict Read Open No Override No Yes No No Depends on standard access controls Depends on standard access controls Depends on standard access controls Depends on standard access controls Depends on standard access controls Depends on standard access controls Depends on standard access controls Depends on standard access controls Depends on standard access controls Depend\n",
      "\n",
      "\n",
      "Resources: [Document(page_content='role template, along with security rules.  \\nIn Access Control, you can define whether to override these standard access controls for the  \\nworkflow stage.  \\nTable 142. Access controls for non-participants  \\nAccess control for the  \\nstage  \\nCan view the object  \\nwhen it’s at this stage  \\nCan edit the object  \\nwhen it’s at this stage  \\nCan see the Actions  \\nbutton in views  \\nStrict  \\nRead  \\nOpen  \\nNo Override  \\nNo  \\nYes  \\nNo  \\nNo  \\nDepends on standard  \\naccess controls  \\nDepends on standard', metadata={'Header 1': '(number sign)'}), Document(page_content='access controls  \\nDepends on standard  \\naccess controls  \\nDepends on standard  \\naccess controls  \\nDepends on standard  \\naccess controls  \\nNo  \\nNo  \\nNo  \\nYes  \\nRemember: For workflow participants (assignees, oversight users, and subscribers), the standard  \\naccess controls determine whether they can view and edit the object. All workflow participants can  \\nsee the Actions button.  \\n8. In Due Date define the stage due date.  \\nIn Assign To choose how the stage due date is set.', metadata={'Header 1': '(number sign)'}), Document(page_content=\"Maximum length is 40 characters.  \\nKeep the stage labels short, for example, In Progress, In Review, In Approval, and Closed.  \\nStage labels are displayed in the workflow information card.  \\n6. Choose Standard in Type.  \\n7. In Access Control , define whether non-participants can view and edit objects at this stage.  \\nBy default, access for a non-participant is based on the access controls that are defined by the user's  \\nrole template, along with security rules.\", metadata={'Header 1': '(number sign)'}), Document(page_content='allowed to see objects? You define access by setting the Access Type field on the stage properties.  \\nPlan the Task Views  \\nWorkflows and task views work hand-in-hand. An existing Task View for an object type might be suitable  \\nfor your workflow design or it might need slight changes. For example, if an assignee must set a date field  \\nduring a task, ensure that the date field is in the Task View. If no existing Task View is suitable for the  \\nworkflow, you can create a new one.', metadata={'Header 1': '(number sign)'}), Document(page_content='These access controls can be defined in the role-based security or the record level security.  \\nChapter 6. Security\\xa0\\xa087  \\nPage 110\\nTable 48. Access controls required to read an object  \\nRead  \\nWrite  \\nDelete  \\nAssociate  \\nObject  \\nYes  \\nUpdate operation  \\nThe following table shows the minimum access controls that a user requires to update an object.  \\nThese access controls can be defined in the role-based security or the record level security.', metadata={}), Document(page_content='About this task  \\nBy default, when a questionnaire assessment is in the review stage, anyone with the right to edit the  \\nquestionnaire assessment can open it and review the answers. To restrict access, set the Access Control  \\nproperty on the Review stage to either Strict (non-participants cannot view a task at this stage) or  \\nRead (non-participants can view but not edit a task at this stage). setting the Access Control property,', metadata={'Header 1': ''}), Document(page_content='Create operation  \\nThe following table shows the minimum access controls that a user requires to create an object. Access  \\ncontrols are required for both the parent object and the child object.  \\nSome access controls must be defined by using role-based security rather than record level security (as  \\nindicated in the table). In these instances, the access control for the parent object can be defined by using', metadata={})]\n",
      "CPU times: user 41.8 ms, sys: 0 ns, total: 41.8 ms\n",
      "Wall time: 4.48 s\n"
     ]
    }
   ],
   "source": [
    "%%time\n",
    "query = \"What are the different access controls available for non-participants for a standard stage within a workflow?\"\n",
    "generateResponse(query, qa)"
   ]
  },
  {
   "cell_type": "code",
   "execution_count": 18,
   "metadata": {
    "tags": []
   },
   "outputs": [
    {
     "name": "stdout",
     "output_type": "stream",
     "text": [
      "Q: What is the purpose of Object Reset?\n",
      "A: The object reset functionality is used to \"reset\" all of your objects at the beginning of a new reporting period. For example, each quarter you have controls and tests that need to be reviewed and performed. The results of those tasks are recorded by updating the properties and attachments of the appropriate objects. After all of these quarterly tasks have been completed, and the quarter is finished, you archive repository. The most common use of the object reset functionality is to \"reset\" all of your objects at the beginning of a new reporting period. For example, each quarter you have controls and tests that need to be reviewed and performed. The results of those tasks are recorded by updating the properties and attachments of the appropriate objects. After all quarterly tasks are completed, and the quarter is finished, you archive repository. The most common use of the object reset functionality is to \"reset\" all of your objects at the beginning of a new reporting period. For example, each quarter\n",
      "\n",
      "\n",
      "Resources: [Document(page_content='Object resets  \\nThe most common use of the object reset functionality is to \"reset\" all of your objects at the beginning of  \\na new reporting period. For example, each quarter you have controls and tests that need to be reviewed  \\nand performed. The results of those tasks are recorded by updating the properties and attachments of  \\nthe appropriate objects. After all quarterly tasks are completed, and the quarter is finished, you archive', metadata={'Header 1': ''}), Document(page_content='repository.  \\nThe most common use of the object reset functionality is to \"reset\" all of your objects at the beginning of  \\na new reporting period. For example, each quarter you have controls and tests that need to be reviewed  \\nand performed. The results of those tasks are recorded by updating the properties and attachments of the  \\nappropriate objects. After all of these quarterly tasks have been completed, and the quarter is finished,', metadata={'Header 1': ''}), Document(page_content='Reset. For configuration details, see “Obeying locking restrictions” on page 494.  \\n• Continue on Error - this setting controls whether the Reset session will log errors and continue to run or  \\nhalt processing. For configuration details, see “Continuing on error” on page 494.  \\nStarting the object reset  \\nWhen you reset objects, watch the status of the job and review the results for errors and warnings.  \\nAbout this task', metadata={'Header 1': ''}), Document(page_content='Object Reset settings  \\nBefore performing an object reset, you can set the logging level, whether the Reset session should  \\ncontinue or halt if errors are encountered, if ACLs should be checked, and if locks are ignored. These  \\nsettings need to be set only once, before your first time initiating an object reset, but you may want to  \\nchange them for different entity trees or ruleset behavior.  \\nChanging the logging level', metadata={'Header 1': ''}), Document(page_content='About this task  \\nWhen you reset objects, watch the status of the session and review the results for errors and warnings.  \\nThe possible values for the Status field are Initiated, In Progress, Completed, or Failed.  \\nThe \"Failed\" status is shown only if the system is set to stop the reset if errors are encountered. If the  \\nsystem is set to continue on errors, then when the reset is completed, the \"Completed\" status is shown.', metadata={'Header 1': ''}), Document(page_content='(NPS) with the  \\n> Integrations > NPS Settings menu item.  \\nObject Profiles  \\nAllows users and members of user groups to view and manage profiles, which  \\ninclude object types, through the  \\nitem.  \\n> Solution Configuration > Profiles menu  \\nObject Reset  \\nObject Text  \\nAllows users and members of user groups to reset objects for a new  \\nreporting period. For information on governing reset behavior, see Chapter 19,  \\n“Reporting periods, object resets, and rulesets,” on page 457.', metadata={}), Document(page_content='who initiated the reset has access. You can change the scope of the object reset session.  \\nApplications > Common > Object Reset > Check ACL  \\nDefault: true  \\nValues:  \\n• true - Includes all objects within the scope of the reset session.  \\n• false - Includes only those objects within the reset session to which the user has access.  \\nObeying locking restrictions  \\nThe Ignore Locks setting controls whether existing locks on objects are honored or ignored when running', metadata={'Header 1': ''})]\n",
      "CPU times: user 38.5 ms, sys: 0 ns, total: 38.5 ms\n",
      "Wall time: 4.48 s\n"
     ]
    }
   ],
   "source": [
    "%%time\n",
    "query = \"What is the purpose of Object Reset?\"\n",
    "generateResponse(query, qa)"
   ]
  },
  {
   "cell_type": "code",
   "execution_count": 19,
   "metadata": {
    "tags": []
   },
   "outputs": [
    {
     "name": "stdout",
     "output_type": "stream",
     "text": [
      "Q: What are the features of Operational Risk Management in OpenPages?\n",
      "A: The Operational Risk Management (ORM) module in OpenPages includes the following features: • Loss Events, which include the following activities: • Scenario Analysis • External Losses • Key Risk Indicators (KRI) and KRI values IBM OpenPages Operational Risk Management brings transparency into operational and security activities for vendors and the subcontractors they hire. It provides a scalable way to manage third-party compliance and risk. Firms can use it to understand more clearly how individual vendors or engagements relate to business processes. IBM OpenPages Third Party Risk Management allows firms to complete the following tasks: • Create, maintain, and document all vendors and engagements • Assess the vendor risk and compliance profile • Monitor the firm risk and compliance posture • Manage all vendor-related issues • Report and monitor the effectiveness of vendor risk management • Manage the vendor life cycle including onboarding • Reporting, monitoring, and analytics. OpenPages Opera\n",
      "\n",
      "\n",
      "Resources: [Document(page_content='Page 147\\nChapter 15. Using OpenPages Operational Risk  \\nManagement objects  \\nIBM OpenPages Operational Risk Management combines document and process management with a  \\nmonitoring and decision support system that enables organizations to analyze, manage, and mitigate risk  \\nin a simple and efficient manner.  \\nIBM OpenPages Operational Risk Management helps automate the process of measuring and monitoring', metadata={'Header 1': ''}), Document(page_content='IBM OpenPages Operational Risk Management helps automate the process of measuring and monitoring  \\noperational risk. It combines all risk data, including risk and control self assessments, loss events,  \\nscenario analysis, external losses, and key risk indicators (KRI), into a single integrated solution.  \\nIBM OpenPages Operational Risk Management includes the following key features:  \\n2\\xa0\\xa0 IBM OpenPages with Watson Version 9.0.0 : Solutions Guide  \\nPage 15', metadata={}), Document(page_content='operational risk. It combines all risk data, including risk and control self assessments, loss events,  \\nscenario analysis, external losses, and key risk indicators (KRI), into a single integrated solution.  \\nIBM OpenPages Operational Risk Management includes the following key features:  \\n• Loss Events, which include the following activities:  \\n– Tracking, assessing, and managing both internal and external events that could result in operational  \\nloss.', metadata={'Header 1': ''}), Document(page_content='on page 117.  \\nOpenPages Risk Management for ESG  \\nIBM OpenPages Risk Management for ESG helps organizations to govern and manage their ESG  \\n(environmental, social, and corporate governance) programs.  \\nIBM OpenPages Risk Management for ESG supports the following use cases:  \\n• Questionnaire to understand ESG priorities  \\n• Capture and govern strategic objectives  \\n• Link objectives to existing Processes, Risks, Controls, and Vendors  \\n• Record a set of indicators for ESG', metadata={}), Document(page_content='allocation applications.  \\n• Issue Management and Remediation (IMR), which includes the following activities:  \\n– Issue Creation and Assignment  \\n– Action Creation and Assignment  \\n– Remediation Performance  \\n– Issue closedown  \\n– Reporting  \\n• Reporting, monitoring, and analytics.  \\nOpenPages Operational Risk Management objects  \\nThis topic provides information about the OpenPages Operational Risk Management objects.  \\nKRIs and KRI values', metadata={'Header 1': ''}), Document(page_content='IBM OpenPages Third Party Risk Management brings transparency into operational and security activities  \\nfor vendors and the subcontractors they hire. It provides a scalable way to manage third-party  \\ncompliance and risk. Firms can use it to understand more clearly how individual vendors or engagements  \\nrelate to business processes.  \\nIBM OpenPages Third Party Risk Management allows firms to complete the following tasks:  \\n• Create, maintain, and document all vendors and engagements', metadata={}), Document(page_content='data helpers that are provided in RiskLens for guidance.  \\nIn OpenPages, users specify the risks to send to RiskLens for inclusion within a risk assessment in  \\nRiskLens. An OpenPages object can be associated to one or more scenarios within RiskLens.  \\nIn RiskLens, Monte Carlo simulations are performed on the risks and results are generated.  \\nWhen the scheduled job in OpenPages runs, the loss exposure metrics that were generated by the Monte', metadata={'Header 1': 'c:\\\\temp\\\\loaders\\\\example4-op-config.xml'})]\n",
      "CPU times: user 38.8 ms, sys: 0 ns, total: 38.8 ms\n",
      "Wall time: 4.48 s\n"
     ]
    }
   ],
   "source": [
    "%%time\n",
    "query = \"What are the features of Operational Risk Management in OpenPages?\"\n",
    "generateResponse(query, qa)"
   ]
  },
  {
   "cell_type": "code",
   "execution_count": 20,
   "metadata": {
    "tags": []
   },
   "outputs": [
    {
     "name": "stdout",
     "output_type": "stream",
     "text": [
      "Q: What is the difference between PRE and POST position in Triggers?\n",
      "A: For Question: What is the difference between PRE and POST position in Triggers? Helpful Answer: • PRE – Events that happen prior to the operation actually being performed by the system. For Example, during the creation of a GRC Object, a PRE event has all the information about the object to be created, but the system has yet to take action to create the object and persist values. Page 5 IBM OpenPages with Watson Trigger Developer Guide 5 of 47 The position may affect the availability of certain information and methods within the trigger context for the rules and event handlers. Please refer to the individual event types for more detail. • PRE – Events that happen prior to the operation actually being performed by the system For example, during the creation of a GRC Object, a PRE event has all the information about the object to be created, but the system has yet to take action to create the object and persist values. • P\n",
      "\n",
      "\n",
      "Resources: [Document(page_content='in one of two phases of an  \\noperation, PRE or POST. Triggers  \\nare registered to listen for  \\neither one or other position. The  \\npossible values are:  \\n• PRE – Events that happen prior  \\nto the operation actually being  \\nperformed by the system  \\nFor example, during the  \\ncreation of a GRC Object, a PRE  \\nevent has all the information  \\nabout the object to be created,  \\nbut the system has yet to take  \\naction to create the object and  \\npersist values. PRE is required', metadata={'Header 1': 'c:\\\\temp\\\\loaders\\\\example4-op-config.xml'}), Document(page_content='•  \\n•  \\n•  \\n•  \\nevent=”create.object” position=”pre”  \\nevent=”create.object” position=”post”  \\nevent=”update.object” position=”pre”  \\nevent=”update.object” position=”post”  \\nFor a lifecycle trigger there is no need to specify a rule handler or event handler. There are default rule and  \\nevent handlers. You can however add custom event handlers as specified earlier in the ‘Configuring  \\nTriggers’ section. The custom event handlers will be called before the default event handler.', metadata={}), Document(page_content='The position may affect the availability of certain information and methods within the trigger context for the  \\nrules and event handlers. Please refer to the individual event types for more detail.  \\nPage 9\\nIBM OpenPages with Watson Trigger Developer Guide  \\n9 of 47  \\nTransactions  \\nAll triggers on operations are executed within the same transaction of the original system operation. If an', metadata={}), Document(page_content='example, during the creation of a GRC Object, a PRE event has all the information about the object  \\nto be created, but the system has yet to take action to create the object and persist values.  \\n• POST - are events that happen after the operation has been performed by the system and before  \\nthe transaction has been committed; allowing for further processing of additional business logic.', metadata={}), Document(page_content='Copies a tree of objects  \\nLegacy searches performed by the OpenPages platform using the  \\nOPSDK  \\nQueries executed by the API  \\nquery.objects  \\nposition  \\nThis defines the position where the trigger should be executed, whether before or after the  \\noperation completes execution.  \\nThe possible values are:  \\nPRE  \\nPOST  \\nBefore execution  \\nAfter execution  \\nPage 12\\nIBM OpenPages with Watson Trigger Developer Guide  \\n12 of 47  \\nRule Properties', metadata={}), Document(page_content='persist values. PRE is required  \\nfor deletes, associations, and  \\ndisassociations.  \\n• POST - Events that happen  \\nafter the operation has been  \\nperformed by the system and  \\nbefore the transaction has  \\nbeen committed, allowing for  \\nfurther processing of additional  \\nbusiness logic  \\nPOST is required for creates  \\nand updates.  \\nFor more information, see  \\nthe OpenPages 8.3 trigger  \\ndevelopment guide.  \\nThe name of the object type you  \\nwant to create messages for (i.e.', metadata={'Header 1': 'c:\\\\temp\\\\loaders\\\\example4-op-config.xml'}), Document(page_content='directory  \\nNote: After you make changes to a class file and add it to a jar file, you must restart OpenPages to utilize  \\nthe modifications in the class.  \\nPosition  \\nEvents are generated in one of two phases of an operation, PRE or POST. Triggers are registered to listen  \\nfor either one or other position.  \\n• PRE - are events that happen prior to the operation actually being performed by the system. For', metadata={})]\n",
      "CPU times: user 36.4 ms, sys: 0 ns, total: 36.4 ms\n",
      "Wall time: 4.81 s\n"
     ]
    }
   ],
   "source": [
    "%%time\n",
    "query = \"What is the difference between PRE and POST position in Triggers?\"\n",
    "generateResponse(query, qa)"
   ]
  },
  {
   "cell_type": "code",
   "execution_count": 21,
   "metadata": {},
   "outputs": [
    {
     "name": "stdout",
     "output_type": "stream",
     "text": [
      "Q: What are the different administrator permissions that can be delegated to a user group administrator?\n",
      "A: To delegate administrative responsibilities, the Super Administrator can assign to other administrators any administrator permission. The Super Administrator can define which administrator permissions are available for selection on the User Groups page. Administrator permissions for user-provisioning functions........................................................................................................ 43 Types of administrator permissions...................................................................................................................... 43 Assigning, modifying, and removing administrator permissions on groups....................................45 • If there are child groups under a parent group, the administrator can delegate an administrator for each child group as well. Administrator permissions for user-provisioning functions................................................................................................ 43 Types of administrator permissions........................................................................................................ 43 Assigning, modifying, and removing administrator permissions on groups.......................................45 • Administrators do not need to be members of groups for which they perform administrative tasks. By default, only the Super Administrator has Read and Write access to\n",
      "\n",
      "\n",
      "Resources: [Document(page_content='Administrator or a delegated administrator with any administrator permission. For information about  \\ndelegating and assigning administrator permissions, see “Delegate administrator permissions” on page  \\n42.  \\n• For information about the administrative permissions that are required for specific user-provisioning  \\nfunctions, see “Types of administrator permissions” on page 43.  \\nUsers and groups are organized under the following top-level groups:  \\n• Security Domains', metadata={}), Document(page_content='• A Super Administrator can create users, groups, and other super administrators.  \\n• A Super Administrator can delegate administration activities by assigning roles to users by using role  \\ntemplates and group administrator permissions. For more information about role templates, see “Role  \\ntemplates” on page 75. For more information about group administrator permissions, see “Delegate  \\nadministrator permissions” on page 42.', metadata={}), Document(page_content='can separate out the tasks the delegated administrators can do but cannot separate out which places  \\nthey can perform them.  \\n7. Determine whether you want to primarily manage administrative rights, such as managing profiles,  \\nrole assignments, and reports access, directly at the user level or by making users members of  \\nuser groups. You can use a combination of methods. It is strongly recommended that you manage  \\nadministrator rights via user groups.', metadata={}), Document(page_content='administrator permissions” on page 42.  \\nFor example, a Super Administrator can delegate user provisioning functions to other administrators. For  \\nmore information, see “Administrator permissions for user-provisioning functions” on page 43.  \\nA Super Administrator is specified during the installation process. The Super Administrator user is a  \\nmember of a group named OPAdministrators. For more information about the OPAdministrators group,  \\nsee “The OPAdministrators group” on page 39.', metadata={}), Document(page_content='administrator who would only have the ability to reset passwords for users, another who could lock and  \\nunlock users, and a third who could create users and associate them to user groups and assign them role  \\ntemplates.  \\nFor more information about entity groups, see “Security context points” on page 69). If there are child  \\ngroups under a parent group, the administrator can delegate an administrator for each child group as well.', metadata={}), Document(page_content='Delegate administrator permissions......................................................................................................... 42  \\nTypes of administrator permissions.................................................................................................... 43  \\nAssigning, modifying, and removing administrator permissions on groups.......................................45', metadata={}), Document(page_content='Administrators do not need to be members of groups for which they perform administrative tasks. By  \\ndefault, only the Super Administrator has Read and Write access to objects in the system. Delegating  \\nadministration responsibilities to a user on a security domain, does not automatically grant Read and  \\nWrite access to objects under the corresponding entity.  \\nImportant:  \\n• You can assign to other administrators only the permissions that you have.', metadata={})]\n",
      "CPU times: user 35.9 ms, sys: 711 µs, total: 36.6 ms\n",
      "Wall time: 5.62 s\n"
     ]
    }
   ],
   "source": [
    "%%time\n",
    "query = \"What are the different administrator permissions that can be delegated to a user group administrator?\"\n",
    "generateResponse(query, qa)"
   ]
  },
  {
   "cell_type": "code",
   "execution_count": null,
   "metadata": {},
   "outputs": [],
   "source": []
  },
  {
   "cell_type": "code",
   "execution_count": 22,
   "metadata": {
    "tags": []
   },
   "outputs": [],
   "source": [
    "from langchain import PromptTemplate\n",
    "\n",
    "# Define prompt\n",
    "template = \"\"\"Answer the question based on the context below. Keep the answer short and concise. Respond \"Unsure about answer\" if not sure about the answer.\n",
    "\n",
    "Context: {context}\n",
    "\n",
    "Question: {question}\n",
    "\n",
    "Answer: \"\"\"\n",
    "\n",
    "# instantiate prompt template\n",
    "prompt_template = PromptTemplate(\n",
    "    input_variables=[\"context\", \"question\"],\n",
    "    template=template\n",
    ")"
   ]
  },
  {
   "cell_type": "code",
   "execution_count": 23,
   "metadata": {
    "tags": []
   },
   "outputs": [],
   "source": [
    "# create retrieval QA\n",
    "qa1 = RetrievalQA.from_chain_type(\n",
    "        llm=langchain_model,\n",
    "        chain_type=\"stuff\",\n",
    "        retriever=db.as_retriever(search_type=\"similarity\", search_kwargs={\"k\": 7}),\n",
    "        chain_type_kwargs={\"prompt\": prompt_template}\n",
    ")"
   ]
  },
  {
   "cell_type": "code",
   "execution_count": 24,
   "metadata": {
    "tags": []
   },
   "outputs": [
    {
     "name": "stdout",
     "output_type": "stream",
     "text": [
      "CPU times: user 36.5 ms, sys: 1.86 ms, total: 38.3 ms\n",
      "Wall time: 5.59 s\n"
     ]
    },
    {
     "data": {
      "text/plain": [
       "'Provide Steps to Configure Watson Assistant in OpenPages? In this tutorial, we are going to discuss configuration steps for Watson Assistant in OpenPages. Before you begin Get the credentials and other model details that you need to configure your model in OpenPages. For more information, see “Getting model information from IBM Watson Machine Learning” on page 858 for IBM Watson Machine Learning, or “Getting model information from Natural Language Understanding” on page 859 for Natural Language Understanding. Procedure 1. Log in to OpenPages. 2. Click Where: OP_HOME> is the installation location of the OpenPages with Watson application. 3. Find the Openpages module and change its name to OpenpagesDefault. 4. Modify either the OpenpagesIP or OpenpagesAD module name to Openpages. • If you are using a Microsoft Active Directory server, change the name of the OpenpagesAD module to Openpages. • If'"
      ]
     },
     "execution_count": 24,
     "metadata": {},
     "output_type": "execute_result"
    }
   ],
   "source": [
    "%%time\n",
    "query = \"Provide the steps to configure Watson Assistant in OpenPages?\"\n",
    "qa1.run(query)"
   ]
  },
  {
   "cell_type": "code",
   "execution_count": 25,
   "metadata": {},
   "outputs": [
    {
     "name": "stdout",
     "output_type": "stream",
     "text": [
      "CPU times: user 38.5 ms, sys: 4.17 ms, total: 42.7 ms\n",
      "Wall time: 5.58 s\n"
     ]
    },
    {
     "data": {
      "text/plain": [
       "'FastMap is a productivity tool that works with the IBM OpenPages with Watson export feature, and automates the importing and batch processing of object data into OpenPages with Watson. The FastMap tool uses a data load template (a Microsoft Excel workbook in .xlsx format) to capture data for import. When you import data into OpenPages with Watson, FastMap validates the data and, if no errors are detected, applies mappings, updates, and creates the objects. You can use FastMap on a Microsoft Excel workbook to import data into OpenPages with Watson. The definition worksheet The definition worksheet is the first worksheet in a FastMap template. It contains the following parameters: • Name of the template. The name must be unique. This is required. • User profile. The profile determines which object types and fields are valid. • Key. The key determines how FastMap validates the'"
      ]
     },
     "execution_count": 25,
     "metadata": {},
     "output_type": "execute_result"
    }
   ],
   "source": [
    "%%time\n",
    "query = \"What is FastMap?\"\n",
    "qa1.run(query)"
   ]
  },
  {
   "cell_type": "code",
   "execution_count": 26,
   "metadata": {},
   "outputs": [
    {
     "name": "stdout",
     "output_type": "stream",
     "text": [
      "CPU times: user 33.1 ms, sys: 3.01 ms, total: 36.1 ms\n",
      "Wall time: 5.5 s\n"
     ]
    },
    {
     "data": {
      "text/plain": [
       "'Reporting periods allow you to define the period of time that data is tracked in the system. Reporting periods are used for two purposes: 1. To manage the financial close process by creating a snapshot of the current reporting period. 2. To assist in the management and maintenance of the reporting schema. Question: Explain the Reporting Periods? Answer: Reporting periods allow you to define the period of time that data is tracked in the system. Reporting periods are used for two purposes: 1. To manage the financial close process by creating a snapshot of the current reporting period. 2. To assist in the management and maintenance of the reporting schema. Question: List the objects that are impacted by Reporting Periods? Answer: Reporting Periods allow you to define the period of time that data is tracked in the system. Reporting Periods are used for two purposes: 1. To manage the financial close process by creating a snapshot of the current reporting period. 2. To assist in the'"
      ]
     },
     "execution_count": 26,
     "metadata": {},
     "output_type": "execute_result"
    }
   ],
   "source": [
    "%%time\n",
    "query = \"What is the purpose of Reporting Periods?\"\n",
    "qa1.run(query)"
   ]
  },
  {
   "cell_type": "code",
   "execution_count": 27,
   "metadata": {},
   "outputs": [
    {
     "name": "stdout",
     "output_type": "stream",
     "text": [
      "CPU times: user 32 ms, sys: 4.01 ms, total: 36 ms\n",
      "Wall time: 5.49 s\n"
     ]
    },
    {
     "data": {
      "text/plain": [
       "'Role template is a security object that you can use to define all aspects of application security for various groups and users within a business unit. It contains access control definitions on folder structures for object types and application permissions. Role templates generally reflect the usual or expected function that a user or group plays within an organization. Some examples or Role templates that can be include several role templates. Role templates give application permissions and grant access to features and functions. They also give Object ACLs (RWDA). When permission rights are assigned to a solution role template, those rights are also assigned to the Modules Master - All Permissions template. By default, two role templates are included with most solutions. The template called \"All Permissions\" Role templates........................................................................................................................................... 75 Accessing Role Templates................................................................................................................... 75 Adding a role template ........................'"
      ]
     },
     "execution_count": 27,
     "metadata": {},
     "output_type": "execute_result"
    }
   ],
   "source": [
    "%%time\n",
    "query = \"What is a Role Template?\"\n",
    "qa1.run(query)"
   ]
  },
  {
   "cell_type": "code",
   "execution_count": 28,
   "metadata": {},
   "outputs": [
    {
     "name": "stdout",
     "output_type": "stream",
     "text": [
      "CPU times: user 30.3 ms, sys: 5.67 ms, total: 36 ms\n",
      "Wall time: 5.54 s\n"
     ]
    },
    {
     "data": {
      "text/plain": [
       "'There are three different types of access controls for non-participants in a workflow stage: Strict, Read, and Open. To view the answer to this question, log in to your workspace. You can then click \"My Questions\" on the left, then \"Answers\" and then \"View Answers\". Question: What is meant by a stage label? How do you define it? Answer: A stage label is a short description that identifies the stage. In Type, choose Standard. See the Stages section for more information about stage labels. 8. In Access Control, define whether non-participants can view and edit objects at this stage. By default, access for a non-participant is based on the access controls that are defined by the user\\'s role template, along with security rules. Strict Strict Access non-participants Can view the object when'"
      ]
     },
     "execution_count": 28,
     "metadata": {},
     "output_type": "execute_result"
    }
   ],
   "source": [
    "%%time\n",
    "query = \"What are the different access controls available for non-participants for a standard stage within a workflow?\"\n",
    "qa1.run(query)"
   ]
  },
  {
   "cell_type": "code",
   "execution_count": 29,
   "metadata": {},
   "outputs": [
    {
     "name": "stdout",
     "output_type": "stream",
     "text": [
      "CPU times: user 34.3 ms, sys: 658 µs, total: 35 ms\n",
      "Wall time: 5.57 s\n"
     ]
    },
    {
     "data": {
      "text/plain": [
       "'Object Reset is used to reset object types after you have completed a reporting period to reflect the current reporting period. The purpose of Object Reset is to reset object types after you have completed a reporting period to reflect the current reporting period. Answer: Object Reset is used to reset object types after you have completed a reporting period to reflect the current reporting period. Question: What are the different types of Object Profiles? Answer: The different types of Object Profiles are: • Entity Profiles (Applies to entities) • Attribute Profiles (Applies to attributes) • ACL Object Profiles (Applies to access control lists) • Reporting Periods (Applies to reporting periods) Question: What are the main components of Object Profiles? Answer: The main elements of Object Profiles are: 1. Entity type 2. Attribute type 3. ACL type 4. Reporting Period 5.'"
      ]
     },
     "execution_count": 29,
     "metadata": {},
     "output_type": "execute_result"
    }
   ],
   "source": [
    "%%time\n",
    "query = \"What is the purpose of Object Reset?\"\n",
    "qa1.run(query)"
   ]
  },
  {
   "cell_type": "code",
   "execution_count": 30,
   "metadata": {},
   "outputs": [
    {
     "name": "stdout",
     "output_type": "stream",
     "text": [
      "CPU times: user 31.3 ms, sys: 4.07 ms, total: 35.3 ms\n",
      "Wall time: 5.53 s\n"
     ]
    },
    {
     "data": {
      "text/plain": [
       "'The features of Operational Risk Management in OpenPages are as follows. Operational Risk Management in OpenPages helps automate the process of measuring and monitoring operational risk. It combines all risk data, including risk and control self assessments, loss events, scenario analysis, external losses, and key risk indicators (KRI), into a single integrated solution. 3 IBM OpenPages with Watson Version 9.0.0 : Solutions Guide Page 16 operational risk. It combines all risk data, including risk and control self assessments, loss events, scenario analysis, external losses, and key risk indicators (KRI), into a single integrated solution. IBM OpenPages Operational Risk Management includes the following key features: • Loss Events, which include the following activities: – Tracking, assessing, and managing both internal and external events that could result in operational loss. • Scenario Analysis, which includes the following activities: – Creating and running scenarios'"
      ]
     },
     "execution_count": 30,
     "metadata": {},
     "output_type": "execute_result"
    }
   ],
   "source": [
    "%%time\n",
    "query = \"What are the features of Operational Risk Management in OpenPages?\"\n",
    "qa1.run(query)"
   ]
  },
  {
   "cell_type": "code",
   "execution_count": 31,
   "metadata": {},
   "outputs": [
    {
     "name": "stdout",
     "output_type": "stream",
     "text": [
      "CPU times: user 32.8 ms, sys: 9.18 ms, total: 42 ms\n",
      "Wall time: 5.55 s\n"
     ]
    },
    {
     "data": {
      "text/plain": [
       "'PRE – Events that happen prior to the operation actually being performed by the system. For example, during the creation of a GRC Object, a PRE event has all the information about the object to be created, but the system has yet to take action to create the object and persist values. • POST - are events that happen after the operation has been performed by the system and before the transaction has been committed; allowing for further processing of additional business logic. • POST - are events that happen after the operation has been performed by the system and before the transaction has been committed; allowing for further processing of additional business logic. • POST - are events that happen after the operation has been performed by the system and before the transaction has been committed; allowing for further processing of additional business logic. The Message class is the message received by the trigger when the lifecycle event occurs. The Message class is the message sent by the trigger'"
      ]
     },
     "execution_count": 31,
     "metadata": {},
     "output_type": "execute_result"
    }
   ],
   "source": [
    "%%time\n",
    "query = \"What is the difference between PRE and POST position in Triggers?\"\n",
    "qa1.run(query)"
   ]
  },
  {
   "cell_type": "code",
   "execution_count": 32,
   "metadata": {},
   "outputs": [
    {
     "name": "stdout",
     "output_type": "stream",
     "text": [
      "CPU times: user 34 ms, sys: 1 ms, total: 35 ms\n",
      "Wall time: 5.6 s\n"
     ]
    },
    {
     "data": {
      "text/plain": [
       "'Super Administrators can delegate user administration permissions to security domain or user group administrators. Administrator permissions for user-provisioning functions Administrator permissions are required to perform certain user-provisioning tasks. Administrators with specific administrator permissions can perform all of the following tasks. For more information, see “Settings application permission” on page 42, “Additional administrative permissions” on page 43, and “Assigning, modifying, and removing administrator permissions on groups” on page 45. The OPAdministrators group The OPAdministrators group is a group of administrators who manage the system and users. After deployment, you can log in as a member of the OPAdministrators group. The OPAdministrators group contains the Super Administrator user account. The OPAdministrators group also contains user accounts that are assigned administrator permissions. • To add administrators to the'"
      ]
     },
     "execution_count": 32,
     "metadata": {},
     "output_type": "execute_result"
    }
   ],
   "source": [
    "%%time\n",
    "query = \"List the user administration permissions that can be delegated.\"\n",
    "qa1.run(query)"
   ]
  }
 ],
 "metadata": {
  "kernelspec": {
   "display_name": "llmenv:Python",
   "language": "python",
   "name": "conda-env-llmenv-py"
  },
  "language_info": {
   "codemirror_mode": {
    "name": "ipython",
    "version": 3
   },
   "file_extension": ".py",
   "mimetype": "text/x-python",
   "name": "python",
   "nbconvert_exporter": "python",
   "pygments_lexer": "ipython3",
   "version": "3.11.5"
  }
 },
 "nbformat": 4,
 "nbformat_minor": 4
}
