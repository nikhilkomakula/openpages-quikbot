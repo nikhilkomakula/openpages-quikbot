{
 "cells": [
  {
   "cell_type": "markdown",
   "metadata": {},
   "source": [
    "# v3.2 - as-is from v3 but converted PDF -> HTML -> Text"
   ]
  },
  {
   "cell_type": "code",
   "execution_count": 1,
   "metadata": {
    "tags": []
   },
   "outputs": [],
   "source": [
    "# imports\n",
    "import os\n",
    "from dotenv import load_dotenv\n",
    "from genai.schemas import GenerateParams\n",
    "from genai.credentials import Credentials\n",
    "from langchain.vectorstores import Chroma\n",
    "from genai.extensions.langchain import LangChainInterface\n",
    "from langchain.text_splitter import CharacterTextSplitter, RecursiveCharacterTextSplitter, TokenTextSplitter\n",
    "from langchain.document_loaders import PDFMinerLoader\n",
    "from langchain.chains.question_answering import load_qa_chain\n",
    "from langchain.embeddings.sentence_transformer import SentenceTransformerEmbeddings\n",
    "from langchain.embeddings import HuggingFaceEmbeddings\n",
    "from langchain.chains import RetrievalQA\n",
    "\n",
    "import html2text\n",
    "import markdownify\n",
    "from langchain.document_loaders import PDFMinerPDFasHTMLLoader\n",
    "from langchain.schema.document import Document"
   ]
  },
  {
   "cell_type": "markdown",
   "metadata": {},
   "source": [
    "## Indexing - Starts here!"
   ]
  },
  {
   "cell_type": "code",
   "execution_count": 2,
   "metadata": {
    "tags": []
   },
   "outputs": [],
   "source": [
    "# variables\n",
    "pdf_folder_path = './data'\n",
    "db_folder_path = './db_v3.2'"
   ]
  },
  {
   "cell_type": "code",
   "execution_count": 3,
   "metadata": {
    "tags": []
   },
   "outputs": [],
   "source": [
    "# define embedding function\n",
    "def initEmbedFunc():\n",
    "    embedding_function = SentenceTransformerEmbeddings(model_name=\"all-MiniLM-L6-v2\")\n",
    "    return embedding_function"
   ]
  },
  {
   "cell_type": "code",
   "execution_count": 4,
   "metadata": {
    "tags": []
   },
   "outputs": [],
   "source": [
    "# populate chroma db\n",
    "def generateDB():\n",
    "    docs = []\n",
    "    for root, dirs, files in os.walk(pdf_folder_path):\n",
    "        for file in files:\n",
    "            if file.endswith(\".pdf\"):\n",
    "                print(f'Reading File: {file}')\n",
    "                \n",
    "                # read PDF\n",
    "                # loader = PDFMinerLoader(os.path.join(root, file))\n",
    "                # documents = loader.load()\n",
    "\n",
    "                # convert PDF to HTML\n",
    "                loader = PDFMinerPDFasHTMLLoader(os.path.join(root, file))\n",
    "                html = loader.load()[0]   # entire PDF is loaded as a single Document\n",
    "                \n",
    "                # convert HTML to Text\n",
    "                text = html2text.html2text(html.page_content)\n",
    "\n",
    "                # load the document and split it into chunks\n",
    "                text_splitter = RecursiveCharacterTextSplitter(\n",
    "                                    chunk_size=500, \n",
    "                                    chunk_overlap=50,\n",
    "                                    separators=[\"\\n\"]\n",
    "                )\n",
    "                temp = [Document(page_content=x) for x in text_splitter.split_text(text)]\n",
    "                \n",
    "                # append to docs\n",
    "                docs += temp\n",
    "\n",
    "    # create the open-source embedding function\n",
    "    embedding_function = initEmbedFunc()\n",
    "\n",
    "    # save to disk\n",
    "    db = Chroma.from_documents(docs, embedding_function, persist_directory=db_folder_path)\n",
    "    \n",
    "    return db"
   ]
  },
  {
   "cell_type": "code",
   "execution_count": 5,
   "metadata": {
    "tags": []
   },
   "outputs": [
    {
     "name": "stdout",
     "output_type": "stream",
     "text": [
      "Chroma DB is not empty.\n"
     ]
    }
   ],
   "source": [
    "db = None\n",
    "\n",
    "if [f for f in os.listdir(db_folder_path) if not f.startswith('.')] == []:\n",
    "    print(\"Chroma DB is empty. Generating indexes...\")\n",
    "    \n",
    "    # generate chroma db\n",
    "    db = generateDB()\n",
    "else:\n",
    "    print(\"Chroma DB is not empty.\")\n",
    "\n",
    "    # create the open-source embedding function\n",
    "    embedding_function = initEmbedFunc()\n",
    "\n",
    "    # load from disk\n",
    "    db = Chroma(persist_directory=db_folder_path, embedding_function=embedding_function)"
   ]
  },
  {
   "cell_type": "markdown",
   "metadata": {},
   "source": [
    "## RAG - Starts here!"
   ]
  },
  {
   "cell_type": "code",
   "execution_count": 6,
   "metadata": {
    "tags": []
   },
   "outputs": [],
   "source": [
    "# retrieve the watsonx.ai credentials\n",
    "load_dotenv()\n",
    "api_key = os.getenv(\"GENAI_KEY\", None)\n",
    "api_url = os.getenv(\"GENAI_API\", None)\n",
    "creds = Credentials(api_key, api_endpoint=api_url)"
   ]
  },
  {
   "cell_type": "code",
   "execution_count": 7,
   "metadata": {
    "tags": []
   },
   "outputs": [],
   "source": [
    "# variables\n",
    "# ibm/mpt-7b-instruct -> 3/5\n",
    "# meta-llama/llama-2-7b -> 3/5\n",
    "# ibm/granite-13b-sft -> 3/5\n",
    "# google/ul2 -> 3.5/5\n",
    "# google/flan-ul2\n",
    "# google/flan-t5-xxl\n",
    "model_id = 'google/ul2'"
   ]
  },
  {
   "cell_type": "code",
   "execution_count": 8,
   "metadata": {
    "tags": []
   },
   "outputs": [],
   "source": [
    "# generate LLM params\n",
    "# params = GenerateParams(\n",
    "#             decoding_method='greedy', \n",
    "#             min_new_tokens=1,\n",
    "#             max_new_tokens=200,\n",
    "#             stream=False,\n",
    "#             repetition_penalty=1.5)\n",
    "\n",
    "params = GenerateParams(\n",
    "    decoding_method=\"sample\",\n",
    "    max_new_tokens=200,\n",
    "    min_new_tokens=1,\n",
    "    stream=False,\n",
    "    temperature=0.5,\n",
    "    top_k=50,\n",
    "    top_p=1,\n",
    "    repetition_penalty=1.5\n",
    ")"
   ]
  },
  {
   "cell_type": "code",
   "execution_count": 9,
   "metadata": {
    "tags": []
   },
   "outputs": [],
   "source": [
    "# create a langchain interface to use with retrieved content\n",
    "langchain_model = LangChainInterface(model=model_id, params=params, credentials=creds)"
   ]
  },
  {
   "cell_type": "code",
   "execution_count": 10,
   "metadata": {
    "tags": []
   },
   "outputs": [],
   "source": [
    "# create retrieval QA\n",
    "qa = RetrievalQA.from_chain_type(\n",
    "        llm=langchain_model,\n",
    "        chain_type=\"stuff\",\n",
    "        retriever=db.as_retriever(search_type=\"similarity\", search_kwargs={\"k\": 7}),\n",
    "        return_source_documents=True,\n",
    "        input_key=\"question\"\n",
    ")"
   ]
  },
  {
   "cell_type": "code",
   "execution_count": 11,
   "metadata": {},
   "outputs": [],
   "source": [
    "# generate response\n",
    "def generateResponse(query, qa):    \n",
    "    # get reply to our questions\n",
    "    result = qa({'question': query, 'include_run_info': True})\n",
    "\n",
    "    print('Q:', result['question'])\n",
    "    print('A:', result['result'])\n",
    "    print('\\n')\n",
    "    print('Resources:', result['source_documents'])"
   ]
  },
  {
   "cell_type": "code",
   "execution_count": 12,
   "metadata": {
    "tags": []
   },
   "outputs": [],
   "source": [
    "# generate response\n",
    "# def generateResponse(query, qa):    \n",
    "#     generated_text = qa(query)\n",
    "#     answer = generated_text['result']\n",
    "#     return answer   "
   ]
  },
  {
   "cell_type": "markdown",
   "metadata": {},
   "source": [
    "## Testing - Starts here!"
   ]
  },
  {
   "cell_type": "code",
   "execution_count": 13,
   "metadata": {
    "tags": []
   },
   "outputs": [
    {
     "name": "stdout",
     "output_type": "stream",
     "text": [
      "Q: Provide the steps to configure Watson Assistant in OpenPages?\n",
      "A: Watson Assistant is a chatbot that you can use to engage with your customers and help them find the information they need. By integrating Watson Assistant with OpenPages, you can configure IBM Watson Assistant to work with OpenPages. For more information, see “Configuring the integration between an assistant and OpenPages ” on page 844. OpenPages integration. What to do next Integrate the assistant with OpenPages. For more information, see “Configuring the integration between an assistant and OpenPages ” on page 844. Configuring IBM Watson Assistant is an iterative process. As users work with it, you can improve and expand the skills. You might need to change or expand the skills as they change over time. You can also download a skills data usage report and improve it. OpenPages integration. What to do next Integrate the assistant with OpenPages. For more information, see “Configuring the integration between an\n",
      "\n",
      "\n",
      "Resources: [Document(page_content='Configuration overview  \\n\\nComplete the following steps to configure IBM Watson Assistant:  \\n\\n1\\\\. Configure an assistant. For more information, see “Configuring a web chat\\nassistant by using IBM  \\n\\nWatson Assistant” on page 843.  \\n\\n2\\\\. Integrate the assistant with OpenPages. For more information, see\\n“Configuring the integration  \\n\\nbetween an assistant and OpenPages ” on page 844.  \\n\\nShow me how  \\n\\nThis video provides an overview of using IBM Watson Assistant.  \\n\\nhttps://youtu.be/NbvU-UdJ6Aw', metadata={}), Document(page_content='OpenPages integration.  \\n\\nWhat to do next  \\n\\nIntegrate the assistant with OpenPages. For more information, see “Configuring\\nthe integration between  \\nan assistant and OpenPages ” on page 844.  \\n\\nConfiguring IBM Watson Assistant is an iterative process. As users work with\\nit, you can improve and  \\nexpand the skills. You might need to change or expand the skills as they\\nchange over time. You can also  \\ndownload a skills data usage report and improve it.', metadata={}), Document(page_content=\"OpenPages with Watson  \\n9.0.0.0. The Developer Guide contains the documentation and samples that\\ndevelopers need to interact  \\nprogrammatically with IBM OpenPages with Watson. The OpenPages API\\ndocumentation section in the  \\nAdministration Guide has been moved to the Developer Guide.  \\n\\nChapter 2. What's new? 11  \\n\\nPage 34\\n\\nNew and changed features in version 8.3.0.2  \\n\\nNew and changed features in version 8.3.0.2 are described in the following\\ntables.\", metadata={}), Document(page_content=\"the changes to solutions.  \\n\\nChapter 1. What's new? 5  \\n\\nPage 20\\n\\n6 IBM OpenPages with Watson Version 9.0.0 : User Guide  \\n\\nPage 21\\n\\nChapter 2. Getting started with the UI  \\n\\nLearn to navigate the UI to access information, change your password, locale,\\nprofile and theme.  \\n\\nUsing the UI  \\n\\nYou use the UI to complete tasks that are assigned to you and to find\\ninformation in OpenPages.  \\n\\nIf you are an implementer or administrator who is responsible for defining\\nviews in the UI, see the topic\", metadata={}), Document(page_content=\"OpenPages.  \\n\\nOpenPages API documentation  \\n\\nFor information about IBM OpenPages with Watson APIs, see the IBM OpenPages\\nwith Watson Developer  \\nGuide.  \\n\\nAppendix C. Troubleshooting and support for IBM OpenPages with Watson 951  \\n\\nPage 974\\n\\n952 IBM OpenPages with Watson Version 9.0.0: Administrator's Guide  \\n\\nPage 975\\n\\nAppendix D. Best practices for configuring IBM  \\nOpenPages with Watson  \\n\\nTo improve the performance of IBM OpenPages with Watson, administrators can\\ndesign, configure, and\", metadata={}), Document(page_content='Procedure  \\n\\n1\\\\. Open a command or shell window on the OpenPages with Watson server.  \\n\\n2\\\\. Navigate to the <OP_Home> directory.  \\n\\nWhere: <OP_Home> represents the installation location of the OpenPages with\\nWatson application. By  \\ndefault, <OP_HOME> is c:\\\\IBM\\\\OpenPages on Windows or /opt/IBM/OpenPages on\\nLinux.  \\n\\n3\\\\. Run the following command on a single line:  \\n\\nObjectManager load config OpenPagesAdministrator <password> <path-to-ruleset-\\nXML-file>  \\n<file-identifier>  \\n\\nwhere', metadata={}), Document(page_content='ix  \\n\\nPage 10\\n\\nx  \\n\\nPage 11\\n\\nIntroduction  \\n\\nThe IBM OpenPages with Watson Solutions Guide is intended for users who need\\nto use the solutions  \\nthat are provided with OpenPages with Watson. The content describes the object\\ntypes for each solution.  \\nIt also identifies subcomponents, computed fields, helpers, notifications,\\nreports, triggers, profiles, role  \\ntemplates, views, and workflows that are supported by each solution.  \\n\\nIBM OpenPages with Watson documentation', metadata={})]\n",
      "CPU times: user 1.91 s, sys: 747 ms, total: 2.65 s\n",
      "Wall time: 8.13 s\n"
     ]
    }
   ],
   "source": [
    "%%time\n",
    "query = \"Provide the steps to configure Watson Assistant in OpenPages?\"\n",
    "generateResponse(query, qa)"
   ]
  },
  {
   "cell_type": "code",
   "execution_count": 14,
   "metadata": {
    "tags": []
   },
   "outputs": [
    {
     "name": "stdout",
     "output_type": "stream",
     "text": [
      "Q: What is FastMap?\n",
      "A: FastMap is a data load utility that allows you to load data from an external system into the application. FastMap can also be used to export data from the application and import it into an external system. FastMap uses Microsoft Excel worksheets to define the data load template. This template is then imported into the application. The worksheet can be used to load data into the application. • The FastMap template import process...........................................................................................................................................................769 FastMap Page 816 • The FastMap template export process.............................................................................................................................................................769 FastMap Page 817 • The FastMap data validation process................................................................................................................................................................................................ 769 FastMap Page 818 FastMap Page 819 • The FastMap data validation process................................................................................................................................................................................769 FastMap Page 820 You can use the FastMap data validation process to validate the data that is being\n",
      "\n",
      "\n",
      "Resources: [Document(page_content='seconds).  \\n\\n5\\\\. Click Done.  \\n\\nAdding a processing delay to optimize FastMap performance  \\n\\nTo reduce the processing impact of FastMap data imports on a system, you can\\nuse the Process Delay  \\nsetting to set a delay in milliseconds between each record. If a value is set,\\nthe time to process the  \\nimported data will be extended.  \\n\\nBy default, the value is set to 0 (zero).  \\n\\nProcedure  \\n\\n1\\\\. Access the Settings page (see Chapter 20, “Viewing the Configuration and\\nSettings page,” on page', metadata={}), Document(page_content='application, FastMap checks  \\nthe user profile, and the setup and format of the worksheets.  \\n\\nBy default, FastMap uses the profile of the logged-on user to determine which\\nobject types and fields are  \\nvalid. For example, if an object type or certain object fields are included in\\na data load template but are  \\nexcluded in a user’s profile, then that object type or those object fields\\nwill be excluded from the data  \\nimported by FastMap.', metadata={}), Document(page_content='can be imported from  \\na FastMap template.  \\n\\nBy default, the value is set to 20000 rows (recommended maximum).  \\n\\nNote: Setting the number of rows for import above the recommended maximum of\\n20000 rows may  \\nresult in slower performance and longer processing time. However, if you\\nchoose to set this value higher,  \\nthen the processing timeout value in the Transaction timeout setting should\\nalso be increased (see  \\n“Setting a transaction timeout to optimize FastMap performance” on page 795', metadata={}), Document(page_content='767  \\nThe FastMap import\\nprocess.............................................................................................................\\n768  \\nFastMap\\ntemplates.............................................................................................................................768  \\nThe FastMap data validation\\nprocess................................................................................................\\n769  \\nFastMap', metadata={}), Document(page_content='Page 817\\n\\nThe effect of the change is immediate.  \\n\\n3\\\\. In the FastMap template:  \\n\\na) For each field name that matches a <field name> value in the Key setting\\n(from Step 2d), add a  \\n\\ncorresponding column to the template.  \\n\\nb) Populate each corresponding column with values from your external system.  \\n\\nc) When finished, import the template into FastMap.  \\n\\nModifying export settings to optimize FastMap performance  \\n\\nData is typically exported for an object type, modified, and imported back', metadata={}), Document(page_content='information is included for each parent, and the object field  \\ninformation is repeated in each row for that object. The  \\nresulting FastMap format worksheet can be used to load  \\nthe objects and their associations to another system that  \\ndoes not contain these object and association instances,  \\nbut has the same configured object types and associations,  \\nfields, and profiles. The data on the loaded target system  \\nwill be the same as on the source system from which the', metadata={}), Document(page_content='• FastMap supports the Microsoft Office .xlsx format.  \\n\\n• User access is based on the role template assigned to a user or group. For\\ndetails about role templates,  \\n\\nsee “Role templates” on page 75.  \\n\\n• For Long String data types, the medium text subtype is the only subtype\\nsupported for FastMap uploads.  \\nFields with a large subtype are ignored by Excel and FastMap as these fields\\nmight be too large for Excel  \\nto store in a cell (the maximum storage for a cell is 32 KB).', metadata={})]\n",
      "CPU times: user 38 ms, sys: 138 µs, total: 38.1 ms\n",
      "Wall time: 5.59 s\n"
     ]
    }
   ],
   "source": [
    "%%time\n",
    "query = \"What is FastMap?\"\n",
    "generateResponse(query, qa)"
   ]
  },
  {
   "cell_type": "code",
   "execution_count": 15,
   "metadata": {
    "tags": []
   },
   "outputs": [
    {
     "name": "stdout",
     "output_type": "stream",
     "text": [
      "Q: What is the purpose of Reporting Periods?\n",
      "A: They are a way to freeze the data in the current reporting period. Finalized reporting periods are useful when you are creating reports. You can also use them to keep a snapshot of the data from previous reporting periods. About this task When you disable a finalized reporting period, it is not available to users through the UI, such as through > Change Reporting Period. Reporting period permissions and settings To manage reporting periods, the user performing the reporting period operation must belong to a group with the specific application permissions. The amount of time after a reporting period is created in which can also use Reporting Period to select the reporting period. > Change Note: You might need to refresh the screen to see the Change Reporting Period menu item. Creating a finalized a reporting period You can create finalized reporting periods. When you finalize the current reporting period, a snapshot of the current reporting period is created. You then have the current\n",
      "\n",
      "\n",
      "Resources: [Document(page_content='reporting framework,” on page 799.  \\n\\nReporting Periods  \\n\\nAllows users and members of user groups to work with reporting periods  \\n\\nReporting Schema  \\n\\nRiskLens Feed  \\n\\nRiskRecon Feed  \\n\\nthrough the  \\n\\n> System Configuration > Reporting Periods menu item.  \\n\\nFor more information, see Chapter 19, “Reporting periods, object resets, and  \\nrulesets,” on page 457.  \\n\\nAllows users and members of user groups to manage the Reporting Schema.', metadata={}), Document(page_content='reporting period is created in which  \\nthe reporting period can be deleted is set in the Delete Interval setting  \\n\\nReporting period permissions  \\n\\nAdministrators with the Reporting Periods application permission can create,\\nmodify, enable or disable,  \\nand delete reporting periods.  \\n\\nDeletion period setting  \\n\\nIt is possible to configure the amount of time after a reporting period is\\ncreated in which the reporting', metadata={}), Document(page_content='created in which the reporting  \\nperiod can be deleted. This property is set in the Delete Interval setting and\\ndefaults to 7 days after the  \\nreporting period is created.  \\n\\nFor details see, “Modify the deletion interval for a reporting period” on page\\n479.  \\n\\nCreating a finalized a reporting period  \\n\\nYou can create finalized reporting periods. When you finalize the current\\nreporting period, a snapshot of  \\nthe current reporting period is created. You then have the current reporting', metadata={}), Document(page_content='period and a finalized (or past)  \\nreporting period. You can have multiple finalized reporting periods.  \\n\\nBefore you begin  \\n\\nTo create a finalized reporting period, you must have the Reporting Periods\\napplication permission.  \\n\\nAbout this task  \\n\\nCreate a finalized reporting period if no further data changes are expected.  \\n\\nProcedure  \\n\\n1\\\\. Click  \\n\\n> Enable System Admin Mode.  \\n\\n2\\\\. Click  \\n3\\\\. Click New Finalized.  \\n\\n> System Configuration > Reporting Periods.', metadata={}), Document(page_content='periods.  \\n\\nBefore you begin  \\n\\nTo do this task you must have the Reporting Periods and System Administration\\nMode application  \\npermissions.  \\n\\nAbout this task  \\n\\nYou might want to disable older reporting periods to reduce the number of\\nreporting periods that users  \\nsee in the application. When a finalized reporting period is disabled, it is\\nnot available to users through the  \\n\\nUI, such as through  \\n\\n> Change Reporting Period.', metadata={}), Document(page_content='Using System Admin Mode with reporting periods  \\n\\nWhen you create, finalize, or delete reporting periods, you need to be in\\nSystem Admin Mode (SAM).  \\n\\nFor more information, see “Enabling and disabling System Admin Mode” on page\\n37.  \\n\\nReporting period permissions and settings  \\n\\nTo manage reporting periods, the user performing the reporting period\\noperation must belong to a group  \\nwith the specific application permissions. The amount of time after a\\nreporting period is created in which', metadata={}), Document(page_content='can also use  \\nReporting Period to select the reporting period.  \\n\\n> Change  \\n\\nNote: You might need to refresh the screen to see the Change Reporting Period\\nmenu item.  \\n\\nDisabling finalized reporting periods  \\n\\nOver time, you might have many finalized reporting periods. Some of them might\\nnot be needed for day-  \\nto-day operations, but you still want to keep them. In this case, you can\\ndisable the finalized reporting  \\nperiods.  \\n\\nBefore you begin', metadata={})]\n",
      "CPU times: user 33 ms, sys: 3.77 ms, total: 36.7 ms\n",
      "Wall time: 5.58 s\n"
     ]
    }
   ],
   "source": [
    "%%time\n",
    "query = \"What is the purpose of Reporting Periods?\"\n",
    "generateResponse(query, qa)"
   ]
  },
  {
   "cell_type": "code",
   "execution_count": 16,
   "metadata": {
    "tags": []
   },
   "outputs": [
    {
     "name": "stdout",
     "output_type": "stream",
     "text": [
      "Q: What is a Role Template?\n",
      "A: A role template is a security object that you can use to define all aspects of application security for various groups and users within a business unit. It contains access control definitions on folder structures for object types and application permissions. Role templates generally reflect the usual or expected function that a user or group plays within an organization. Some examples or Role templates that can be defined are Process Owner, Control Owner, and Tester. The template can then be applied to different Users/Groups for a specific security context. Helpful Answer: A security context point is a point defined in the OpenPages security model that you can use to assign under that folder. role An instance of a role template that is applied to a set of Users/Groups for a specific security context. Roles are granted to Users/Groups which allows them access to objects with certain permissions. Some examples of roles are: Process Owner, Control Owner, and Test\n",
      "\n",
      "\n",
      "Resources: [Document(page_content='security for various groups  \\nand users within a business unit. It contains access control definitions on\\nfolder structures for object  \\ntypes and application permissions. Role templates generally reflect the usual\\nor expected function  \\nthat a user or group plays within an organization. Some examples or Role\\ntemplates that can be  \\ndefined are Process Owner, Control Owner, and Tester. The template can then be\\napplied to different  \\nUsers/Groups for a specific security context.', metadata={}), Document(page_content='folder structures for object  \\ntypes and application permissions. Role templates generally reflect the usual\\nor expected function  \\nthat a user or group plays within an organization. Some examples or Role\\ntemplates that can be  \\ndefined are Process Owner, Control Owner, and Tester. The template can then be\\napplied to different  \\nUsers/Groups for a specific security context.  \\n\\nsecurity context point  \\n\\nA point defined in the OpenPages security model that you can use to assign', metadata={}), Document(page_content='under that folder.  \\n\\nrole  \\n\\nAn instance of a role template that is applied to a set of Users/Groups for a\\nspecific security context.  \\nRoles are granted to Users/Groups which allows them access to objects with\\ncertain permissions.  \\nSome examples of roles are: Process Owner, Control Owner, and Tester.  \\n\\nRole template  \\n\\nA security object that you can use to define all aspects of application\\nsecurity for various groups', metadata={}), Document(page_content='Finance Reviewer, Tester,  \\nExternal Auditor, System Administrator, Control Owner, Risk Assessor.  \\n\\nWhen you assign a role to a group or user, the security settings of that role\\ntemplate are acquired by that  \\ngroup or user and permissions are automatically granted, per the role template\\ndefinition, to all objects  \\nbelow the specified security point.  \\n\\nFor example, if a role were assigned to a user for a business unit (security\\ncontext point), access control', metadata={}), Document(page_content='its child groups and users.  \\n\\nFor example, an administrator who has the Assign Roles administrator\\npermission on a top-level a  \\ndomain group can assign any role template to users and groups on that business\\nentity or its child  \\nsub-entities.  \\n\\nIf an administrator assigns a role template to a user or group on a security\\ndomain, the same access  \\ncontrol that is granted on the corresponding business entity will be\\npropagated to its child entities.', metadata={}), Document(page_content='When you enable a role, the following occurs:  \\n\\n• Any users or groups who are assigned that role are able to perform\\nactivities on objects that are  \\n\\nassociated with that role.  \\n\\n• The enabled role template is included in the role assignment selection list\\nand can be used for further  \\n\\nrole assignments.  \\n\\n• The status of the role on Role Templates changes from Inactive to Active.  \\n\\nDeleting a role template  \\n\\nChapter 6. Security 77  \\n\\nPage 100', metadata={}), Document(page_content='specific security context.  \\nRoles are granted to Users/Groups which allows them access to objects with\\ncertain permissions.  \\nSome examples of roles are: Process Owner, Control Owner, and Tester.  \\n\\nRole template  \\n\\nA security object that you can use to define all aspects of application\\nsecurity for various groups  \\nand users within a business unit. It contains access control definitions on\\nfolder structures for object', metadata={})]\n",
      "CPU times: user 26.6 ms, sys: 9.4 ms, total: 36.1 ms\n",
      "Wall time: 5.52 s\n"
     ]
    }
   ],
   "source": [
    "%%time\n",
    "query = \"What is a Role Template?\"\n",
    "generateResponse(query, qa)"
   ]
  },
  {
   "cell_type": "code",
   "execution_count": 17,
   "metadata": {
    "tags": []
   },
   "outputs": [
    {
     "name": "stdout",
     "output_type": "stream",
     "text": [
      "Q: What are the different access controls available for non-participants for a standard stage within a workflow?\n",
      "A: Dependent on the stage access control Strict Read Open No Override No Yes No No Depends on standard access controls Depends on standard access controls Depends on standard access controls Depends on standard access controls Depends on standard access controls Depends on standard access controls Depends on standard access controls Depends on standard access controls Depends on standard access controls Depends on standard access controls Depends on standard access controls Depends on standard access controls Depends on standard access controls Depends on standard access controls Depends on standard access controls Depends on standard access controls Depends on standard access controls Depends on standard access controls Depends on standard access controls Depends on standard access controls Depends on standard access controls Depends on standard access controls Depends on standard access controls Depends on standard access controls Depends on standard access controls Depends on standard access controls Depends on standard access controls Depends on standard access controls Depends on standard access controls Depends on standard access\n",
      "\n",
      "\n",
      "Resources: [Document(page_content=\"6\\\\. Choose Standard in Type.  \\n\\n7\\\\. In Access Control , define whether non-participants can view and edit\\nobjects at this stage.  \\n\\nBy default, access for a non-participant is based on the access controls that\\nare defined by the user's  \\nrole template, along with security rules.  \\n\\nIn Access Control, you can define whether to override these standard access\\ncontrols for the  \\nworkflow stage.  \\n\\nTable 142. Access controls for non-participants  \\n\\nAccess control for the  \\nstage\", metadata={}), Document(page_content='Access control for the  \\nstage  \\n\\nCan view the object  \\nwhen it’s at this stage  \\n\\nCan edit the object  \\nwhen it’s at this stage  \\n\\nCan see the Actions  \\nbutton in views  \\n\\nStrict  \\n\\nRead  \\n\\nOpen  \\n\\nNo Override  \\n\\nNo  \\n\\nYes  \\n\\nNo  \\n\\nNo  \\n\\nDepends on standard  \\naccess controls  \\n\\nDepends on standard  \\naccess controls  \\n\\nDepends on standard  \\naccess controls  \\n\\nDepends on standard  \\naccess controls  \\n\\nNo  \\n\\nNo  \\n\\nNo  \\n\\nYes  \\n\\nRemember: For workflow participants (assignees, oversight users, and', metadata={}), Document(page_content='Workflow Fields:Last  \\nAction User. Conditions where you can select A field in the current object or\\nA field in a related object  \\ncan be based on the value in this field.  \\n\\n• Who are the participants for each stage? Participants are defined by stage.  \\n\\n• Who else has access to each stage of the workflow? Should users who are not\\nworkflow participants be  \\n\\nallowed to see objects? You define access by setting the Access Type field on\\nthe stage properties.  \\n\\nPlan the Task Views', metadata={}), Document(page_content='context point), access control  \\nfor specific object types under that security point would be set in the object\\nhierarchy. Object types that  \\nwere excluded from the role would be hidden from view, object types that were\\nincluded would be visible  \\nand could be accessed by users and groups assigned to that role.  \\n\\nSo that you can have a clear and accurate understanding of which users and\\ngroups have access to what  \\nand with which permissions, and what access control modifications were made in', metadata={}), Document(page_content='Scenarios: Using access control settings  \\n\\nThe following case scenarios provide examples of how the system may respond\\nwith various settings.  \\n\\nScenario 1: Using explicit settings  \\n\\nIf a user or group is assigned multiple roles and the explicit ACL settings\\nwithin these roles conflict, the  \\nmost restrictive explicit setting will be used.  \\n\\nFor example, we create a Test Performer and a Test Reviewer role for the Test\\nobject type. Each role has', metadata={}), Document(page_content='subscribers), the standard  \\naccess controls determine whether they can view and edit the object. All\\nworkflow participants can  \\nsee the Actions button.  \\n\\n8\\\\. In Due Date define the stage due date.  \\n\\nIn Assign To choose how the stage due date is set.  \\n\\n• Start Date (the date when a workflow instance enters (or re-enters) the\\nstage)  \\n\\n• A specified value  \\n\\n• A field in the current object  \\n\\n• A field in a related object', metadata={}), Document(page_content='environment. For example, test  \\nthe grid views and reports that use the object types in the rule.  \\n\\nMinimum access controls for object operations  \\n\\nUsers can perform the following operations on objects: Create, Read, Update,\\nAssociate and Delete. Each  \\nof these operations requires certain minimum access controls.  \\n\\nCreate operation  \\n\\nThe following table shows the minimum access controls that a user requires to\\ncreate an object. Access', metadata={})]\n",
      "CPU times: user 36.2 ms, sys: 880 µs, total: 37.1 ms\n",
      "Wall time: 5.5 s\n"
     ]
    }
   ],
   "source": [
    "%%time\n",
    "query = \"What are the different access controls available for non-participants for a standard stage within a workflow?\"\n",
    "generateResponse(query, qa)"
   ]
  },
  {
   "cell_type": "code",
   "execution_count": 18,
   "metadata": {
    "tags": []
   },
   "outputs": [
    {
     "name": "stdout",
     "output_type": "stream",
     "text": [
      "Q: What is the purpose of Object Reset?\n",
      "A: The purpose of the object reset is to automatically modify objects that exist in the IBM OpenPages with Watson repository. The most common use of the object reset functionality is to \"reset\" all of your objects at the beginning of a new reporting period. For example, each quarter you have controls and tests that need to be reviewed and performed. The results of those tasks are recorded by updating the properties and attachments of the appropriate objects. After all quarterly tasks are completed, and the attestation. Object resets The most common use of the object reset functionality is to \"reset\" all of your objects at the beginning of a new reporting period. For example, each quarter you have controls and tests that need to be reviewed and performed. The results of those tasks are recorded by updating the properties and attachments of the appropriate objects. After all quarterly tasks are completed, and the attestation. Object resets The most common use of the object reset functionality is\n",
      "\n",
      "\n",
      "Resources: [Document(page_content='current data (current state of the  \\nrepository) and past reporting periods.  \\n\\nObject resets  \\n\\nThe most common use of the object reset functionality is to \"reset\" all of\\nyour objects at the beginning of  \\na new reporting period. For example, each quarter you have controls and tests\\nthat need to be reviewed  \\nand performed. The results of those tasks are recorded by updating the\\nproperties and attachments of  \\nthe appropriate objects. After all quarterly tasks are completed, and the', metadata={}), Document(page_content='attestation. Object resets are a way  \\nto automatically modify objects that exist in the IBM OpenPages with Watson\\nrepository. Object resets are  \\nrule-based operations that are contained in a ruleset.  \\n\\nReporting periods  \\n\\nPast reporting periods can be viewed and reported on at any time. Changes to\\nthe repository do not affect  \\ndata in past reporting periods.  \\n\\nUsers can view data, for example, in dashboards and for objects, for the\\ncurrent data (current state of the', metadata={}), Document(page_content='processes, click  \\n\\nIf  \\nOther > Background Processes.  \\n\\n>  \\n\\n5\\\\. Click  \\n\\n> Disable System Admin Mode.  \\n\\nObject resets  \\n\\nObject resets are a way to automatically modify objects that exist in the IBM\\nOpenPages with Watson  \\nrepository.  \\n\\nThe most common use of the object reset functionality is to \"reset\" all of\\nyour objects at the beginning of  \\na new reporting period. For example, each quarter you have controls and tests\\nthat need to be reviewed', metadata={}), Document(page_content='494.  \\n\\n• Continue on Error \\\\- this setting controls whether the Reset session will\\nlog errors and continue to run or  \\n\\nhalt processing. For configuration details, see “Continuing on error” on page\\n494.  \\n\\nStarting the object reset  \\n\\nWhen you reset objects, watch the status of the job and review the results for\\nerrors and warnings.  \\n\\nAbout this task  \\n\\nWhen you reset objects, watch the status of the session and review the results\\nfor errors and warnings.', metadata={}), Document(page_content='Object Reset settings  \\n\\nBefore performing an object reset, you can set the logging level, whether the\\nReset session should  \\ncontinue or halt if errors are encountered, if ACLs should be checked, and if\\nlocks are ignored. These  \\nsettings need to be set only once, before your first time initiating an object\\nreset, but you may want to  \\nchange them for different entity trees or ruleset behavior.  \\n\\nChanging the logging level', metadata={}), Document(page_content='permissions to modify the  \\nobjects within the scope of the Reset. If the user does not have sufficient\\npermissions, warning messages  \\nwill be generated in the log, and the objects will not be modified.  \\n\\nProcedure  \\n\\n1\\\\. Click  \\n2\\\\. Click New Reset.  \\n\\n> System Configuration > Object Resets.  \\n\\n3\\\\. Enter a name and description for the new reset.  \\n\\n4\\\\. Select a ruleset from the list of available rulesets.  \\n\\n5\\\\. Click Choose next to Reset Scope.', metadata={}), Document(page_content='(NPS) with the  \\n\\n> Integrations > NPS Settings menu item.  \\n\\nObject Profiles  \\n\\nAllows users and members of user groups to view and manage profiles, which  \\n\\ninclude object types, through the  \\nitem.  \\n\\n> Solution Configuration > Profiles menu  \\n\\nObject Reset  \\n\\nObject Text  \\n\\nAllows users and members of user groups to reset objects for a new  \\nreporting period. For information on governing reset behavior, see Chapter 19,  \\n“Reporting periods, object resets, and rulesets,” on page 457.', metadata={})]\n",
      "CPU times: user 36.7 ms, sys: 0 ns, total: 36.7 ms\n",
      "Wall time: 5.59 s\n"
     ]
    }
   ],
   "source": [
    "%%time\n",
    "query = \"What is the purpose of Object Reset?\"\n",
    "generateResponse(query, qa)"
   ]
  },
  {
   "cell_type": "code",
   "execution_count": 19,
   "metadata": {
    "tags": []
   },
   "outputs": [
    {
     "name": "stdout",
     "output_type": "stream",
     "text": [
      "Q: What are the features of Operational Risk Management in OpenPages?\n",
      "A: IBM OpenPages Operational Risk Management enables organizations to analyze, manage, and mitigate risk in a simple and efficient manner. IBM OpenPages Operational Risk Management helps automate the process of measuring and monitoring operational risk. It combines all risk data, including risk and control self assessments, loss events, scenario analysis, external losses, and key risk indicators (KRI), into a single integrated solution. IBM OpenPages Operational Risk Management includes the following key features: • The IBM OpenPages RiskLens integration enables an OpenPages user to push a record for inclusion within a Risk Assessment in RiskLens. The object can be associated to one or more Scenarios within RiskLens and Monte Carlo simulations are performed. After completing the simulation, and in accordance with the scheduled job in OpenPages, the loss exposure metrics generated by the Monte Carlo simulation are sent to Open\n",
      "\n",
      "\n",
      "Resources: [Document(page_content='Management enables  \\norganizations to analyze, manage, and mitigate risk in a simple and efficient\\nmanner.  \\n\\nIBM OpenPages Operational Risk Management helps automate the process of\\nmeasuring and monitoring  \\noperational risk. It combines all risk data, including risk and control self\\nassessments, loss events,  \\nscenario analysis, external losses, and key risk indicators (KRI), into a\\nsingle integrated solution.  \\n\\nIBM OpenPages Operational Risk Management includes the following key features:', metadata={}), Document(page_content='manage, and mitigate risk  \\nin a simple and efficient manner.  \\n\\nIBM OpenPages Operational Risk Management helps automate the process of\\nmeasuring and monitoring  \\noperational risk. It combines all risk data, including risk and control self\\nassessments, loss events,  \\nscenario analysis, external losses, and key risk indicators (KRI), into a\\nsingle integrated solution.  \\n\\nIBM OpenPages Operational Risk Management includes the following key features:', metadata={}), Document(page_content=\"and compliance (GRC)  \\nsolution. OpenPages enables organizations to centralize siloed risk management\\nfunctions within a single  \\nenvironment to identify, manage, monitor, and report on risk and regulatory\\ncompliance.  \\n\\nOpenPages serves as the foundation for a company's enterprise risk management\\n(ERM) efforts by  \\nunifying enterprise-wide risk and compliance initiatives into a single\\nmanagement system. With its  \\nsolutions for areas such as ESG, data privacy, operational risk and more,\", metadata={}), Document(page_content='Information Risk) method by using  \\ndata helpers that are provided in RiskLens for guidance.  \\n\\nIn OpenPages, users specify the risks to send to RiskLens for inclusion within\\na risk assessment in  \\nRiskLens. An OpenPages object can be associated to one or more scenarios\\nwithin RiskLens.  \\n\\nIn RiskLens, Monte Carlo simulations are performed on the risks and results\\nare generated.  \\n\\nWhen the scheduled job in OpenPages runs, the loss exposure metrics that were\\ngenerated by the Monte', metadata={}), Document(page_content='– Issue closedown  \\n\\n– Reporting  \\n\\n• Reporting, monitoring, and analytics.  \\n\\nOpenPages Operational Risk Management objects  \\n\\nThis topic provides information about the OpenPages Operational Risk\\nManagement objects.  \\n\\nKRIs and KRI values  \\n\\nKRIs (Key Risk Indicators) are components of the risk monitoring process and\\nare used to provide leading  \\nor lagging indicators for potential risk conditions. Each instance of a KRI\\nwithin the organization can have', metadata={}), Document(page_content='IBM OpenPages Third Party Risk Management brings transparency into operational\\nand security activities  \\nfor vendors and the subcontractors they hire. It provides a scalable way to\\nmanage third-party  \\ncompliance and risk. Firms can use it to understand more clearly how\\nindividual vendors or engagements  \\nrelate to business processes.  \\n\\nIBM OpenPages Third Party Risk Management allows firms to complete the\\nfollowing tasks:  \\n\\n• Create, maintain, and document all vendors and engagements', metadata={}), Document(page_content='in RiskLens for guidance.  \\nThe integration with OpenPages enables an OpenPages user to push a record for\\ninclusion within a Risk  \\nAssessment in RiskLens. The object can be associated to one or more Scenarios\\nwithin RiskLens and  \\nMonte Carlo simulations are performed. After completing the simulation, and in\\naccordance with the  \\n\\n4 IBM OpenPages with Watson Version 9.0.0 : Solutions Guide  \\n\\nPage 17\\n\\nscheduled job in OpenPages, the loss exposure metrics generated by the Monte', metadata={})]\n",
      "CPU times: user 36.4 ms, sys: 4.08 ms, total: 40.5 ms\n",
      "Wall time: 5.55 s\n"
     ]
    }
   ],
   "source": [
    "%%time\n",
    "query = \"What are the features of Operational Risk Management in OpenPages?\"\n",
    "generateResponse(query, qa)"
   ]
  },
  {
   "cell_type": "code",
   "execution_count": 20,
   "metadata": {
    "tags": []
   },
   "outputs": [
    {
     "name": "stdout",
     "output_type": "stream",
     "text": [
      "Q: What is the difference between PRE and POST position in Triggers?\n",
      "A: The difference between PRE and POST is that PRE events happen prior to the operation actually being performed by the system. For example, during the creation of a GRC Object, a PRE event has all the information about the object to be created, but the system has yet to take action to create the object and persist values. POST events happen after the operation has been performed by the system and before the transaction has been committed; allowing for further processing of additional business logic. The position may affect the availability of certain information and methods within the trigger context for the rules and event handlers. Please refer to the individual event types for more detail. Page 7 IBM OpenPages with Watson Trigger Developer Guide 7 of 47 Transactions • • • • event=”create.object” position=”pre” event=”create.object” position=”post” event=”update.object” position=”pre” event=”update.object\n",
      "\n",
      "\n",
      "Resources: [Document(page_content='Triggers are registered to listen  \\nfor either one or other position.  \\n\\n• PRE \\\\- are events that happen prior to the operation actually being\\nperformed by the system. For  \\n\\nexample, during the creation of a GRC Object, a PRE event has all the\\ninformation about the object  \\nto be created, but the system has yet to take action to create the object and\\npersist values.  \\n• POST \\\\- are events that happen after the operation has been performed by the\\nsystem and before', metadata={}), Document(page_content='operation, PRE or POST. Triggers  \\nare registered to listen for  \\neither one or other position. The  \\npossible values are:  \\n\\n• PRE – Events that happen prior  \\nto the operation actually being  \\nperformed by the system  \\n\\nFor example, during the  \\ncreation of a GRC Object, a PRE  \\nevent has all the information  \\nabout the object to be created,  \\nbut the system has yet to take  \\naction to create the object and  \\npersist values. PRE is required  \\nfor deletes, associations, and', metadata={}), Document(page_content='system and before  \\nthe transaction has been committed; allowing for further processing of\\nadditional business logic.  \\n\\nThe position may affect the availability of certain information and methods\\nwithin the trigger context for the  \\nrules and event handlers. Please refer to the individual event types for more\\ndetail.  \\n\\n  \\n  \\n  \\n  \\n  \\n  \\n  \\n  \\n\\nPage 9\\n\\nIBM OpenPages with Watson Trigger Developer Guide  \\n\\n9 of 47  \\n\\nTransactions', metadata={}), Document(page_content='•  \\n•  \\n•  \\n•  \\n\\nevent=”create.object” position=”pre”  \\nevent=”create.object” position=”post”  \\nevent=”update.object” position=”pre”  \\nevent=”update.object” position=”post”  \\n\\nFor a lifecycle trigger there is no need to specify a rule handler or event\\nhandler. There are default rule and  \\nevent handlers. You can however add custom event handlers as specified earlier\\nin the ‘Configuring  \\nTriggers’ section. The custom event handlers will be called before the default\\nevent handler.', metadata={}), Document(page_content='Moves a tree of objects  \\nRename an object  \\nRename a self-contained object  \\nCopies an object from one location to another  \\nCopies a tree of objects  \\nLegacy searches performed by the OpenPages platform using the  \\nOPSDK  \\nQueries executed by the API  \\n\\nquery.objects  \\n\\nposition  \\nThis defines the position where the trigger should be executed, whether before\\nor after the  \\noperation completes execution.  \\nThe possible values are:  \\n\\nPRE  \\nPOST  \\n\\nBefore execution  \\nAfter execution', metadata={}), Document(page_content='for both the ‘pre’ and ‘post’  \\npositions.  \\n\\nLifecycle trigger setfield element and Properties  \\nUse the setfield element to set values of a field on the object. The setfield\\nelement can be added in any  \\ntransition or defaultsettings element. One or more setfield elements can be\\nadded. If an error occurs  \\nduring the execution the error will be displayed in the UI.  \\n\\nNote: The setfield element can be used starting in OpenPages® 8.0.0.1.  \\n\\nThe structure of the setfield element is:', metadata={}), Document(page_content='exist in the runtime  \\nclass path.  \\n\\nposition  \\nThis defines the position where the rule should be executed, whether before or\\nafter the  \\noperation completes execution.  \\nThe possible values are:  \\n\\nPRE  \\nPOST  \\n\\nBefore execution  \\nAfter execution  \\n\\n  \\n  \\n  \\n  \\n  \\n  \\n  \\n\\nPage 47\\n\\nIBM OpenPages with Watson Trigger Developer Guide  \\n\\n47 of 47  \\n\\nRule Attributes  \\nOne or more custom attributes can be defined for rules. These attributes are\\nsimple name value pairs and', metadata={})]\n",
      "CPU times: user 28.7 ms, sys: 8.63 ms, total: 37.3 ms\n",
      "Wall time: 5.54 s\n"
     ]
    }
   ],
   "source": [
    "%%time\n",
    "query = \"What is the difference between PRE and POST position in Triggers?\"\n",
    "generateResponse(query, qa)"
   ]
  },
  {
   "cell_type": "code",
   "execution_count": 21,
   "metadata": {},
   "outputs": [
    {
     "name": "stdout",
     "output_type": "stream",
     "text": [
      "Q: List the user administration permissions that can be delegated.\n",
      "A: Create Security Domains and User Groups. Helpful Answer: To create a new security domain or user group, you must be a Super Administrator or a delegated administrator with the appropriate permissions. To access the > Users and Security > Domains & Groups menu item, you must have Browse permission on any security domain or any user group. • To access the > Users and Security > Users menu item, you must have Browse permission on any security domain or any user group. • To access the > Users and Security > Domains & Groups menu item, you must be a Super Administrator or a delegated administrator with Super Administrator permission on the Security Domains security domain group. For information about delegating and assigning administrator permissions, see “Delegate administrator permissions” on page 42. • For information about the administrative permissions that are required for specific user-provisioning functions, see “Types of administrator\n",
      "\n",
      "\n",
      "Resources: [Document(page_content='For information about  \\ndelegating and assigning administrator permissions, see “Delegate\\nadministrator permissions” on page  \\n42\\\\.  \\n\\n• For information about the administrative permissions that are required for\\nspecific user-provisioning  \\n\\nfunctions, see “Types of administrator permissions” on page 43.  \\n\\nUsers and groups are organized under the following top-level groups:  \\n\\n• Security Domains  \\n\\nThis group is a container for the security domain groups that are', metadata={}), Document(page_content='permissions, see “Delegate  \\nadministrator permissions” on page 42.  \\n\\nFor example, a Super Administrator can delegate user provisioning functions to\\nother administrators. For  \\nmore information, see “Administrator permissions for user-provisioning\\nfunctions” on page 43.  \\n\\nA Super Administrator is specified during the installation process. The Super\\nAdministrator user is a  \\nmember of a group named OPAdministrators. For more information about the\\nOPAdministrators group,', metadata={}), Document(page_content='these functions, you  \\ncan separate out the tasks the delegated administrators can do but cannot\\nseparate out which places  \\nthey can perform them.  \\n\\n7\\\\. Determine whether you want to primarily manage administrative rights, such\\nas managing profiles,  \\nrole assignments, and reports access, directly at the user level or by making\\nusers members of  \\nuser groups. You can use a combination of methods. It is strongly recommended\\nthat you manage  \\nadministrator rights via user groups.', metadata={}), Document(page_content='your permissions and  \\nconfiguration.  \\n\\nYou can delegate administrative capabilities to specific administrators to\\ngive them the ability to perform  \\ncertain user-provisioning functions. For example, you could delegate\\npermission to two administrators  \\nto manage user passwords, and delegate permission to three other\\nadministrators to create users and  \\nupdate group memberships.  \\n\\nFor information about which administrator permissions are required for each of\\nthe user-provisioning', metadata={}), Document(page_content='through the use of users,  \\ngroups, and domains.  \\n\\nTo create and administer users and groups, you must have administrative\\nprivileges.  \\n\\n• To access the  \\n\\n> Users and Security > Users menu item, you must have Browse permission on any  \\n\\nsecurity domain or any user group.  \\n\\n• To access the  \\n\\n> Users and Security > Domains & Groups menu item, you must be a Super  \\n\\nAdministrator or a delegated administrator with any administrator permission.\\nFor information about', metadata={}), Document(page_content='Page 65\\n\\nNote: Administrators with Settings application permission can configure the\\nbehavior of some user-  \\nprovisioning functions. For more information, see “User provisioning settings”\\non page 480.  \\n\\nTypes of administrator permissions  \\n\\nThere are six security management permissions that you can delegate to a\\nsecurity domain or user group  \\nadministrator.  \\n\\nTable 37. Administrator permissions  \\n\\nPermission  \\n\\nManage  \\n\\nLock  \\n\\nUnlock  \\n\\nDescription', metadata={}), Document(page_content='copy access from an existing  \\nuser to a new one. You can also copy access from one existing user to another.\\nFor more information, see  \\n“Modifying user accounts” on page 49.  \\n\\nDepending on your delegated administrator permissions, you can perform certain\\nfunctions when you  \\ncreate a user account, such as associating group memberships and assigning\\nroles. For information about  \\nwhich permissions you need for each operation, see “Administrator permissions\\nfor user-provisioning', metadata={})]\n",
      "CPU times: user 34.6 ms, sys: 691 µs, total: 35.3 ms\n",
      "Wall time: 5.52 s\n"
     ]
    }
   ],
   "source": [
    "%%time\n",
    "query = \"List the user administration permissions that can be delegated.\"\n",
    "generateResponse(query, qa)"
   ]
  },
  {
   "cell_type": "code",
   "execution_count": null,
   "metadata": {},
   "outputs": [],
   "source": []
  },
  {
   "cell_type": "code",
   "execution_count": 22,
   "metadata": {
    "tags": []
   },
   "outputs": [],
   "source": [
    "from langchain import PromptTemplate\n",
    "\n",
    "# Define prompt\n",
    "template = \"\"\"Answer the question based on the context below. Keep the answer short and concise. Respond \"Unsure about answer\" if not sure about the answer.\n",
    "\n",
    "Context: {context}\n",
    "\n",
    "Question: {question}\n",
    "\n",
    "Answer: \"\"\"\n",
    "\n",
    "# instantiate prompt template\n",
    "prompt_template = PromptTemplate(\n",
    "    input_variables=[\"context\", \"question\"],\n",
    "    template=template\n",
    ")"
   ]
  },
  {
   "cell_type": "code",
   "execution_count": 23,
   "metadata": {
    "tags": []
   },
   "outputs": [],
   "source": [
    "# create retrieval QA\n",
    "qa1 = RetrievalQA.from_chain_type(\n",
    "        llm=langchain_model,\n",
    "        chain_type=\"stuff\",\n",
    "        retriever=db.as_retriever(search_type=\"similarity\", search_kwargs={\"k\": 7}),\n",
    "        chain_type_kwargs={\"prompt\": prompt_template}\n",
    ")"
   ]
  },
  {
   "cell_type": "code",
   "execution_count": 24,
   "metadata": {
    "tags": []
   },
   "outputs": [
    {
     "name": "stdout",
     "output_type": "stream",
     "text": [
      "CPU times: user 33.5 ms, sys: 797 µs, total: 34.3 ms\n",
      "Wall time: 5.61 s\n"
     ]
    },
    {
     "data": {
      "text/plain": [
       "'Complete the following steps to configure IBM Watson Assistant: 1. Configure an assistant. For more information, see “Configuring a web chat assistant by using IBM Watson Assistant” on page 843. 2. Integrate the assistant with OpenPages. For more information, see “Configuring the integration between an assistant and OpenPages” on page 844. OpenPages integration. What to do next Integrate the assistant with OpenPages. For more information, see “Configuring the integration between an assistant and OpenPages” on page 844. Configuring IBM Watson Assistant is an iterative process. As users work with it, you can improve and expand the skills. You might need to change or expand the skills as they change over time. You can also download a skills data usage report and improve it. OpenPages integration. What to do next Integrate the assistant with OpenPages. For more information, see “Configuring'"
      ]
     },
     "execution_count": 24,
     "metadata": {},
     "output_type": "execute_result"
    }
   ],
   "source": [
    "%%time\n",
    "query = \"Provide the steps to configure Watson Assistant in OpenPages?\"\n",
    "qa1.run(query)"
   ]
  },
  {
   "cell_type": "code",
   "execution_count": 25,
   "metadata": {},
   "outputs": [
    {
     "name": "stdout",
     "output_type": "stream",
     "text": [
      "CPU times: user 40.2 ms, sys: 0 ns, total: 40.2 ms\n",
      "Wall time: 4.71 s\n"
     ]
    },
    {
     "data": {
      "text/plain": [
       "'FastMap is a tool that allows you to import and export data from an external system into the PeopleSoft Enterprise system. FastMap is a tool that allows you to import and export data from an external system into the PeopleSoft Enterprise system. FastMap is a tool that allows you to import and export data from an external system into the PeopleSoft Enterprise system. FastMap is a tool that allows you to import and export data from an external system into the PeopleSoft Enterprise system. FastMap is a tool that allows you to import and export data from an external system into the PeopleSoft Enterprise system. FastMap is a tool that allows you to import and export data from an external system into the PeopleSoft Enterprise system. FastMap is a tool that allows you to import and export data from an external system into the PeopleSoft Enterprise system. FastMap is a tool that allows you to import and export data from an external system into the PeopleSoft Enterprise system'"
      ]
     },
     "execution_count": 25,
     "metadata": {},
     "output_type": "execute_result"
    }
   ],
   "source": [
    "%%time\n",
    "query = \"What is FastMap?\"\n",
    "qa1.run(query)"
   ]
  },
  {
   "cell_type": "code",
   "execution_count": 26,
   "metadata": {},
   "outputs": [
    {
     "name": "stdout",
     "output_type": "stream",
     "text": [
      "CPU times: user 34.4 ms, sys: 501 µs, total: 34.9 ms\n",
      "Wall time: 4.47 s\n"
     ]
    },
    {
     "data": {
      "text/plain": [
       "'Reporting Periods are used to create snapshots of data at a specific point in time. When you create a finalized reporting period, a snapshot of the current reporting period is created. You then have the current reporting period and a finalized (or past) reporting period. You can have multiple finalized reporting periods. Reporting periods can be enabled or disabled. When a finalized reporting period is disabled, it is not available to users through the UI, such as through > Change Reporting Period. Using System Admin Mode with reporting periods When you create, finalize, or delete reporting periods, you need to be in System Admin Mode (SAM). For more information, see “Enabling and disabling System Admin Mode” on page 37. Reporting period permissions and settings To manage reporting periods, the user performing the reporting period operation must belong to a group with the specific application permissions. The amount of'"
      ]
     },
     "execution_count": 26,
     "metadata": {},
     "output_type": "execute_result"
    }
   ],
   "source": [
    "%%time\n",
    "query = \"What is the purpose of Reporting Periods?\"\n",
    "qa1.run(query)"
   ]
  },
  {
   "cell_type": "code",
   "execution_count": 27,
   "metadata": {},
   "outputs": [
    {
     "name": "stdout",
     "output_type": "stream",
     "text": [
      "CPU times: user 34 ms, sys: 0 ns, total: 34 ms\n",
      "Wall time: 4.45 s\n"
     ]
    },
    {
     "data": {
      "text/plain": [
       "'A role template is a security object that you can use to define all aspects of application security for various groups and users within a business unit. It contains access control definitions on folder structures for object types and application permissions. Role templates generally reflect the usual or expected function that a user or group plays within an organization. Some examples or Role templates that can be defined are Process Owner, Control Owner, and Tester. The template can then be applied to different Users/Groups for a specific security context. Chapter 6. Security 76 Page 98 security context point A point defined in the OpenPages security model that you can use to assign under that folder. role An instance of a role template that is applied to a set of Users/Groups for a specific security context. Roles are granted to Users/Groups which allows them access to objects with certain permissions. Some examples of roles are: Process Owner, Control Owner, and'"
      ]
     },
     "execution_count": 27,
     "metadata": {},
     "output_type": "execute_result"
    }
   ],
   "source": [
    "%%time\n",
    "query = \"What is a Role Template?\"\n",
    "qa1.run(query)"
   ]
  },
  {
   "cell_type": "code",
   "execution_count": 28,
   "metadata": {},
   "outputs": [
    {
     "name": "stdout",
     "output_type": "stream",
     "text": [
      "CPU times: user 35.5 ms, sys: 261 µs, total: 35.7 ms\n",
      "Wall time: 4.46 s\n"
     ]
    },
    {
     "data": {
      "text/plain": [
       "'There are three different access controls available for non-participants for a standard stage within a workflow. They are: Strict Read Open No Override Depends on standard access controls Depends on standard access controls Depends on standard access controls Depends on standard access controls Depends on standard access controls Depends on standard access controls Depends on standard access controls Depends on standard access controls Depends on standard access controls Depends on standard access controls Depends on standard access controls Depends on standard access controls Depends on standard access controls Depends on standard access controls Depends on standard access controls Depends on standard access controls Depends on standard access controls Depends on standard access controls Depends on standard access controls Depends on standard access controls Depends on standard access controls Depends on standard access controls Depends on standard access controls Depends on standard access controls Depends on standard access controls Depends on standard access controls Depends on standard access controls Depend'"
      ]
     },
     "execution_count": 28,
     "metadata": {},
     "output_type": "execute_result"
    }
   ],
   "source": [
    "%%time\n",
    "query = \"What are the different access controls available for non-participants for a standard stage within a workflow?\"\n",
    "qa1.run(query)"
   ]
  },
  {
   "cell_type": "code",
   "execution_count": 29,
   "metadata": {},
   "outputs": [
    {
     "name": "stdout",
     "output_type": "stream",
     "text": [
      "CPU times: user 34.8 ms, sys: 0 ns, total: 34.8 ms\n",
      "Wall time: 4.49 s\n"
     ]
    },
    {
     "data": {
      "text/plain": [
       "'The purpose of Object Reset is to automatically modify objects that exist in the IBM OpenPages with Watson repository. The most common use of the object reset functionality is to \"reset\" all of your objects at the beginning of a new reporting period. For example, each quarter you have controls and tests that need to be reviewed and performed. The results of those tasks are recorded by updating the properties and attachments of the appropriate objects. After all quarterly tasks are completed, and the attestation is complete, you can \"reset\" the objects to start a new reporting period. The object reset functionality can be used to perform other types of operations as well. For example, you can use it to update the status of objects to \"In Progress\" or \"Completed\" after they have been reviewed and performed, or to update the status of objects after they have been marked as \"In Progress.\" Object resets are a way to automatically modify objects that'"
      ]
     },
     "execution_count": 29,
     "metadata": {},
     "output_type": "execute_result"
    }
   ],
   "source": [
    "%%time\n",
    "query = \"What is the purpose of Object Reset?\"\n",
    "qa1.run(query)"
   ]
  },
  {
   "cell_type": "code",
   "execution_count": 30,
   "metadata": {},
   "outputs": [
    {
     "name": "stdout",
     "output_type": "stream",
     "text": [
      "CPU times: user 35.2 ms, sys: 835 µs, total: 36 ms\n",
      "Wall time: 4.48 s\n"
     ]
    },
    {
     "data": {
      "text/plain": [
       "'IBM OpenPages Operational Risk Management enables organizations to analyze, manage, and mitigate risk in a simple and efficient manner. IBM OpenPages Operational Risk Management helps automate the process of measuring and monitoring operational risk. It combines all risk data, including risk and control self assessments, loss events, scenario analysis, external losses, and key risk indicators (KRI), into a single integrated solution. IBM OpenPages Operational Risk Management includes the following key features: • Operational risk analysis – Issue identification • Operational risk measurement • Operational risk monitoring • Operational risk reporting • Operational risk monitoring • Operational risk monitoring • Operational risk monitoring • Operational risk monitoring • Operational risk monitoring • Operational risk monitoring • Operational risk monitoring • Operational risk monitoring • Operational risk monitoring • Operational risk monitoring • Operational risk monitoring • Operat'"
      ]
     },
     "execution_count": 30,
     "metadata": {},
     "output_type": "execute_result"
    }
   ],
   "source": [
    "%%time\n",
    "query = \"What are the features of Operational Risk Management in OpenPages?\"\n",
    "qa1.run(query)"
   ]
  },
  {
   "cell_type": "code",
   "execution_count": 31,
   "metadata": {},
   "outputs": [
    {
     "name": "stdout",
     "output_type": "stream",
     "text": [
      "CPU times: user 40.9 ms, sys: 5.77 ms, total: 46.6 ms\n",
      "Wall time: 4.47 s\n"
     ]
    },
    {
     "data": {
      "text/plain": [
       "'PRE and POST positions are used for Triggers. PRE - are events that happen prior to the operation actually being performed by the system. For example, during the creation of a GRC Object, a PRE event has all the information about the object to be created, but the system has yet to take action to create the object and persist values. POST - are events that happen after the operation has been performed by the system and before the transaction has been committed; allowing for further processing of additional business logic. The position may affect the availability of certain information and methods within the trigger context for the rules and event handlers. Please refer to the individual event types for more detail. Page 7 IBM OpenPages with Watson Trigger Developer Guide 7 of 47 Context: The trigger can be configured to listen for either one or other position. The possible values are: • PRE – Events that happen prior to the operation actually being performed by'"
      ]
     },
     "execution_count": 31,
     "metadata": {},
     "output_type": "execute_result"
    }
   ],
   "source": [
    "%%time\n",
    "query = \"What is the difference between PRE and POST position in Triggers?\"\n",
    "qa1.run(query)"
   ]
  },
  {
   "cell_type": "code",
   "execution_count": 32,
   "metadata": {},
   "outputs": [
    {
     "name": "stdout",
     "output_type": "stream",
     "text": [
      "CPU times: user 32.2 ms, sys: 8.57 ms, total: 40.7 ms\n",
      "Wall time: 4.5 s\n"
     ]
    },
    {
     "data": {
      "text/plain": [
       "'Create Manage Lock Unlock Browse Browse Groups Browse Users Browse Groups Browse Users Super Administrators can delegate administrator permissions to other administrators. For example, a Super Administrator can delegate user provisioning functions to other administrators. For more information, see “Delegate administrator permissions” on page 42. • For information about the administrative permissions that are required for specific user-provisioning functions, see “Types of administrator permissions” on page 43. Users and groups are organized under the following top-level groups: • Security Domains This group is a container for the security domain groups that are permissions, see “Delegate administrator permissions” on page 42. For example, a Super Administrator can delegate user provisioning functions to other administrators. For more information, see “Administrator permissions for user-provisioning functions” on page 43. A Super Administrator is specified during the installation process. The Super Administrator user is'"
      ]
     },
     "execution_count": 32,
     "metadata": {},
     "output_type": "execute_result"
    }
   ],
   "source": [
    "%%time\n",
    "query = \"List the user administration permissions that can be delegated.\"\n",
    "qa1.run(query)"
   ]
  }
 ],
 "metadata": {
  "kernelspec": {
   "display_name": "llmenv:Python",
   "language": "python",
   "name": "conda-env-llmenv-py"
  },
  "language_info": {
   "codemirror_mode": {
    "name": "ipython",
    "version": 3
   },
   "file_extension": ".py",
   "mimetype": "text/x-python",
   "name": "python",
   "nbconvert_exporter": "python",
   "pygments_lexer": "ipython3",
   "version": "3.11.5"
  }
 },
 "nbformat": 4,
 "nbformat_minor": 4
}
