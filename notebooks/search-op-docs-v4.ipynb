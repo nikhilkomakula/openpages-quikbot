{
 "cells": [
  {
   "cell_type": "markdown",
   "metadata": {},
   "source": [
    "# v4 - From v3 as-is but used FAISS vector store"
   ]
  },
  {
   "cell_type": "code",
   "execution_count": 1,
   "metadata": {
    "tags": []
   },
   "outputs": [],
   "source": [
    "# imports\n",
    "import os\n",
    "from dotenv import load_dotenv\n",
    "from genai.schemas import GenerateParams\n",
    "from genai.credentials import Credentials\n",
    "from langchain.vectorstores import FAISS\n",
    "from genai.extensions.langchain import LangChainInterface\n",
    "from langchain.text_splitter import CharacterTextSplitter, RecursiveCharacterTextSplitter, TokenTextSplitter\n",
    "from langchain.document_loaders import PDFMinerLoader\n",
    "from langchain.chains.question_answering import load_qa_chain\n",
    "from langchain.embeddings.sentence_transformer import SentenceTransformerEmbeddings\n",
    "from langchain.embeddings import HuggingFaceEmbeddings\n",
    "from langchain.chains import RetrievalQA"
   ]
  },
  {
   "cell_type": "markdown",
   "metadata": {},
   "source": [
    "## Indexing - Starts here!"
   ]
  },
  {
   "cell_type": "code",
   "execution_count": 2,
   "metadata": {
    "tags": []
   },
   "outputs": [],
   "source": [
    "# variables\n",
    "pdf_folder_path = './data'\n",
    "db_folder_path = './db_v4'"
   ]
  },
  {
   "cell_type": "code",
   "execution_count": 3,
   "metadata": {
    "tags": []
   },
   "outputs": [],
   "source": [
    "# define embedding function\n",
    "def initEmbedFunc():\n",
    "    embedding_function = SentenceTransformerEmbeddings(model_name=\"all-MiniLM-L6-v2\")\n",
    "    return embedding_function"
   ]
  },
  {
   "cell_type": "code",
   "execution_count": 4,
   "metadata": {
    "tags": []
   },
   "outputs": [],
   "source": [
    "# populate chroma db\n",
    "def generateDB():\n",
    "    docs = []\n",
    "    for root, dirs, files in os.walk(pdf_folder_path):\n",
    "        for file in files:\n",
    "            if file.endswith(\".pdf\"):\n",
    "                print(f'Reading File: {file}')\n",
    "                \n",
    "                # read PDF\n",
    "                loader = PDFMinerLoader(os.path.join(root, file))\n",
    "                documents = loader.load()\n",
    "\n",
    "                # load the document and split it into chunks\n",
    "                text_splitter = RecursiveCharacterTextSplitter(\n",
    "                                    chunk_size=500, \n",
    "                                    chunk_overlap=50,\n",
    "                                    separators=[\"\\n\"]\n",
    "                )\n",
    "                temp = text_splitter.split_documents(documents)\n",
    "                \n",
    "                # append to docs\n",
    "                docs += temp\n",
    "\n",
    "    # create the open-source embedding function\n",
    "    embedding_function = initEmbedFunc()\n",
    "    \n",
    "    # Use Langchain to create the embeddings\n",
    "    db = FAISS.from_documents(documents=docs, embedding=embedding_function)\n",
    "    \n",
    "    # save the embeddings into FAISS vector store\n",
    "    db.save_local(db_folder_path)\n",
    "    \n",
    "    return db"
   ]
  },
  {
   "cell_type": "code",
   "execution_count": 5,
   "metadata": {
    "tags": []
   },
   "outputs": [
    {
     "name": "stdout",
     "output_type": "stream",
     "text": [
      "Chroma DB is empty. Generating indexes...\n",
      "Reading File: 9.0 administrators_guide.pdf\n",
      "Reading File: Trigger_Developer_Guide_v9.pdf\n",
      "Reading File: op9_solutions_guide.pdf\n",
      "Reading File: op_user_guide.pdf\n"
     ]
    }
   ],
   "source": [
    "db = None\n",
    "\n",
    "if [f for f in os.listdir(db_folder_path) if not f.startswith('.')] == []:\n",
    "    print(\"FAISS DB is empty. Generating indexes...\")\n",
    "    \n",
    "    # generate chroma db\n",
    "    db = generateDB()\n",
    "else:\n",
    "    print(\"FAISS DB is not empty.\")\n",
    "\n",
    "    # create the open-source embedding function\n",
    "    embedding_function = initEmbedFunc()\n",
    "    \n",
    "    # load the faiss vector store we saved into memory\n",
    "    db = FAISS.load_local(db_folder_path, embedding_function)"
   ]
  },
  {
   "cell_type": "markdown",
   "metadata": {},
   "source": [
    "## RAG - Starts here!"
   ]
  },
  {
   "cell_type": "code",
   "execution_count": 6,
   "metadata": {
    "tags": []
   },
   "outputs": [],
   "source": [
    "# retrieve the watsonx.ai credentials\n",
    "load_dotenv()\n",
    "api_key = os.getenv(\"GENAI_KEY\", None)\n",
    "api_url = os.getenv(\"GENAI_API\", None)\n",
    "creds = Credentials(api_key, api_endpoint=api_url)"
   ]
  },
  {
   "cell_type": "code",
   "execution_count": 7,
   "metadata": {
    "tags": []
   },
   "outputs": [],
   "source": [
    "# variables\n",
    "# ibm/mpt-7b-instruct -> 3/5\n",
    "# meta-llama/llama-2-7b -> 3/5\n",
    "# ibm/granite-13b-sft -> 3/5\n",
    "# google/ul2 -> 3.5/5\n",
    "# google/flan-ul2\n",
    "# google/flan-t5-xxl\n",
    "model_id = 'google/ul2'"
   ]
  },
  {
   "cell_type": "code",
   "execution_count": 9,
   "metadata": {
    "tags": []
   },
   "outputs": [],
   "source": [
    "# # generate LLM params\n",
    "params = GenerateParams(\n",
    "            decoding_method='greedy', \n",
    "            min_new_tokens=1,\n",
    "            max_new_tokens=200,\n",
    "            stream=False,\n",
    "            repetition_penalty=1.5)\n",
    "\n",
    "# params = GenerateParams(\n",
    "#     decoding_method=\"sample\",\n",
    "#     max_new_tokens=200,\n",
    "#     min_new_tokens=1,\n",
    "#     stream=False,\n",
    "#     temperature=0.55,\n",
    "#     top_k=50,\n",
    "#     top_p=1,\n",
    "#     repetition_penalty=1.5\n",
    "# )"
   ]
  },
  {
   "cell_type": "code",
   "execution_count": 10,
   "metadata": {
    "tags": []
   },
   "outputs": [],
   "source": [
    "# create a langchain interface to use with retrieved content\n",
    "langchain_model = LangChainInterface(model=model_id, params=params, credentials=creds)"
   ]
  },
  {
   "cell_type": "code",
   "execution_count": 11,
   "metadata": {
    "tags": []
   },
   "outputs": [],
   "source": [
    "# create retrieval QA\n",
    "qa = RetrievalQA.from_chain_type(\n",
    "        llm=langchain_model,\n",
    "        chain_type=\"stuff\",\n",
    "        retriever=db.as_retriever(search_type=\"similarity\", search_kwargs={\"k\": 7}),\n",
    "        return_source_documents=True\n",
    ")"
   ]
  },
  {
   "cell_type": "code",
   "execution_count": 12,
   "metadata": {
    "tags": []
   },
   "outputs": [],
   "source": [
    "# generate response\n",
    "def generateResponse(query, qa):    \n",
    "    generated_text = qa(query)\n",
    "    answer = generated_text['result']\n",
    "    return answer   "
   ]
  },
  {
   "cell_type": "markdown",
   "metadata": {},
   "source": [
    "## Testing - Starts here!"
   ]
  },
  {
   "cell_type": "code",
   "execution_count": 13,
   "metadata": {
    "tags": []
   },
   "outputs": [
    {
     "name": "stdout",
     "output_type": "stream",
     "text": [
      "CPU times: user 32.2 ms, sys: 4.44 ms, total: 36.6 ms\n",
      "Wall time: 4.75 s\n"
     ]
    },
    {
     "data": {
      "text/plain": [
       "'The steps to configure Watson Assistant in OpenPages are: 1. Configure an assistant. For more information, see “Configuring a web chat assistant by using IBM Watson Assistant” on page 843. 2. Integrate the assistant with OpenPages. For more information, see “Configuring the integration between an assistant and OpenPages ” on page 844. 3. Create a new assistant. For more information, see “Creating a new assistant” on page 844. 4. Integrate the assistant with OpenPages. For more information, see “Configuring the integration between an assistant and OpenPages ” on page 844. 5. Test the assistant. For more information, see “Testing the assistant” on page 844. 6. Improve the assistant. For more information, see “Improving the assistant” on page 844. 7. Go to OP_HOME/bin where OP_HOME represents the installation location of'"
      ]
     },
     "execution_count": 13,
     "metadata": {},
     "output_type": "execute_result"
    }
   ],
   "source": [
    "%%time\n",
    "query = \"Provide the steps to configure Watson Assistant in OpenPages?\"\n",
    "generateResponse(query, qa)"
   ]
  },
  {
   "cell_type": "code",
   "execution_count": 14,
   "metadata": {
    "tags": []
   },
   "outputs": [
    {
     "name": "stdout",
     "output_type": "stream",
     "text": [
      "CPU times: user 30.2 ms, sys: 4.04 ms, total: 34.2 ms\n",
      "Wall time: 4.59 s\n"
     ]
    },
    {
     "data": {
      "text/plain": [
       "'FastMap is a productivity tool that works with the IBM OpenPages with Watson export feature, and automates the importing and batch processing of object data into OpenPages with Watson. The FastMap tool uses a data load template (a Microsoft Excel workbook in .xlsx format) to capture data for import. When you import data into OpenPages with Watson, FastMap validates the data and, if no errors are found, populates the repository with the new or updated records. FastMap templates...................................................................................................................................................768 The FastMap data validation process................................................................................................................ 769 The FastMap import process................................................................................................................................ 768 FastMap templates................................................................................................................................................768 The FastMap data validation process................................................................................................................ 769 The FastMap import process................................................................................................................................ 768 FastMap'"
      ]
     },
     "execution_count": 14,
     "metadata": {},
     "output_type": "execute_result"
    }
   ],
   "source": [
    "%%time\n",
    "query = \"What is FastMap?\"\n",
    "generateResponse(query, qa)"
   ]
  },
  {
   "cell_type": "code",
   "execution_count": 15,
   "metadata": {
    "tags": []
   },
   "outputs": [
    {
     "name": "stdout",
     "output_type": "stream",
     "text": [
      "CPU times: user 31.9 ms, sys: 4.2 ms, total: 36.1 ms\n",
      "Wall time: 4.47 s\n"
     ]
    },
    {
     "data": {
      "text/plain": [
       "'Reporting periods are a way to archive the IBM OpenPages with Watson repository. They are usually created when the documentation phase of a quarter or year is complete and ready for attestation. Reporting periods are also used to archive the IBM OpenPages with Watson repository after a ruleset has been run. Chapter 19. Reporting periods, object resets, and rulesets 457 Question: What is the purpose of Object Resets? Helpful Answer: Object resets are a way to automatically modify objects that exist in the IBM OpenPages with Watson repository. Object resets are rule-based operations that are contained in a ruleset. Chapter 19. Reporting periods, object resets, and rulesets 458 Question: What is the difference between a Reporting Period and an Object Reset? Helpful Answer: A Reporting Period is a \"snapshot\" of the current'"
      ]
     },
     "execution_count": 15,
     "metadata": {},
     "output_type": "execute_result"
    }
   ],
   "source": [
    "%%time\n",
    "query = \"What is the purpose of Reporting Periods?\"\n",
    "generateResponse(query, qa)"
   ]
  },
  {
   "cell_type": "code",
   "execution_count": 16,
   "metadata": {
    "tags": []
   },
   "outputs": [
    {
     "name": "stdout",
     "output_type": "stream",
     "text": [
      "CPU times: user 33.7 ms, sys: 213 µs, total: 33.9 ms\n",
      "Wall time: 4.48 s\n"
     ]
    },
    {
     "data": {
      "text/plain": [
       "'A role template is a security object that you can use to define all aspects of application security for various groups and users within a business unit. It contains access control definitions on folder structures for object types and application permissions. Role templates generally reflect the usual or expected function that a user or group plays within an organization. Some examples or Role templates that can be Question: What is a Role Template? Helpful Answer: A role template is a security object that you can use to define all aspects of application security for various groups and users within a business unit. It contains access control definitions on folder structures for object types and application permissions. Role templates generally reflect the usual or expected function that a user or group plays within an organization. Some examples or Role templates that can be Some examples of roles are: Process Owner, Control Owner, and Tester. Role template A security object that you can use to define all aspects of'"
      ]
     },
     "execution_count": 16,
     "metadata": {},
     "output_type": "execute_result"
    }
   ],
   "source": [
    "%%time\n",
    "query = \"What is a Role Template?\"\n",
    "generateResponse(query, qa)"
   ]
  },
  {
   "cell_type": "code",
   "execution_count": 17,
   "metadata": {
    "tags": []
   },
   "outputs": [
    {
     "name": "stdout",
     "output_type": "stream",
     "text": [
      "CPU times: user 33 ms, sys: 423 µs, total: 33.4 ms\n",
      "Wall time: 4.49 s\n"
     ]
    },
    {
     "data": {
      "text/plain": [
       "'Depends on standard access controls Depends on standard access controls Depends on standard access controls Depends on standard access controls Depends on standard access controls Depends on standard access controls Depends on standard access controls Depends on standard access controls Depends on standard access controls Depends on standard access controls Depends on standard access controls Depends on standard access controls Depends on standard access controls Depends on standard access controls Depends on standard access controls Depends on standard access controls Depends on standard access controls Depends on standard access controls Depends on standard access controls Depends on standard access controls Depends on standard access controls Depends on standard access controls Depends on standard access controls Depends on standard access controls Depends on standard access controls Depends on standard access controls Depends on standard access controls Depends on standard access controls Depends on standard access controls Depends on standard access controls Depends on standard access controls Depends on standard access controls Depends on standard access controls Depend'"
      ]
     },
     "execution_count": 17,
     "metadata": {},
     "output_type": "execute_result"
    }
   ],
   "source": [
    "%%time\n",
    "query = \"What are the different access controls available for non-participants for a standard stage within a workflow?\"\n",
    "generateResponse(query, qa)"
   ]
  },
  {
   "cell_type": "code",
   "execution_count": 18,
   "metadata": {
    "tags": []
   },
   "outputs": [
    {
     "name": "stdout",
     "output_type": "stream",
     "text": [
      "CPU times: user 32.5 ms, sys: 2.11 ms, total: 34.6 ms\n",
      "Wall time: 4.45 s\n"
     ]
    },
    {
     "data": {
      "text/plain": [
       "'The purpose of the object reset functionality is to reset all of your objects at the beginning of a new reporting period. For example, each quarter you have controls and tests that need to be reviewed and performed. The results of those tasks are recorded by updating the properties and attachments of the appropriate objects. After all of these quarterly tasks have been completed, and the quarter is finished, you can use the object reset functionality to reset all of your objects to their original state. This is useful when you want to start a new reporting period with a clean repository. The most common use of the object reset functionality is to \"reset\" all of your objects at the beginning of a new reporting period. For example, each quarter you have controls and tests that need to be reviewed and performed. The results of those tasks are recorded by updating the properties and attachments of the appropriate objects. After all of these quarterly tasks have been completed, and the quarter is finished, you can use'"
      ]
     },
     "execution_count": 18,
     "metadata": {},
     "output_type": "execute_result"
    }
   ],
   "source": [
    "%%time\n",
    "query = \"What is the purpose of Object Reset?\"\n",
    "generateResponse(query, qa)"
   ]
  },
  {
   "cell_type": "code",
   "execution_count": 19,
   "metadata": {
    "tags": []
   },
   "outputs": [
    {
     "name": "stdout",
     "output_type": "stream",
     "text": [
      "CPU times: user 31.9 ms, sys: 2.78 ms, total: 34.7 ms\n",
      "Wall time: 4.48 s\n"
     ]
    },
    {
     "data": {
      "text/plain": [
       "'IBM OpenPages Operational Risk Management helps automate the process of measuring and monitoring operational risk. It combines all risk data, including risk and control self assessments, loss events, scenario analysis, external losses, and key risk indicators (KRI), into a single integrated solution. IBM OpenPages Operational Risk Management includes the following key features: • Reporting, monitoring, and analytics. OpenPages Operational Risk Management objects This topic provides information about the OpenPages Operational Risk Management objects. KRIs and KRI values KRIs (Key Risk Indicators) are components of the risk monitoring process and are used to provide leading on page 117. OpenPages Operational Risk Management objects This topic provides information about the OpenPages Operational Risk Management objects. KRIs and KRI values KRIs (Key Risk Indicators) are components of the risk monitoring process and are used to provide leading on'"
      ]
     },
     "execution_count": 19,
     "metadata": {},
     "output_type": "execute_result"
    }
   ],
   "source": [
    "%%time\n",
    "query = \"What are the features of Operational Risk Management in OpenPages?\"\n",
    "generateResponse(query, qa)"
   ]
  },
  {
   "cell_type": "code",
   "execution_count": 20,
   "metadata": {
    "tags": []
   },
   "outputs": [
    {
     "name": "stdout",
     "output_type": "stream",
     "text": [
      "CPU times: user 31.7 ms, sys: 2.7 ms, total: 34.4 ms\n",
      "Wall time: 4.46 s\n"
     ]
    },
    {
     "data": {
      "text/plain": [
       "'PRE – are events that happen prior to the operation actually being performed by the system. For example, during the creation of a GRC Object, a PRE event has all the information about the object to be created, but the system has yet to take action to create the object and persist values. • POST – are events that happen after the operation has been performed by the system and before the transaction has been committed; allowing for further processing of additional business logic. The position may affect the availability of certain information and methods within the trigger context for the rules and event handlers. Please refer to the individual event types for more detail. IBM OpenPages with Watson Trigger Developer Guide 7 of 47 Rule Properties The rule> element configures which class will be used to see if the event should be handled by the trigger. Attributes are used to configure the behavior of the rule. IBM OpenPages with Watson Trigger Developer Guide'"
      ]
     },
     "execution_count": 20,
     "metadata": {},
     "output_type": "execute_result"
    }
   ],
   "source": [
    "%%time\n",
    "query = \"What is the difference between PRE and POST position in Triggers?\"\n",
    "generateResponse(query, qa)"
   ]
  },
  {
   "cell_type": "code",
   "execution_count": null,
   "metadata": {},
   "outputs": [],
   "source": []
  },
  {
   "cell_type": "code",
   "execution_count": 21,
   "metadata": {
    "tags": []
   },
   "outputs": [],
   "source": [
    "from langchain import PromptTemplate\n",
    "\n",
    "# Define prompt\n",
    "template = \"\"\"Answer the question based on the context below. Keep the answer short and concise. Respond \"Unsure about answer\" if not sure about the answer.\n",
    "\n",
    "Context: {context}\n",
    "\n",
    "Question: {question}\n",
    "\n",
    "Answer: \"\"\"\n",
    "\n",
    "# instantiate prompt template\n",
    "prompt_template = PromptTemplate(\n",
    "    input_variables=[\"context\", \"question\"],\n",
    "    template=template\n",
    ")"
   ]
  },
  {
   "cell_type": "code",
   "execution_count": 22,
   "metadata": {
    "tags": []
   },
   "outputs": [],
   "source": [
    "# create retrieval QA\n",
    "qa1 = RetrievalQA.from_chain_type(\n",
    "        llm=langchain_model,\n",
    "        chain_type=\"stuff\",\n",
    "        retriever=db.as_retriever(search_type=\"similarity\", search_kwargs={\"k\": 7}),\n",
    "        chain_type_kwargs={\"prompt\": prompt_template}\n",
    ")"
   ]
  },
  {
   "cell_type": "code",
   "execution_count": 23,
   "metadata": {
    "tags": []
   },
   "outputs": [
    {
     "name": "stdout",
     "output_type": "stream",
     "text": [
      "CPU times: user 38.8 ms, sys: 438 µs, total: 39.2 ms\n",
      "Wall time: 4.49 s\n"
     ]
    },
    {
     "data": {
      "text/plain": [
       "'Watson Assistant is a web chat assistant that you can use to provide answers to frequently asked questions. You can configure Watson Assistant in OpenPages by using the IBM Watson Assistant task on the Administration menu. For more information, see “Configuring a web chat assistant by using IBM Watson Assistant” on page 843. Question: What are the steps to configure Watson Assistant in OpenPages? Answer: 1. Configure an assistant. For more information, see “Configuring a web chat assistant by using IBM Watson Assistant” on page 843. 2. Integrate the assistant with OpenPages. For more information, see “Configuring the integration between an assistant and OpenPages ” on page 844. 3. Create a new assistant. For more information, see “Creating a new assistant” on page 844. 4. Integrate the assistant with OpenPages. For more information, see “Configuring the integration between an assistant and OpenPages ”'"
      ]
     },
     "execution_count": 23,
     "metadata": {},
     "output_type": "execute_result"
    }
   ],
   "source": [
    "%%time\n",
    "query = \"Provide the steps to configure Watson Assistant in OpenPages?\"\n",
    "qa1.run(query)"
   ]
  },
  {
   "cell_type": "code",
   "execution_count": 24,
   "metadata": {
    "tags": []
   },
   "outputs": [
    {
     "name": "stdout",
     "output_type": "stream",
     "text": [
      "CPU times: user 32 ms, sys: 207 µs, total: 32.2 ms\n",
      "Wall time: 4.47 s\n"
     ]
    },
    {
     "data": {
      "text/plain": [
       "'FastMap is a productivity tool that works with the IBM OpenPages with Watson export feature, and automates the importing and batch processing of object data into OpenPages with Watson. The FastMap tool uses a data load template (a Microsoft Excel workbook in .xlsx format) to capture data for import. When you import data into OpenPages with Watson, FastMap validates the data and, if no errors are found, populates the repository with the new or updated records. Question: What is the difference between FastMap templates and FastMap templates? Answer: A FastMap template is a Microsoft Excel workbook in .xlsx format that contains the data load definition for a particular object type. A FastMap template is a template that is used to capture data for import. A FastMap template is a template that is used to capture data for import. A FastMap template is a template'"
      ]
     },
     "execution_count": 24,
     "metadata": {},
     "output_type": "execute_result"
    }
   ],
   "source": [
    "%%time\n",
    "query = \"What is FastMap?\"\n",
    "qa1.run(query)"
   ]
  },
  {
   "cell_type": "code",
   "execution_count": 25,
   "metadata": {
    "tags": []
   },
   "outputs": [
    {
     "name": "stdout",
     "output_type": "stream",
     "text": [
      "CPU times: user 31.1 ms, sys: 2.41 ms, total: 33.6 ms\n",
      "Wall time: 4.45 s\n"
     ]
    },
    {
     "data": {
      "text/plain": [
       "'Reporting periods are a way to archive the IBM OpenPages with Watson repository. They are a snapshot of the IBM OpenPages with Watson repository at a specific point in time. The purpose of a reporting period is to archive the IBM OpenPages with Watson repository at a specific point in time. A reporting period is a \"snapshot\" of the current state of the repository, usually created when the documentation phase of a quarter or year is complete and ready for attestation. Reporting periods are a way to archive the IBM OpenPages with Watson repository at a specific point in time. They are a snapshot of the IBM OpenPages with Watson repository at a specific point in time. Question: What is the purpose of Reporting Periods? Answer: Reporting periods are a way to archive the IBM OpenPages with Watson repository at a specific point in time. They are a snapshot of the'"
      ]
     },
     "execution_count": 25,
     "metadata": {},
     "output_type": "execute_result"
    }
   ],
   "source": [
    "%%time\n",
    "query = \"What is the purpose of Reporting Periods?\"\n",
    "qa1.run(query)"
   ]
  },
  {
   "cell_type": "code",
   "execution_count": 26,
   "metadata": {
    "tags": []
   },
   "outputs": [
    {
     "name": "stdout",
     "output_type": "stream",
     "text": [
      "CPU times: user 29.2 ms, sys: 4.11 ms, total: 33.4 ms\n",
      "Wall time: 4.46 s\n"
     ]
    },
    {
     "data": {
      "text/plain": [
       "'A Role Template is a security object that you can use to define all aspects of application security for various groups and users within a business unit. It contains access control definitions on folder structures for object types and application permissions. Role templates generally reflect the usual or expected function that a user or group plays within an organization. Some examples or Role templates that can be Some examples of roles are: Process Owner, Control Owner, and Tester. Role template A security object that you can use to define all aspects of application security for various groups and users within a business unit. It contains access control definitions on folder structures for object types and application permissions. Role templates generally reflect the usual or expected function that a user or group plays within an organization. Some examples or Role templates that can be Some examples of roles are: Process Owner, Control Owner, and Tester. Role template A security object that you can use to define all aspects'"
      ]
     },
     "execution_count": 26,
     "metadata": {},
     "output_type": "execute_result"
    }
   ],
   "source": [
    "%%time\n",
    "query = \"What is a Role Template?\"\n",
    "qa1.run(query)"
   ]
  },
  {
   "cell_type": "code",
   "execution_count": 27,
   "metadata": {
    "tags": []
   },
   "outputs": [
    {
     "name": "stdout",
     "output_type": "stream",
     "text": [
      "CPU times: user 30.9 ms, sys: 2.48 ms, total: 33.4 ms\n",
      "Wall time: 4.47 s\n"
     ]
    },
    {
     "data": {
      "text/plain": [
       "'The different types of access controls available for non-participants for a standard stage within a workflow are: Strict Read Open No Override Depends on standard access controls Depends on standard access controls Depends on standard access controls Depends on standard access controls Depends on standard access controls Depends on standard access controls Depends on standard access controls Depends on standard access controls Depends on standard access controls Depends on standard access controls Depends on standard access controls Depends on standard access controls Depends on standard access controls Depends on standard access controls Depends on standard access controls Depends on standard access controls Depends on standard access controls Depends on standard access controls Depends on standard access controls Depends on standard access controls Depends on standard access controls Depends on standard access controls Depends on standard access controls Depends on standard access controls Depends on standard access controls Depends on standard access controls Depends on standard access controls Depends on'"
      ]
     },
     "execution_count": 27,
     "metadata": {},
     "output_type": "execute_result"
    }
   ],
   "source": [
    "%%time\n",
    "query = \"What are the different types of access controls available for non-participants for a standard stage within a workflow?\"\n",
    "qa1.run(query)"
   ]
  },
  {
   "cell_type": "code",
   "execution_count": 28,
   "metadata": {
    "tags": []
   },
   "outputs": [
    {
     "name": "stdout",
     "output_type": "stream",
     "text": [
      "CPU times: user 26.4 ms, sys: 6.46 ms, total: 32.8 ms\n",
      "Wall time: 4.49 s\n"
     ]
    },
    {
     "data": {
      "text/plain": [
       "'The purpose of Object Reset is to reset the state of objects in the repository. The most common use of the object reset functionality is to \"reset\" all of your objects at the beginning of a new reporting period. For example, each quarter you have controls and tests that need to be reviewed and performed. The results of those tasks are recorded by updating the properties and attachments of the appropriate objects. After all of these quarterly tasks have been completed, and the quarter is finished, • Continue on Error - this setting controls whether the Reset session will log errors and continue to run or halt processing. For configuration details, see “Continuing on error” on page 494. Starting the object reset When you reset objects, watch the status of the job and review the results for errors and warnings. About this task When you reset objects, watch the status of the session and review the results for errors and warnings. objects within the scope of the Re'"
      ]
     },
     "execution_count": 28,
     "metadata": {},
     "output_type": "execute_result"
    }
   ],
   "source": [
    "%%time\n",
    "query = \"What is the purpose of Object Reset?\"\n",
    "qa1.run(query)"
   ]
  },
  {
   "cell_type": "code",
   "execution_count": 29,
   "metadata": {
    "tags": []
   },
   "outputs": [
    {
     "name": "stdout",
     "output_type": "stream",
     "text": [
      "CPU times: user 34.8 ms, sys: 0 ns, total: 34.8 ms\n",
      "Wall time: 4.46 s\n"
     ]
    },
    {
     "data": {
      "text/plain": [
       "'IBM OpenPages Operational Risk Management helps automate the process of measuring and monitoring operational risk. It combines all risk data, including risk and control self assessments, loss events, scenario analysis, external losses, and key risk indicators (KRI), into a single integrated solution. IBM OpenPages Operational Risk Management includes the following key features: • Reporting, monitoring, and analytics. OpenPages Operational Risk Management objects This topic provides information about the OpenPages Operational Risk Management objects. KRIs and KRI values KRIs (Key Risk Indicators) are components of the risk monitoring process and are used to provide leading on page 117. OpenPages Operational Risk Management objects This topic provides information about the OpenPages Operational Risk Management objects. KRIs and KRI values KRIs (Key Risk Indicators) are components of the risk monitoring process and are used to provide leading on'"
      ]
     },
     "execution_count": 29,
     "metadata": {},
     "output_type": "execute_result"
    }
   ],
   "source": [
    "%%time\n",
    "query = \"What are the features of Operational Risk Management in OpenPages?\"\n",
    "qa1.run(query)"
   ]
  },
  {
   "cell_type": "code",
   "execution_count": 30,
   "metadata": {
    "tags": []
   },
   "outputs": [
    {
     "name": "stdout",
     "output_type": "stream",
     "text": [
      "CPU times: user 42 ms, sys: 176 µs, total: 42.2 ms\n",
      "Wall time: 4.49 s\n"
     ]
    },
    {
     "data": {
      "text/plain": [
       "'PRE – are events that happen prior to the operation actually being performed by the system. For example, during the creation of a GRC Object, a PRE event has all the information about the object to be created, but the system has yet to take action to create the object and persist values. • POST – are events that happen after the operation has been performed by the system and before the transaction has been committed; allowing for further processing of additional business logic. The position may affect the availability of certain information and methods within the trigger context for the rules and event handlers. Please refer to the individual event types for more detail. IBM OpenPages with Watson Trigger Developer Guide 9 of 47 Transactions query.objects position This defines the position where the trigger should be executed, whether before or after the operation completes execution. The possible values are: PRE POST Before execution After execution IBM OpenPages with Watson Trigger Developer Guide 12 of'"
      ]
     },
     "execution_count": 30,
     "metadata": {},
     "output_type": "execute_result"
    }
   ],
   "source": [
    "%%time\n",
    "query = \"What is the difference between PRE and POST position in Triggers?\"\n",
    "qa1.run(query)"
   ]
  },
  {
   "cell_type": "code",
   "execution_count": 31,
   "metadata": {
    "tags": []
   },
   "outputs": [
    {
     "name": "stdout",
     "output_type": "stream",
     "text": [
      "CPU times: user 31.2 ms, sys: 2.37 ms, total: 33.6 ms\n",
      "Wall time: 4.45 s\n"
     ]
    },
    {
     "data": {
      "text/plain": [
       "'Super Administrators can delegate user administration permissions to other administrators. For more information, see “Delegate administrator permissions” on page 42. For example, a Super Administrator can delegate user provisioning functions to other administrators. For more information, see “Administrator permissions for user-provisioning functions” on page 43. A Super Administrator is specified during the installation process. The Super Administrator user is a member of a group named OPAdministrators. For more information about the OPAdministrators group, see “The OPAdministrators group” on page 39. Question: List the user administration permissions that can be delegated. Answer: Super Administrators can delegate user administration permissions to other administrators. For more information, see “Delegate administrator permissions” on page 42. For example, a Super Administrator can delegate user provisioning functions to other administrators. For more information,'"
      ]
     },
     "execution_count": 31,
     "metadata": {},
     "output_type": "execute_result"
    }
   ],
   "source": [
    "%%time\n",
    "query = \"List the user administration permissions that can be delegated.\"\n",
    "qa1.run(query)"
   ]
  },
  {
   "cell_type": "code",
   "execution_count": null,
   "metadata": {},
   "outputs": [],
   "source": []
  }
 ],
 "metadata": {
  "kernelspec": {
   "display_name": "llmenv:Python",
   "language": "python",
   "name": "conda-env-llmenv-py"
  },
  "language_info": {
   "codemirror_mode": {
    "name": "ipython",
    "version": 3
   },
   "file_extension": ".py",
   "mimetype": "text/x-python",
   "name": "python",
   "nbconvert_exporter": "python",
   "pygments_lexer": "ipython3",
   "version": "3.11.5"
  }
 },
 "nbformat": 4,
 "nbformat_minor": 4
}
