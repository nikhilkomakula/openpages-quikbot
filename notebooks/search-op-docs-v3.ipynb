{
 "cells": [
  {
   "cell_type": "markdown",
   "metadata": {},
   "source": [
    "# v3 - as-is from v2 but added PromptTemplate"
   ]
  },
  {
   "cell_type": "code",
   "execution_count": 1,
   "metadata": {
    "tags": []
   },
   "outputs": [],
   "source": [
    "# imports\n",
    "import os\n",
    "from dotenv import load_dotenv\n",
    "from genai.schemas import GenerateParams\n",
    "from genai.credentials import Credentials\n",
    "from langchain.vectorstores import Chroma\n",
    "from genai.extensions.langchain import LangChainInterface\n",
    "from langchain.text_splitter import CharacterTextSplitter, RecursiveCharacterTextSplitter, TokenTextSplitter\n",
    "from langchain.document_loaders import PDFMinerLoader\n",
    "from langchain.chains.question_answering import load_qa_chain\n",
    "from langchain.embeddings.sentence_transformer import SentenceTransformerEmbeddings\n",
    "from langchain.embeddings import HuggingFaceEmbeddings\n",
    "from langchain.chains import RetrievalQA"
   ]
  },
  {
   "cell_type": "markdown",
   "metadata": {},
   "source": [
    "## Indexing - Starts here!"
   ]
  },
  {
   "cell_type": "code",
   "execution_count": 2,
   "metadata": {
    "tags": []
   },
   "outputs": [],
   "source": [
    "# variables\n",
    "pdf_folder_path = './data'\n",
    "db_folder_path = './db_v3'"
   ]
  },
  {
   "cell_type": "code",
   "execution_count": 3,
   "metadata": {
    "tags": []
   },
   "outputs": [],
   "source": [
    "# define embedding function\n",
    "def initEmbedFunc():\n",
    "    embedding_function = SentenceTransformerEmbeddings(model_name=\"all-MiniLM-L6-v2\")\n",
    "    return embedding_function"
   ]
  },
  {
   "cell_type": "code",
   "execution_count": 4,
   "metadata": {
    "tags": []
   },
   "outputs": [],
   "source": [
    "# populate chroma db\n",
    "def generateDB():\n",
    "    docs = []\n",
    "    for root, dirs, files in os.walk(pdf_folder_path):\n",
    "        for file in files:\n",
    "            if file.endswith(\".pdf\"):\n",
    "                print(f'Reading File: {file}')\n",
    "                \n",
    "                # read PDF\n",
    "                loader = PDFMinerLoader(os.path.join(root, file))\n",
    "                documents = loader.load()\n",
    "\n",
    "                # load the document and split it into chunks\n",
    "                text_splitter = RecursiveCharacterTextSplitter(\n",
    "                                    chunk_size=1000, \n",
    "                                    chunk_overlap=200,\n",
    "                                    separators=[\"\\n\"]\n",
    "                )\n",
    "                temp = text_splitter.split_documents(documents)\n",
    "                \n",
    "                # append to docs\n",
    "                docs += temp\n",
    "\n",
    "    # create the open-source embedding function\n",
    "    embedding_function = initEmbedFunc()\n",
    "\n",
    "    # save to disk\n",
    "    db = Chroma.from_documents(docs, embedding_function, persist_directory=db_folder_path)\n",
    "    \n",
    "    return db"
   ]
  },
  {
   "cell_type": "code",
   "execution_count": 5,
   "metadata": {
    "tags": []
   },
   "outputs": [
    {
     "name": "stdout",
     "output_type": "stream",
     "text": [
      "Chroma DB is not empty.\n"
     ]
    }
   ],
   "source": [
    "db = None\n",
    "\n",
    "if [f for f in os.listdir(db_folder_path) if not f.startswith('.')] == []:\n",
    "    print(\"Chroma DB is empty. Generating indexes...\")\n",
    "    \n",
    "    # generate chroma db\n",
    "    db = generateDB()\n",
    "else:\n",
    "    print(\"Chroma DB is not empty.\")\n",
    "\n",
    "    # create the open-source embedding function\n",
    "    embedding_function = initEmbedFunc()\n",
    "\n",
    "    # load from disk\n",
    "    db = Chroma(persist_directory=db_folder_path, embedding_function=embedding_function)"
   ]
  },
  {
   "cell_type": "markdown",
   "metadata": {},
   "source": [
    "## RAG - Starts here!"
   ]
  },
  {
   "cell_type": "code",
   "execution_count": 6,
   "metadata": {
    "tags": []
   },
   "outputs": [],
   "source": [
    "# retrieve the watsonx.ai credentials\n",
    "load_dotenv()\n",
    "api_key = os.getenv(\"GENAI_KEY\", None)\n",
    "api_url = os.getenv(\"GENAI_API\", None)\n",
    "creds = Credentials(api_key, api_endpoint=api_url)"
   ]
  },
  {
   "cell_type": "code",
   "execution_count": 312,
   "metadata": {
    "tags": []
   },
   "outputs": [],
   "source": [
    "# variables\n",
    "# ibm/mpt-7b-instruct -> 3/5\n",
    "# meta-llama/llama-2-7b -> 3/5\n",
    "# ibm/granite-13b-sft -> 3/5\n",
    "# google/ul2 -> 3.5/5\n",
    "# google/flan-ul2 -> Short Answers\n",
    "# google/flan-t5-xl -> Short Answers\n",
    "# google/flan-t5-xxl -> Short Answers\n",
    "# meta-llama/llama-2-13b-chat\n",
    "# meta-llama/llama-2-13b-chat-beam\n",
    "model_id = 'meta-llama/llama-2-13b-chat-beam'"
   ]
  },
  {
   "cell_type": "code",
   "execution_count": 313,
   "metadata": {
    "tags": []
   },
   "outputs": [],
   "source": [
    "# # generate LLM params\n",
    "params = GenerateParams(\n",
    "            decoding_method='greedy', \n",
    "            min_new_tokens=1,\n",
    "            max_new_tokens=200,\n",
    "            stream=False,\n",
    "            repetition_penalty=1.2)\n",
    "\n",
    "# params = GenerateParams(\n",
    "#     decoding_method=\"sample\",\n",
    "#     max_new_tokens=200,\n",
    "#     min_new_tokens=1,\n",
    "#     stream=False,\n",
    "#     temperature=0.55,\n",
    "#     top_k=50,\n",
    "#     top_p=1,\n",
    "#     repetition_penalty=1.5\n",
    "# )"
   ]
  },
  {
   "cell_type": "code",
   "execution_count": 314,
   "metadata": {
    "tags": []
   },
   "outputs": [],
   "source": [
    "# create a langchain interface to use with retrieved content\n",
    "langchain_model = LangChainInterface(model=model_id, params=params, credentials=creds)"
   ]
  },
  {
   "cell_type": "code",
   "execution_count": 315,
   "metadata": {
    "tags": []
   },
   "outputs": [],
   "source": [
    "# create retrieval QA\n",
    "qa = RetrievalQA.from_chain_type(\n",
    "        llm=langchain_model,\n",
    "        chain_type=\"stuff\",\n",
    "        retriever=db.as_retriever(search_type=\"similarity\", search_kwargs={\"k\": 2}),\n",
    "        return_source_documents=True\n",
    ")"
   ]
  },
  {
   "cell_type": "code",
   "execution_count": 316,
   "metadata": {
    "tags": []
   },
   "outputs": [],
   "source": [
    "# generate response\n",
    "def generateResponse(query, qa):    \n",
    "    generated_text = qa(query)\n",
    "    answer = generated_text['result']\n",
    "    return answer   "
   ]
  },
  {
   "cell_type": "markdown",
   "metadata": {},
   "source": [
    "## Testing - Starts here!"
   ]
  },
  {
   "cell_type": "code",
   "execution_count": 317,
   "metadata": {
    "tags": []
   },
   "outputs": [
    {
     "name": "stdout",
     "output_type": "stream",
     "text": [
      "CPU times: user 40.6 ms, sys: 4.07 ms, total: 44.7 ms\n",
      "Wall time: 988 ms\n"
     ]
    },
    {
     "data": {
      "text/plain": [
       "' To configure Watson Assistant in OpenPages, follow these steps:\\n\\nStep 1: Configure an assistant.\\n\\nStep 2: Integrate the assistant with OpenPages.'"
      ]
     },
     "execution_count": 317,
     "metadata": {},
     "output_type": "execute_result"
    }
   ],
   "source": [
    "%%time\n",
    "query = \"Provide the steps to configure Watson Assistant in OpenPages?\"\n",
    "generateResponse(query, qa)"
   ]
  },
  {
   "cell_type": "code",
   "execution_count": 318,
   "metadata": {
    "tags": []
   },
   "outputs": [
    {
     "name": "stdout",
     "output_type": "stream",
     "text": [
      "CPU times: user 31.7 ms, sys: 0 ns, total: 31.7 ms\n",
      "Wall time: 1.27 s\n"
     ]
    },
    {
     "data": {
      "text/plain": [
       "' FastMap is a tool used for data import and validation in OpenPages. It allows users to quickly and easily import large amounts of data into OpenPages applications, and validates the data against predefined profiles to ensure it meets certain standards.'"
      ]
     },
     "execution_count": 318,
     "metadata": {},
     "output_type": "execute_result"
    }
   ],
   "source": [
    "%%time\n",
    "query = \"What is FastMap?\"\n",
    "generateResponse(query, qa)"
   ]
  },
  {
   "cell_type": "code",
   "execution_count": 319,
   "metadata": {
    "tags": []
   },
   "outputs": [
    {
     "name": "stdout",
     "output_type": "stream",
     "text": [
      "CPU times: user 31 ms, sys: 512 µs, total: 31.5 ms\n",
      "Wall time: 983 ms\n"
     ]
    },
    {
     "data": {
      "text/plain": [
       "' Reporting Periods allow organizations to track their financial activities over time, providing valuable insights into their financial health and helping them make informed decisions about future investments and resource allocation.'"
      ]
     },
     "execution_count": 319,
     "metadata": {},
     "output_type": "execute_result"
    }
   ],
   "source": [
    "%%time\n",
    "query = \"What is the purpose of Reporting Periods?\"\n",
    "generateResponse(query, qa)"
   ]
  },
  {
   "cell_type": "code",
   "execution_count": 320,
   "metadata": {
    "tags": []
   },
   "outputs": [
    {
     "name": "stdout",
     "output_type": "stream",
     "text": [
      "CPU times: user 30.5 ms, sys: 416 µs, total: 30.9 ms\n",
      "Wall time: 832 ms\n"
     ]
    },
    {
     "data": {
      "text/plain": [
       "' A Role Template is a security object used to define all aspects of application security for various groups and users within a business unit.'"
      ]
     },
     "execution_count": 320,
     "metadata": {},
     "output_type": "execute_result"
    }
   ],
   "source": [
    "%%time\n",
    "query = \"What is a Role Template?\"\n",
    "generateResponse(query, qa)"
   ]
  },
  {
   "cell_type": "code",
   "execution_count": 321,
   "metadata": {
    "tags": []
   },
   "outputs": [
    {
     "name": "stdout",
     "output_type": "stream",
     "text": [
      "CPU times: user 31.9 ms, sys: 415 µs, total: 32.3 ms\n",
      "Wall time: 941 ms\n"
     ]
    },
    {
     "data": {
      "text/plain": [
       "' The different access controls available for non-participants for a standard stage within a workflow include \"Strict\", \"Read\", \"Open\", and \"No Override\".'"
      ]
     },
     "execution_count": 321,
     "metadata": {},
     "output_type": "execute_result"
    }
   ],
   "source": [
    "%%time\n",
    "query = \"What are the different access controls available for non-participants for a standard stage within a workflow?\"\n",
    "generateResponse(query, qa)"
   ]
  },
  {
   "cell_type": "code",
   "execution_count": 322,
   "metadata": {
    "tags": []
   },
   "outputs": [
    {
     "name": "stdout",
     "output_type": "stream",
     "text": [
      "CPU times: user 36.2 ms, sys: 338 µs, total: 36.6 ms\n",
      "Wall time: 729 ms\n"
     ]
    },
    {
     "data": {
      "text/plain": [
       "' To automatically modify objects in the IBM OpenPages with Watson repository based on rule-based operations contained in a ruleset.'"
      ]
     },
     "execution_count": 322,
     "metadata": {},
     "output_type": "execute_result"
    }
   ],
   "source": [
    "%%time\n",
    "query = \"What is the purpose of Object Reset?\"\n",
    "generateResponse(query, qa)"
   ]
  },
  {
   "cell_type": "code",
   "execution_count": 323,
   "metadata": {
    "tags": []
   },
   "outputs": [
    {
     "name": "stdout",
     "output_type": "stream",
     "text": [
      "CPU times: user 32.1 ms, sys: 0 ns, total: 32.1 ms\n",
      "Wall time: 1.26 s\n"
     ]
    },
    {
     "data": {
      "text/plain": [
       "' The features of Operational Risk Management in OpenPages include Loss Events, Risk and Control Self-Assessment, Scenario Analysis, External Losses, Key Risk Indicators, and Integration with other systems.'"
      ]
     },
     "execution_count": 323,
     "metadata": {},
     "output_type": "execute_result"
    }
   ],
   "source": [
    "%%time\n",
    "query = \"What are the features of Operational Risk Management in OpenPages?\"\n",
    "generateResponse(query, qa)"
   ]
  },
  {
   "cell_type": "code",
   "execution_count": 324,
   "metadata": {
    "tags": []
   },
   "outputs": [
    {
     "name": "stdout",
     "output_type": "stream",
     "text": [
      "CPU times: user 32.7 ms, sys: 45 µs, total: 32.7 ms\n",
      "Wall time: 828 ms\n"
     ]
    },
    {
     "data": {
      "text/plain": [
       "' In IBM Openpages with Watson, PRE triggers execute before the actual operation is performed, while POST triggers execute after the operation has been performed.'"
      ]
     },
     "execution_count": 324,
     "metadata": {},
     "output_type": "execute_result"
    }
   ],
   "source": [
    "%%time\n",
    "query = \"What is the difference between PRE and POST position in Triggers?\"\n",
    "generateResponse(query, qa)"
   ]
  },
  {
   "cell_type": "code",
   "execution_count": 325,
   "metadata": {},
   "outputs": [
    {
     "name": "stdout",
     "output_type": "stream",
     "text": [
      "CPU times: user 32.2 ms, sys: 320 µs, total: 32.6 ms\n",
      "Wall time: 1.9 s\n"
     ]
    },
    {
     "data": {
      "text/plain": [
       "' You can use any system variable that has been defined in your configuration file or in a specific application. Some common system variables include $END_USER$, $TODAY$, $DAYS_FROM_NOW$, $APPLICATION_URL$, $COGNOS_URL$, $SETTING/, $TASK_VIEW_URL$.'"
      ]
     },
     "execution_count": 325,
     "metadata": {},
     "output_type": "execute_result"
    }
   ],
   "source": [
    "%%time\n",
    "query = \"List all the System variables that could be used in expressions?\"\n",
    "generateResponse(query, qa)"
   ]
  },
  {
   "cell_type": "code",
   "execution_count": 326,
   "metadata": {},
   "outputs": [
    {
     "name": "stdout",
     "output_type": "stream",
     "text": [
      "CPU times: user 31.5 ms, sys: 299 µs, total: 31.8 ms\n",
      "Wall time: 1.53 s\n"
     ]
    },
    {
     "data": {
      "text/plain": [
       "' Based on the provided text, some of the key features of Business Continuity Management in OpenPages include centralizing business continuity data, establishing and monitoring impact tolerance thresholds, performing business impact analyses, developing business continuity plans, and automating the association of regulations impacted by regulatory events.'"
      ]
     },
     "execution_count": 326,
     "metadata": {},
     "output_type": "execute_result"
    }
   ],
   "source": [
    "%%time\n",
    "query = \"What are the features of Business Continuity Management in OpenPages?\"\n",
    "generateResponse(query, qa)"
   ]
  },
  {
   "cell_type": "code",
   "execution_count": 327,
   "metadata": {},
   "outputs": [
    {
     "name": "stdout",
     "output_type": "stream",
     "text": [
      "CPU times: user 32 ms, sys: 0 ns, total: 32 ms\n",
      "Wall time: 694 ms\n"
     ]
    },
    {
     "data": {
      "text/plain": [
       "' The attributes required to configure Detect Property Change Rule include \"fields\", \"check.for\", and \"type\".'"
      ]
     },
     "execution_count": 327,
     "metadata": {},
     "output_type": "execute_result"
    }
   ],
   "source": [
    "%%time\n",
    "query = \"Provide the attributes required to configure Detect Property Change Rule?\"\n",
    "generateResponse(query, qa)"
   ]
  },
  {
   "cell_type": "code",
   "execution_count": null,
   "metadata": {},
   "outputs": [],
   "source": []
  },
  {
   "cell_type": "code",
   "execution_count": 328,
   "metadata": {},
   "outputs": [],
   "source": [
    "from langchain import PromptTemplate\n",
    "\n",
    "# Define prompt\n",
    "template = \"\"\"Answer the question based on the context below. Keep the answer short and concise. Respond \"Unsure about answer\" if not sure about the answer.\n",
    "\n",
    "Context: {context}\n",
    "\n",
    "Question: {question}\n",
    "\n",
    "Answer: \"\"\"\n",
    "\n",
    "# instantiate prompt template\n",
    "prompt_template = PromptTemplate(\n",
    "    input_variables=[\"context\", \"question\"],\n",
    "    template=template\n",
    ")"
   ]
  },
  {
   "cell_type": "code",
   "execution_count": 329,
   "metadata": {},
   "outputs": [],
   "source": [
    "# create retrieval QA\n",
    "qa1 = RetrievalQA.from_chain_type(\n",
    "        llm=langchain_model,\n",
    "        chain_type=\"stuff\",\n",
    "        retriever=db.as_retriever(search_type=\"similarity\", search_kwargs={\"k\": 7}),\n",
    "        chain_type_kwargs={\"prompt\": prompt_template}\n",
    ")"
   ]
  },
  {
   "cell_type": "code",
   "execution_count": 330,
   "metadata": {},
   "outputs": [
    {
     "name": "stdout",
     "output_type": "stream",
     "text": [
      "CPU times: user 30.1 ms, sys: 1.12 ms, total: 31.3 ms\n",
      "Wall time: 3.3 s\n"
     ]
    },
    {
     "data": {
      "text/plain": [
       "' Based on the provided context, here are the steps to configure Watson Assistant in OpenPages:\\n\\nStep 1: Configure an assistant.\\n\\nStep 2: Integrate the assistant with OpenPages.\\n\\nStep 3: Define the skills that the assistant should have.\\n\\nStep 4: Map the inputs and outputs of the assistant.\\n\\nStep 5: Test the assistant to ensure it is functioning correctly.\\n\\nNote: These steps are based on the provided context and may vary depending on the specific requirements of the implementation.'"
      ]
     },
     "execution_count": 330,
     "metadata": {},
     "output_type": "execute_result"
    }
   ],
   "source": [
    "%%time\n",
    "query = \"Provide steps to configure Watson Assistant in OpenPages?\"\n",
    "qa1.run(query)"
   ]
  },
  {
   "cell_type": "code",
   "execution_count": 331,
   "metadata": {},
   "outputs": [
    {
     "name": "stdout",
     "output_type": "stream",
     "text": [
      "CPU times: user 36 ms, sys: 3.95 ms, total: 39.9 ms\n",
      "Wall time: 1.45 s\n"
     ]
    },
    {
     "data": {
      "text/plain": [
       "' FastMap is a feature within Oracle Enterprise Performance Management [EPM] Cloud that provides a simple way to import large amounts of data into EPM applications without having to write any code. It also helps to automate repetitive tasks and improve productivity.'"
      ]
     },
     "execution_count": 331,
     "metadata": {},
     "output_type": "execute_result"
    }
   ],
   "source": [
    "%%time\n",
    "query = \"What is FastMap?\"\n",
    "qa1.run(query)"
   ]
  },
  {
   "cell_type": "code",
   "execution_count": 332,
   "metadata": {},
   "outputs": [
    {
     "name": "stdout",
     "output_type": "stream",
     "text": [
      "CPU times: user 30.6 ms, sys: 1.6 ms, total: 32.2 ms\n",
      "Wall time: 1.53 s\n"
     ]
    },
    {
     "data": {
      "text/plain": [
       "' A reporting period is a defined scope of time during which financial transactions are recorded and reported on. It typically includes a start and end date, and may be divided into different sub-periods for various purposes, such as budgeting, forecasting, or financial reporting.'"
      ]
     },
     "execution_count": 332,
     "metadata": {},
     "output_type": "execute_result"
    }
   ],
   "source": [
    "%%time\n",
    "query = \"What is a Reporting Period?\"\n",
    "qa1.run(query)"
   ]
  },
  {
   "cell_type": "code",
   "execution_count": 333,
   "metadata": {},
   "outputs": [
    {
     "name": "stdout",
     "output_type": "stream",
     "text": [
      "CPU times: user 32.9 ms, sys: 74 µs, total: 33 ms\n",
      "Wall time: 440 ms\n"
     ]
    },
    {
     "data": {
      "text/plain": [
       "' Unsure about answer'"
      ]
     },
     "execution_count": 333,
     "metadata": {},
     "output_type": "execute_result"
    }
   ],
   "source": [
    "%%time\n",
    "query = \"What is a Role Template?\"\n",
    "qa1.run(query)"
   ]
  },
  {
   "cell_type": "code",
   "execution_count": 334,
   "metadata": {},
   "outputs": [
    {
     "name": "stdout",
     "output_type": "stream",
     "text": [
      "CPU times: user 29.2 ms, sys: 3.93 ms, total: 33.1 ms\n",
      "Wall time: 3.01 s\n"
     ]
    },
    {
     "data": {
      "text/plain": [
       "' Based on the given context, there are four different types of access controls available for non-participants for a standard stage within a workflow:\\n\\n1. Strict - Only the owner of the object can view and edit it.\\n2. Read - Non-participants can view the object but cannot edit it.\\n3. Open - Anyone can view and edit the object.\\n4. No Override - Standard access controls apply, and non-participants do not have any special access rights.'"
      ]
     },
     "execution_count": 334,
     "metadata": {},
     "output_type": "execute_result"
    }
   ],
   "source": [
    "%%time\n",
    "query = \"What are the different types of access controls available for non-participants for a standard stage within a workflow?\"\n",
    "qa1.run(query)"
   ]
  },
  {
   "cell_type": "code",
   "execution_count": 335,
   "metadata": {},
   "outputs": [
    {
     "name": "stdout",
     "output_type": "stream",
     "text": [
      "CPU times: user 24.5 ms, sys: 7.37 ms, total: 31.9 ms\n",
      "Wall time: 485 ms\n"
     ]
    },
    {
     "data": {
      "text/plain": [
       "' Unsure about answer'"
      ]
     },
     "execution_count": 335,
     "metadata": {},
     "output_type": "execute_result"
    }
   ],
   "source": [
    "%%time\n",
    "query = \"What is the purpose of Object Reset?\"\n",
    "qa1.run(query)"
   ]
  },
  {
   "cell_type": "code",
   "execution_count": 336,
   "metadata": {},
   "outputs": [
    {
     "name": "stdout",
     "output_type": "stream",
     "text": [
      "CPU times: user 32.2 ms, sys: 0 ns, total: 32.2 ms\n",
      "Wall time: 1.67 s\n"
     ]
    },
    {
     "data": {
      "text/plain": [
       "' The features of Operational Risk Management in OpenPages include Loss Events, Risk and Control Self Assessments (RCSA), Scenario Analysis, External Losses, Key Risk Indicators (KRI), and Issue Management and Remediation.'"
      ]
     },
     "execution_count": 336,
     "metadata": {},
     "output_type": "execute_result"
    }
   ],
   "source": [
    "%%time\n",
    "query = \"What are the features of Operational Risk Management in OpenPages?\"\n",
    "qa1.run(query)"
   ]
  },
  {
   "cell_type": "code",
   "execution_count": 337,
   "metadata": {},
   "outputs": [
    {
     "name": "stdout",
     "output_type": "stream",
     "text": [
      "CPU times: user 42.3 ms, sys: 2.72 ms, total: 45 ms\n",
      "Wall time: 495 ms\n"
     ]
    },
    {
     "data": {
      "text/plain": [
       "' Unsure about answer'"
      ]
     },
     "execution_count": 337,
     "metadata": {},
     "output_type": "execute_result"
    }
   ],
   "source": [
    "%%time\n",
    "query = \"What is the difference between PRE and POST position in Triggers?\"\n",
    "qa1.run(query)"
   ]
  },
  {
   "cell_type": "code",
   "execution_count": 338,
   "metadata": {},
   "outputs": [
    {
     "name": "stdout",
     "output_type": "stream",
     "text": [
      "CPU times: user 27.6 ms, sys: 4.42 ms, total: 32 ms\n",
      "Wall time: 1.43 s\n"
     ]
    },
    {
     "data": {
      "text/plain": [
       "' Based on the provided context, the following user administration permissions can be delegated:\\n\\n• Resetting passwords for users\\n\\n• Locking and unlocking users\\n\\n• Creating users and associating them to user groups and assigning role templates.'"
      ]
     },
     "execution_count": 338,
     "metadata": {},
     "output_type": "execute_result"
    }
   ],
   "source": [
    "%%time\n",
    "query = \"List the user administration permissions that can be delegated.\"\n",
    "qa1.run(query)"
   ]
  },
  {
   "cell_type": "code",
   "execution_count": null,
   "metadata": {},
   "outputs": [
    {
     "name": "stdout",
     "output_type": "stream",
     "text": [
      "CPU times: user 33.2 ms, sys: 420 µs, total: 33.6 ms\n",
      "Wall time: 2.93 s\n"
     ]
    },
    {
     "data": {
      "text/plain": [
       "' Variables that contain application data that can be used in expressions include:\\n\\n($END_USER$) User who is currently logged in.\\n\\n($TODAY$) Today’s date.\\n\\n($TASK_VIEW_URL$) URL to an object task view.\\n\\n($SYSTEM_FIELDS:TASK_VIEW_URL$) Deprecated. Use ($TASK_VIEW_URL$).\\n\\n($SETTING/OPENPAGES/...) Registry settings value.'"
      ]
     },
     "execution_count": 339,
     "metadata": {},
     "output_type": "execute_result"
    }
   ],
   "source": [
    "%%time\n",
    "query = \"What are the System variables that could be used in expressions?\"\n",
    "qa1.run(query)"
   ]
  },
  {
   "cell_type": "code",
   "execution_count": null,
   "metadata": {},
   "outputs": [],
   "source": []
  }
 ],
 "metadata": {
  "kernelspec": {
   "display_name": "llmenv:Python",
   "language": "python",
   "name": "conda-env-llmenv-py"
  },
  "language_info": {
   "codemirror_mode": {
    "name": "ipython",
    "version": 3
   },
   "file_extension": ".py",
   "mimetype": "text/x-python",
   "name": "python",
   "nbconvert_exporter": "python",
   "pygments_lexer": "ipython3",
   "version": "3.11.5"
  }
 },
 "nbformat": 4,
 "nbformat_minor": 4
}
